{
  "nbformat": 4,
  "nbformat_minor": 0,
  "metadata": {
    "colab": {
      "provenance": [],
      "authorship_tag": "ABX9TyN0m3C+xxNHSKnJir4z4kNz",
      "include_colab_link": true
    },
    "kernelspec": {
      "name": "python3",
      "display_name": "Python 3"
    },
    "language_info": {
      "name": "python"
    }
  },
  "cells": [
    {
      "cell_type": "markdown",
      "metadata": {
        "id": "view-in-github",
        "colab_type": "text"
      },
      "source": [
        "<a href=\"https://colab.research.google.com/github/neehasajja/waymo-opendataset/blob/main/extractmetadata.ipynb\" target=\"_parent\"><img src=\"https://colab.research.google.com/assets/colab-badge.svg\" alt=\"Open In Colab\"/></a>"
      ]
    },
    {
      "cell_type": "code",
      "execution_count": 1,
      "metadata": {
        "colab": {
          "base_uri": "https://localhost:8080/"
        },
        "id": "rFpRpCjHv4lU",
        "outputId": "33e91f67-1de9-4272-f028-e1554910e0bd"
      },
      "outputs": [
        {
          "output_type": "stream",
          "name": "stdout",
          "text": [
            "Mounted at /content/drive\n"
          ]
        }
      ],
      "source": [
        "from google.colab import drive\n",
        "drive.mount('/content/drive')\n"
      ]
    },
    {
      "cell_type": "markdown",
      "source": [
        "To use the data from google drive on google colab, mounting should be done."
      ],
      "metadata": {
        "id": "wvgMhKVKyE6G"
      }
    },
    {
      "cell_type": "code",
      "source": [
        "import os\n",
        "\n",
        "folder_path = \"/content/drive/MyDrive/testing\"\n",
        "\n",
        "# Get a list of all files in the folder\n",
        "files = os.listdir(folder_path)\n",
        "\n",
        "# Loop through each file and extract metadata\n",
        "for file in files:\n",
        "    file_path = os.path.join(folder_path, file)\n",
        "    file_stats = os.stat(file_path)\n",
        "    \n",
        "    # Extract metadata\n",
        "    file_size = file_stats.st_size\n",
        "    creation_time = file_stats.st_ctime\n",
        "    modification_time = file_stats.st_mtime\n",
        "    \n",
        "    # Print metadata\n",
        "    print(\"File name:\", file)\n",
        "    print(\"File size:\", file_size)\n",
        "    print(\"Creation time:\", creation_time)\n",
        "    print(\"Modification time:\", modification_time)"
      ],
      "metadata": {
        "colab": {
          "base_uri": "https://localhost:8080/"
        },
        "id": "ODRmRKFwv-D3",
        "outputId": "58cf4848-ac09-4b54-9417-32c5c31bf35c"
      },
      "execution_count": 2,
      "outputs": [
        {
          "output_type": "stream",
          "name": "stdout",
          "text": [
            "File name: projected_lidar_box\n",
            "File size: 4096\n",
            "Creation time: 1679580015.0\n",
            "Modification time: 1679580015.0\n",
            "File name: camera_segmentation\n",
            "File size: 4096\n",
            "Creation time: 1679580015.0\n",
            "Modification time: 1679580015.0\n",
            "File name: lidar_calibration\n",
            "File size: 4096\n",
            "Creation time: 1679580015.0\n",
            "Modification time: 1679580015.0\n",
            "File name: stats\n",
            "File size: 4096\n",
            "Creation time: 1679580015.0\n",
            "Modification time: 1679580015.0\n",
            "File name: lidar_box\n",
            "File size: 4096\n",
            "Creation time: 1679580015.0\n",
            "Modification time: 1679580015.0\n",
            "File name: camera_image\n",
            "File size: 4096\n",
            "Creation time: 1679580015.0\n",
            "Modification time: 1679580015.0\n",
            "File name: camera_to_lidar_box_association\n",
            "File size: 4096\n",
            "Creation time: 1679580015.0\n",
            "Modification time: 1679580015.0\n",
            "File name: camera_calibration\n",
            "File size: 4096\n",
            "Creation time: 1679580015.0\n",
            "Modification time: 1679580015.0\n",
            "File name: lidar_segmentation\n",
            "File size: 4096\n",
            "Creation time: 1679580015.0\n",
            "Modification time: 1679580015.0\n",
            "File name: lidar_pose\n",
            "File size: 4096\n",
            "Creation time: 1679580015.0\n",
            "Modification time: 1679580015.0\n",
            "File name: lidar_hkp\n",
            "File size: 4096\n",
            "Creation time: 1679580024.0\n",
            "Modification time: 1679580024.0\n",
            "File name: lidar_camera_projection\n",
            "File size: 4096\n",
            "Creation time: 1679580025.0\n",
            "Modification time: 1679580025.0\n",
            "File name: lidar\n",
            "File size: 4096\n",
            "Creation time: 1679580026.0\n",
            "Modification time: 1679580026.0\n",
            "File name: lidar_camera_synced_box\n",
            "File size: 4096\n",
            "Creation time: 1679580027.0\n",
            "Modification time: 1679580027.0\n",
            "File name: vehicle_pose\n",
            "File size: 4096\n",
            "Creation time: 1679580027.0\n",
            "Modification time: 1679580027.0\n",
            "File name: camera_box\n",
            "File size: 4096\n",
            "Creation time: 1679580028.0\n",
            "Modification time: 1679580028.0\n",
            "File name: camera_hkp\n",
            "File size: 4096\n",
            "Creation time: 1679580032.0\n",
            "Modification time: 1679580032.0\n"
          ]
        }
      ]
    }
  ]
}