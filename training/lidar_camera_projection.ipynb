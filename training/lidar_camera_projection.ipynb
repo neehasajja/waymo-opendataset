{
  "nbformat": 4,
  "nbformat_minor": 0,
  "metadata": {
    "colab": {
      "provenance": [],
      "machine_shape": "hm",
      "authorship_tag": "ABX9TyMpWCS9j2g0z3fkZ1f2lBBW",
      "include_colab_link": true
    },
    "kernelspec": {
      "name": "python3",
      "display_name": "Python 3"
    },
    "language_info": {
      "name": "python"
    },
    "gpuClass": "standard"
  },
  "cells": [
    {
      "cell_type": "markdown",
      "metadata": {
        "id": "view-in-github",
        "colab_type": "text"
      },
      "source": [
        "<a href=\"https://colab.research.google.com/github/neehasajja/waymo-opendataset/blob/main/training/lidar_camera_projection.ipynb\" target=\"_parent\"><img src=\"https://colab.research.google.com/assets/colab-badge.svg\" alt=\"Open In Colab\"/></a>"
      ]
    },
    {
      "cell_type": "code",
      "execution_count": 4,
      "metadata": {
        "colab": {
          "base_uri": "https://localhost:8080/"
        },
        "id": "wb3BDVeypYYA",
        "outputId": "a6f81e00-ace9-4e8f-9b26-a3f3fe777b67"
      },
      "outputs": [
        {
          "output_type": "stream",
          "name": "stdout",
          "text": [
            "Drive already mounted at /content/drive; to attempt to forcibly remount, call drive.mount(\"/content/drive\", force_remount=True).\n"
          ]
        }
      ],
      "source": [
        "from google.colab import drive\n",
        "drive.mount('/content/drive')\n"
      ]
    },
    {
      "cell_type": "code",
      "source": [
        "!pip3 install waymo-open-dataset-tf-2-6-0"
      ],
      "metadata": {
        "id": "Bw3OodIRpice"
      },
      "execution_count": null,
      "outputs": []
    },
    {
      "cell_type": "code",
      "source": [
        "import pyarrow.parquet as pq\n",
        "import pandas as pd\n",
        "\n",
        "# Set the path to the Parquet file\n",
        "parquet_file_path = '/content/drive/MyDrive/training/lidar_camera_projection/file1.parquet'\n",
        "\n",
        "# Read the Parquet file into a Pyarrow table\n",
        "table = pq.read_table(parquet_file_path)\n",
        "\n",
        "# Convert the table to a Pandas DataFrame\n",
        "df = table.to_pandas()\n",
        "\n",
        "# Print the first 10 rows of the DataFrame\n",
        "print(df.head(10))"
      ],
      "metadata": {
        "colab": {
          "base_uri": "https://localhost:8080/"
        },
        "id": "6bMG-acjqKMk",
        "outputId": "f000337d-2536-4755-bafa-7a322ad0263b"
      },
      "execution_count": 6,
      "outputs": [
        {
          "output_type": "stream",
          "name": "stdout",
          "text": [
            "                                                               key.segment_context_name  \\\n",
            "index                                                                                     \n",
            "15832924468527961_1564_160_1584_160;15076788268...  15832924468527961_1564_160_1584_160   \n",
            "15832924468527961_1564_160_1584_160;15076788268...  15832924468527961_1564_160_1584_160   \n",
            "15832924468527961_1564_160_1584_160;15076788268...  15832924468527961_1564_160_1584_160   \n",
            "15832924468527961_1564_160_1584_160;15076788268...  15832924468527961_1564_160_1584_160   \n",
            "15832924468527961_1564_160_1584_160;15076788268...  15832924468527961_1564_160_1584_160   \n",
            "15832924468527961_1564_160_1584_160;15076788269...  15832924468527961_1564_160_1584_160   \n",
            "15832924468527961_1564_160_1584_160;15076788269...  15832924468527961_1564_160_1584_160   \n",
            "15832924468527961_1564_160_1584_160;15076788269...  15832924468527961_1564_160_1584_160   \n",
            "15832924468527961_1564_160_1584_160;15076788269...  15832924468527961_1564_160_1584_160   \n",
            "15832924468527961_1564_160_1584_160;15076788269...  15832924468527961_1564_160_1584_160   \n",
            "\n",
            "                                                    key.frame_timestamp_micros  \\\n",
            "index                                                                            \n",
            "15832924468527961_1564_160_1584_160;15076788268...            1507678826876435   \n",
            "15832924468527961_1564_160_1584_160;15076788268...            1507678826876435   \n",
            "15832924468527961_1564_160_1584_160;15076788268...            1507678826876435   \n",
            "15832924468527961_1564_160_1584_160;15076788268...            1507678826876435   \n",
            "15832924468527961_1564_160_1584_160;15076788268...            1507678826876435   \n",
            "15832924468527961_1564_160_1584_160;15076788269...            1507678826976463   \n",
            "15832924468527961_1564_160_1584_160;15076788269...            1507678826976463   \n",
            "15832924468527961_1564_160_1584_160;15076788269...            1507678826976463   \n",
            "15832924468527961_1564_160_1584_160;15076788269...            1507678826976463   \n",
            "15832924468527961_1564_160_1584_160;15076788269...            1507678826976463   \n",
            "\n",
            "                                                    key.laser_name  \\\n",
            "index                                                                \n",
            "15832924468527961_1564_160_1584_160;15076788268...               1   \n",
            "15832924468527961_1564_160_1584_160;15076788268...               2   \n",
            "15832924468527961_1564_160_1584_160;15076788268...               3   \n",
            "15832924468527961_1564_160_1584_160;15076788268...               4   \n",
            "15832924468527961_1564_160_1584_160;15076788268...               5   \n",
            "15832924468527961_1564_160_1584_160;15076788269...               1   \n",
            "15832924468527961_1564_160_1584_160;15076788269...               2   \n",
            "15832924468527961_1564_160_1584_160;15076788269...               3   \n",
            "15832924468527961_1564_160_1584_160;15076788269...               4   \n",
            "15832924468527961_1564_160_1584_160;15076788269...               5   \n",
            "\n",
            "                                                   [LiDARCameraProjectionComponent].range_image_return1.values  \\\n",
            "index                                                                                                            \n",
            "15832924468527961_1564_160_1584_160;15076788268...  [0.0, 0.0, 0.0, 0.0, 0.0, 0.0, 0.0, 0.0, 0.0, ...            \n",
            "15832924468527961_1564_160_1584_160;15076788268...  [0.0, 0.0, 0.0, 0.0, 0.0, 0.0, 0.0, 0.0, 0.0, ...            \n",
            "15832924468527961_1564_160_1584_160;15076788268...  [0.0, 0.0, 0.0, 0.0, 0.0, 0.0, 0.0, 0.0, 0.0, ...            \n",
            "15832924468527961_1564_160_1584_160;15076788268...  [0.0, 0.0, 0.0, 0.0, 0.0, 0.0, 0.0, 0.0, 0.0, ...            \n",
            "15832924468527961_1564_160_1584_160;15076788268...  [0.0, 0.0, 0.0, 0.0, 0.0, 0.0, 0.0, 0.0, 0.0, ...            \n",
            "15832924468527961_1564_160_1584_160;15076788269...  [0.0, 0.0, 0.0, 0.0, 0.0, 0.0, 0.0, 0.0, 0.0, ...            \n",
            "15832924468527961_1564_160_1584_160;15076788269...  [0.0, 0.0, 0.0, 0.0, 0.0, 0.0, 0.0, 0.0, 0.0, ...            \n",
            "15832924468527961_1564_160_1584_160;15076788269...  [0.0, 0.0, 0.0, 0.0, 0.0, 0.0, 0.0, 0.0, 0.0, ...            \n",
            "15832924468527961_1564_160_1584_160;15076788269...  [0.0, 0.0, 0.0, 0.0, 0.0, 0.0, 0.0, 0.0, 0.0, ...            \n",
            "15832924468527961_1564_160_1584_160;15076788269...  [0.0, 0.0, 0.0, 0.0, 0.0, 0.0, 0.0, 0.0, 0.0, ...            \n",
            "\n",
            "                                                   [LiDARCameraProjectionComponent].range_image_return1.shape  \\\n",
            "index                                                                                                           \n",
            "15832924468527961_1564_160_1584_160;15076788268...                                      [64, 2650, 6]           \n",
            "15832924468527961_1564_160_1584_160;15076788268...                                      [200, 600, 6]           \n",
            "15832924468527961_1564_160_1584_160;15076788268...                                      [200, 600, 6]           \n",
            "15832924468527961_1564_160_1584_160;15076788268...                                      [200, 600, 6]           \n",
            "15832924468527961_1564_160_1584_160;15076788268...                                      [200, 600, 6]           \n",
            "15832924468527961_1564_160_1584_160;15076788269...                                      [64, 2650, 6]           \n",
            "15832924468527961_1564_160_1584_160;15076788269...                                      [200, 600, 6]           \n",
            "15832924468527961_1564_160_1584_160;15076788269...                                      [200, 600, 6]           \n",
            "15832924468527961_1564_160_1584_160;15076788269...                                      [200, 600, 6]           \n",
            "15832924468527961_1564_160_1584_160;15076788269...                                      [200, 600, 6]           \n",
            "\n",
            "                                                   [LiDARCameraProjectionComponent].range_image_return2.values  \\\n",
            "index                                                                                                            \n",
            "15832924468527961_1564_160_1584_160;15076788268...  [0.0, 0.0, 0.0, 0.0, 0.0, 0.0, 0.0, 0.0, 0.0, ...            \n",
            "15832924468527961_1564_160_1584_160;15076788268...  [0.0, 0.0, 0.0, 0.0, 0.0, 0.0, 0.0, 0.0, 0.0, ...            \n",
            "15832924468527961_1564_160_1584_160;15076788268...  [0.0, 0.0, 0.0, 0.0, 0.0, 0.0, 0.0, 0.0, 0.0, ...            \n",
            "15832924468527961_1564_160_1584_160;15076788268...  [0.0, 0.0, 0.0, 0.0, 0.0, 0.0, 0.0, 0.0, 0.0, ...            \n",
            "15832924468527961_1564_160_1584_160;15076788268...  [0.0, 0.0, 0.0, 0.0, 0.0, 0.0, 0.0, 0.0, 0.0, ...            \n",
            "15832924468527961_1564_160_1584_160;15076788269...  [0.0, 0.0, 0.0, 0.0, 0.0, 0.0, 0.0, 0.0, 0.0, ...            \n",
            "15832924468527961_1564_160_1584_160;15076788269...  [0.0, 0.0, 0.0, 0.0, 0.0, 0.0, 0.0, 0.0, 0.0, ...            \n",
            "15832924468527961_1564_160_1584_160;15076788269...  [0.0, 0.0, 0.0, 0.0, 0.0, 0.0, 0.0, 0.0, 0.0, ...            \n",
            "15832924468527961_1564_160_1584_160;15076788269...  [0.0, 0.0, 0.0, 0.0, 0.0, 0.0, 0.0, 0.0, 0.0, ...            \n",
            "15832924468527961_1564_160_1584_160;15076788269...  [0.0, 0.0, 0.0, 0.0, 0.0, 0.0, 0.0, 0.0, 0.0, ...            \n",
            "\n",
            "                                                   [LiDARCameraProjectionComponent].range_image_return2.shape  \n",
            "index                                                                                                          \n",
            "15832924468527961_1564_160_1584_160;15076788268...                                      [64, 2650, 6]          \n",
            "15832924468527961_1564_160_1584_160;15076788268...                                      [200, 600, 6]          \n",
            "15832924468527961_1564_160_1584_160;15076788268...                                      [200, 600, 6]          \n",
            "15832924468527961_1564_160_1584_160;15076788268...                                      [200, 600, 6]          \n",
            "15832924468527961_1564_160_1584_160;15076788268...                                      [200, 600, 6]          \n",
            "15832924468527961_1564_160_1584_160;15076788269...                                      [64, 2650, 6]          \n",
            "15832924468527961_1564_160_1584_160;15076788269...                                      [200, 600, 6]          \n",
            "15832924468527961_1564_160_1584_160;15076788269...                                      [200, 600, 6]          \n",
            "15832924468527961_1564_160_1584_160;15076788269...                                      [200, 600, 6]          \n",
            "15832924468527961_1564_160_1584_160;15076788269...                                      [200, 600, 6]          \n"
          ]
        }
      ]
    },
    {
      "cell_type": "code",
      "source": [
        "print(df.columns)"
      ],
      "metadata": {
        "colab": {
          "base_uri": "https://localhost:8080/"
        },
        "id": "l1bjVesotU_I",
        "outputId": "f2b4ebad-e791-42a1-e277-898a5ebdae8e"
      },
      "execution_count": 4,
      "outputs": [
        {
          "output_type": "stream",
          "name": "stdout",
          "text": [
            "Index(['key.segment_context_name', 'key.frame_timestamp_micros',\n",
            "       'key.laser_name',\n",
            "       '[LiDARCameraProjectionComponent].range_image_return1.values',\n",
            "       '[LiDARCameraProjectionComponent].range_image_return1.shape',\n",
            "       '[LiDARCameraProjectionComponent].range_image_return2.values',\n",
            "       '[LiDARCameraProjectionComponent].range_image_return2.shape'],\n",
            "      dtype='object')\n"
          ]
        }
      ]
    },
    {
      "cell_type": "code",
      "source": [
        "import numpy as np\n",
        "import matplotlib.pyplot as plt\n",
        "import pandas as pd\n",
        "\n",
        "# Load the lidar_camera_projection data into a DataFrame\n",
        "df = pd.read_parquet('/content/drive/MyDrive/training/lidar_camera_projection/file1.parquet')\n",
        "\n",
        "# Extract the range images for return1 and return2\n",
        "range_image1 = np.array(df['[LiDARCameraProjectionComponent].range_image_return1.values'][0])\n",
        "range_image2 = np.array(df['[LiDARCameraProjectionComponent].range_image_return2.values'][0])\n",
        "\n",
        "# Visualize the range images using Matplotlib\n",
        "fig, ax = plt.subplots(nrows=1, ncols=2, figsize=(10, 5))\n",
        "ax[0].imshow(range_image1, cmap='gray')\n",
        "ax[1].imshow(range_image2, cmap='gray')\n",
        "ax[0].set_title('Range Image 1')\n",
        "ax[1].set_title('Range Image 2')\n",
        "plt.show()"
      ],
      "metadata": {
        "id": "RwaMsrEMt2e1"
      },
      "execution_count": null,
      "outputs": []
    },
    {
      "cell_type": "code",
      "source": [
        "!cat /proc/meminfo | grep 'MemAvailable'"
      ],
      "metadata": {
        "colab": {
          "base_uri": "https://localhost:8080/"
        },
        "id": "pCxNHUK5Ayzw",
        "outputId": "d838b5b3-2ae5-4d84-ed0e-b4ee986b3a17"
      },
      "execution_count": 1,
      "outputs": [
        {
          "output_type": "stream",
          "name": "stdout",
          "text": [
            "MemAvailable:   25454244 kB\n"
          ]
        }
      ]
    },
    {
      "cell_type": "code",
      "source": [
        "!cat /proc/meminfo | grep 'MemAvailable' | awk '{print $2/1024/1024 \" GB\"}'"
      ],
      "metadata": {
        "colab": {
          "base_uri": "https://localhost:8080/"
        },
        "id": "2Yx9OpIWA4pl",
        "outputId": "23cb528c-554b-42f6-9766-1c55f3edbd66"
      },
      "execution_count": 2,
      "outputs": [
        {
          "output_type": "stream",
          "name": "stdout",
          "text": [
            "24.2468 GB\n"
          ]
        }
      ]
    }
  ]
}