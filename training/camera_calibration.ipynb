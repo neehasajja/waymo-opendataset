{
  "nbformat": 4,
  "nbformat_minor": 0,
  "metadata": {
    "colab": {
      "provenance": [],
      "authorship_tag": "ABX9TyMbjYiGV9z4w6oXY1pOPcwj",
      "include_colab_link": true
    },
    "kernelspec": {
      "name": "python3",
      "display_name": "Python 3"
    },
    "language_info": {
      "name": "python"
    }
  },
  "cells": [
    {
      "cell_type": "markdown",
      "metadata": {
        "id": "view-in-github",
        "colab_type": "text"
      },
      "source": [
        "<a href=\"https://colab.research.google.com/github/neehasajja/waymo-opendataset/blob/main/training/camera_calibration.ipynb\" target=\"_parent\"><img src=\"https://colab.research.google.com/assets/colab-badge.svg\" alt=\"Open In Colab\"/></a>"
      ]
    },
    {
      "cell_type": "code",
      "execution_count": 1,
      "metadata": {
        "id": "HW1MjRuVbz34",
        "colab": {
          "base_uri": "https://localhost:8080/"
        },
        "outputId": "4f3f1949-4515-4f6b-b1f6-f860a4a608a1"
      },
      "outputs": [
        {
          "output_type": "stream",
          "name": "stdout",
          "text": [
            "Mounted at /content/drive\n"
          ]
        }
      ],
      "source": [
        "from google.colab import drive\n",
        "drive.mount('/content/drive')"
      ]
    },
    {
      "cell_type": "code",
      "source": [
        "!pip3 install waymo-open-dataset-tf-2-6-0"
      ],
      "metadata": {
        "id": "hMOwBGtAc39-"
      },
      "execution_count": null,
      "outputs": []
    },
    {
      "cell_type": "code",
      "source": [
        "import os\n",
        "import pyarrow.parquet as pq\n",
        "\n",
        "import tensorflow as tf\n",
        "\n",
        "folder_path = '/content/drive/MyDrive/training/'\n",
        "\n",
        "for filename in os.listdir(folder_path):\n",
        "    if filename.endswith('.tfrecord'):\n",
        "        file_path = os.path.join(folder_path, filename)\n",
        "        expected_size = os.path.getsize(file_path)\n",
        "        print(f\"File: {filename} | Expected size: {expected_size} bytes\")\n",
        "\n",
        "        # Get the actual size of the file\n",
        "        actual_size = 0\n",
        "        for record in tf.data.TFRecordDataset(file_path):\n",
        "            actual_size += int(record.numpy().size)\n",
        "        \n",
        "        print(f\"Actual size: {actual_size} bytes\\n\")"
      ],
      "metadata": {
        "id": "UcOGj4DBdSmA"
      },
      "execution_count": 3,
      "outputs": []
    },
    {
      "cell_type": "code",
      "source": [
        "import pyarrow.parquet as pq\n",
        "import pandas as pd\n",
        "\n",
        "# Set the path to the Parquet file\n",
        "parquet_file_path = '/content/drive/MyDrive/training/camera_calibration/file1.parquet'\n",
        "\n",
        "# Read the Parquet file into a Pyarrow table\n",
        "table = pq.read_table(parquet_file_path)\n",
        "\n",
        "# Convert the table to a Pandas DataFrame\n",
        "df = table.to_pandas()\n",
        "\n",
        "# Print the first 10 rows of the DataFrame\n",
        "print(df.head(10))"
      ],
      "metadata": {
        "colab": {
          "base_uri": "https://localhost:8080/"
        },
        "id": "Y4IMECbcdYml",
        "outputId": "35e1cdd4-8c3b-4b6d-cd4b-d2e7be7610b2"
      },
      "execution_count": 4,
      "outputs": [
        {
          "output_type": "stream",
          "name": "stdout",
          "text": [
            "              key.segment_context_name  key.camera_name  \\\n",
            "0  15832924468527961_1564_160_1584_160                1   \n",
            "1  15832924468527961_1564_160_1584_160                2   \n",
            "2  15832924468527961_1564_160_1584_160                3   \n",
            "3  15832924468527961_1564_160_1584_160                4   \n",
            "4  15832924468527961_1564_160_1584_160                5   \n",
            "\n",
            "   [CameraCalibrationComponent].intrinsic.f_u  \\\n",
            "0                                 2084.215657   \n",
            "1                                 2075.391189   \n",
            "2                                 2082.850280   \n",
            "3                                 2080.064055   \n",
            "4                                 2073.930686   \n",
            "\n",
            "   [CameraCalibrationComponent].intrinsic.f_v  \\\n",
            "0                                 2084.215657   \n",
            "1                                 2075.391189   \n",
            "2                                 2082.850280   \n",
            "3                                 2080.064055   \n",
            "4                                 2073.930686   \n",
            "\n",
            "   [CameraCalibrationComponent].intrinsic.c_u  \\\n",
            "0                                  982.699407   \n",
            "1                                  985.465578   \n",
            "2                                  959.304761   \n",
            "3                                  980.594824   \n",
            "4                                  967.085440   \n",
            "\n",
            "   [CameraCalibrationComponent].intrinsic.c_v  \\\n",
            "0                                  647.342288   \n",
            "1                                  637.156805   \n",
            "2                                  652.411955   \n",
            "3                                  245.663672   \n",
            "4                                  243.420947   \n",
            "\n",
            "   [CameraCalibrationComponent].intrinsic.k1  \\\n",
            "0                                   0.055223   \n",
            "1                                   0.051347   \n",
            "2                                   0.046382   \n",
            "3                                   0.050411   \n",
            "4                                   0.041264   \n",
            "\n",
            "   [CameraCalibrationComponent].intrinsic.k2  \\\n",
            "0                                  -0.360093   \n",
            "1                                  -0.370871   \n",
            "2                                  -0.345911   \n",
            "3                                  -0.365051   \n",
            "4                                  -0.336205   \n",
            "\n",
            "   [CameraCalibrationComponent].intrinsic.p1  \\\n",
            "0                                   0.000621   \n",
            "1                                   0.001041   \n",
            "2                                   0.001909   \n",
            "3                                   0.000946   \n",
            "4                                   0.000651   \n",
            "\n",
            "   [CameraCalibrationComponent].intrinsic.p2  \\\n",
            "0                                   0.001397   \n",
            "1                                   0.001834   \n",
            "2                                  -0.000629   \n",
            "3                                  -0.000058   \n",
            "4                                   0.000689   \n",
            "\n",
            "   [CameraCalibrationComponent].intrinsic.k3  \\\n",
            "0                                        0.0   \n",
            "1                                        0.0   \n",
            "2                                        0.0   \n",
            "3                                        0.0   \n",
            "4                                        0.0   \n",
            "\n",
            "    [CameraCalibrationComponent].extrinsic.transform  \\\n",
            "0  [0.9996870267605353, -0.0030484762173332465, -...   \n",
            "1  [0.7051120615229415, -0.7087135816223076, -0.0...   \n",
            "2  [0.7082819701515733, 0.7058712467350413, 0.009...   \n",
            "3  [-0.004723640882063629, -0.9999551081018757, -...   \n",
            "4  [0.008003211252167682, 0.9999511583163075, 0.0...   \n",
            "\n",
            "   [CameraCalibrationComponent].width  [CameraCalibrationComponent].height  \\\n",
            "0                                1920                                 1280   \n",
            "1                                1920                                 1280   \n",
            "2                                1920                                 1280   \n",
            "3                                1920                                  886   \n",
            "4                                1920                                  886   \n",
            "\n",
            "   [CameraCalibrationComponent].rolling_shutter_direction  \n",
            "0                                                  4       \n",
            "1                                                  4       \n",
            "2                                                  4       \n",
            "3                                                  4       \n",
            "4                                                  4       \n"
          ]
        }
      ]
    },
    {
      "cell_type": "code",
      "source": [
        "print(df.columns)"
      ],
      "metadata": {
        "colab": {
          "base_uri": "https://localhost:8080/"
        },
        "id": "67LUah4HdfaL",
        "outputId": "d0282fca-7368-49c6-e4d4-c994cc686384"
      },
      "execution_count": 5,
      "outputs": [
        {
          "output_type": "stream",
          "name": "stdout",
          "text": [
            "Index(['key.segment_context_name', 'key.camera_name',\n",
            "       '[CameraCalibrationComponent].intrinsic.f_u',\n",
            "       '[CameraCalibrationComponent].intrinsic.f_v',\n",
            "       '[CameraCalibrationComponent].intrinsic.c_u',\n",
            "       '[CameraCalibrationComponent].intrinsic.c_v',\n",
            "       '[CameraCalibrationComponent].intrinsic.k1',\n",
            "       '[CameraCalibrationComponent].intrinsic.k2',\n",
            "       '[CameraCalibrationComponent].intrinsic.p1',\n",
            "       '[CameraCalibrationComponent].intrinsic.p2',\n",
            "       '[CameraCalibrationComponent].intrinsic.k3',\n",
            "       '[CameraCalibrationComponent].extrinsic.transform',\n",
            "       '[CameraCalibrationComponent].width',\n",
            "       '[CameraCalibrationComponent].height',\n",
            "       '[CameraCalibrationComponent].rolling_shutter_direction'],\n",
            "      dtype='object')\n"
          ]
        }
      ]
    },
    {
      "cell_type": "code",
      "source": [
        "df['key.camera_name']"
      ],
      "metadata": {
        "id": "b2wzptzjJfOU",
        "outputId": "449e4e63-01ae-4690-9718-c6ea9ec7beca",
        "colab": {
          "base_uri": "https://localhost:8080/"
        }
      },
      "execution_count": 6,
      "outputs": [
        {
          "output_type": "execute_result",
          "data": {
            "text/plain": [
              "0    1\n",
              "1    2\n",
              "2    3\n",
              "3    4\n",
              "4    5\n",
              "Name: key.camera_name, dtype: int8"
            ]
          },
          "metadata": {},
          "execution_count": 6
        }
      ]
    },
    {
      "cell_type": "code",
      "source": [
        "import pyarrow.parquet as pq\n",
        "import pandas as pd\n",
        "from PIL import Image, ImageDraw\n",
        "\n",
        "# Read in the camera calibration data from the .parquet file\n",
        "df = pd.read_parquet('/content/drive/MyDrive/training/camera_calibration/file1.parquet')\n",
        "\n",
        "# Extract the width and height of the camera\n",
        "width = df['[CameraCalibrationComponent].width'].values[0]\n",
        "height = df['[CameraCalibrationComponent].height'].values[0]\n",
        "\n",
        "# Create a blank image to draw the rectangle on\n",
        "img = Image.new('RGB', (width, height), color='black')\n",
        "\n",
        "# Create a drawing object\n",
        "draw = ImageDraw.Draw(img)\n",
        "\n",
        "# Draw a rectangle on the image\n",
        "draw.rectangle([(100, 100), (200, 200)], outline='red', width=2)\n",
        "\n",
        "# Display the image with the rectangle drawn on it\n",
        "img.show()"
      ],
      "metadata": {
        "id": "tOLUDvTRFIta"
      },
      "execution_count": null,
      "outputs": []
    },
    {
      "cell_type": "code",
      "source": [
        "!pip install pillow"
      ],
      "metadata": {
        "id": "-StYgmisJJZ5",
        "outputId": "894ad62e-3f9e-49af-a909-13f19a86e521",
        "colab": {
          "base_uri": "https://localhost:8080/"
        }
      },
      "execution_count": null,
      "outputs": [
        {
          "output_type": "stream",
          "name": "stdout",
          "text": [
            "Looking in indexes: https://pypi.org/simple, https://us-python.pkg.dev/colab-wheels/public/simple/\n",
            "Requirement already satisfied: pillow in /usr/local/lib/python3.9/dist-packages (8.4.0)\n"
          ]
        }
      ]
    },
    {
      "cell_type": "code",
      "source": [
        "import pandas as pd\n",
        "from PIL import Image, ImageDraw\n",
        "\n",
        "# Load the parquet file into a Pandas DataFrame\n",
        "df = pd.read_parquet('/content/drive/MyDrive/training/camera_calibration/file1.parquet')\n",
        "\n",
        "# Extract the calibration data for a specific camera\n",
        "camera_name = 1\n",
        "calibration_data = df.loc[df['key.camera_name'] == camera_name, [\n",
        "    '[CameraCalibrationComponent].intrinsic.f_u',\n",
        "    '[CameraCalibrationComponent].intrinsic.f_v',\n",
        "    '[CameraCalibrationComponent].intrinsic.c_u',\n",
        "    '[CameraCalibrationComponent].intrinsic.c_v',\n",
        "    '[CameraCalibrationComponent].intrinsic.k1',\n",
        "    '[CameraCalibrationComponent].intrinsic.k2',\n",
        "    '[CameraCalibrationComponent].intrinsic.p1',\n",
        "    '[CameraCalibrationComponent].intrinsic.p2',\n",
        "    '[CameraCalibrationComponent].intrinsic.k3',\n",
        "    '[CameraCalibrationComponent].width',\n",
        "    '[CameraCalibrationComponent].height'\n",
        "]].iloc[0]\n",
        "\n",
        "# Extract the relevant calibration parameters\n",
        "f_u = calibration_data['[CameraCalibrationComponent].intrinsic.f_u']\n",
        "f_v = calibration_data['[CameraCalibrationComponent].intrinsic.f_v']\n",
        "c_u = calibration_data['[CameraCalibrationComponent].intrinsic.c_u']\n",
        "c_v = calibration_data['[CameraCalibrationComponent].intrinsic.c_v']\n",
        "width = calibration_data['[CameraCalibrationComponent].width']\n",
        "height = calibration_data['[CameraCalibrationComponent].height']\n",
        "\n",
        "# Create an empty image to draw on\n",
        "image = Image.new('RGB', (width, height), (255, 255, 255))\n",
        "draw = ImageDraw.Draw(image)\n",
        "\n",
        "# Draw a cross at the principal point\n",
        "draw.line([(c_u - 10, c_v), (c_u + 10, c_v)], fill=(255, 0, 0), width=2)\n",
        "draw.line([(c_u, c_v - 10), (c_u, c_v + 10)], fill=(255, 0, 0), width=2)\n",
        "\n",
        "# Display the image with the rectangle drawn on it\n",
        "img.show()"
      ],
      "metadata": {
        "id": "_DNJb2EvInjs"
      },
      "execution_count": null,
      "outputs": []
    },
    {
      "cell_type": "code",
      "source": [
        "import pandas as pd\n",
        "from PIL import Image, ImageDraw\n",
        "\n",
        "# Load the parquet file into a Pandas DataFrame\n",
        "df = pd.read_parquet('/content/drive/MyDrive/training/camera_calibration/file1.parquet')\n",
        "\n",
        "# Extract the calibration data for a specific camera\n",
        "camera_name = 1.0\n",
        "camera_name = int(camera_name)  # convert float to int\n",
        "calibration_data = df.loc[df['key.camera_name'] == camera_name, [\n",
        "    '[CameraCalibrationComponent].intrinsic.f_u',\n",
        "    '[CameraCalibrationComponent].intrinsic.f_v',\n",
        "    '[CameraCalibrationComponent].intrinsic.c_u',\n",
        "    '[CameraCalibrationComponent].intrinsic.c_v',\n",
        "    '[CameraCalibrationComponent].intrinsic.k1',\n",
        "    '[CameraCalibrationComponent].intrinsic.k2',\n",
        "    '[CameraCalibrationComponent].intrinsic.p1',\n",
        "    '[CameraCalibrationComponent].intrinsic.p2',\n",
        "    '[CameraCalibrationComponent].intrinsic.k3',\n",
        "    '[CameraCalibrationComponent].width',\n",
        "    '[CameraCalibrationComponent].height'\n",
        "]].iloc[0]\n",
        "\n",
        "# Extract the relevant calibration parameters\n",
        "f_u = calibration_data['[CameraCalibrationComponent].intrinsic.f_u']\n",
        "f_v = calibration_data['[CameraCalibrationComponent].intrinsic.f_v']\n",
        "c_u = calibration_data['[CameraCalibrationComponent].intrinsic.c_u']\n",
        "c_v = calibration_data['[CameraCalibrationComponent].intrinsic.c_v']\n",
        "width = int(calibration_data['[CameraCalibrationComponent].width'])\n",
        "height = int(calibration_data['[CameraCalibrationComponent].height'])\n",
        "\n",
        "\n",
        "# Create an empty image to draw on\n",
        "image = Image.new('RGB', (int(width), int(height)), (255, 255, 255))\n",
        "draw = ImageDraw.Draw(image)\n",
        "\n",
        "# Draw a cross at the principal point\n",
        "draw.line([(c_u - 10, c_v), (c_u + 10, c_v)], fill=(255, 0, 0), width=2)\n",
        "draw.line([(c_u, c_v - 10), (c_u, c_v + 10)], fill=(255, 0, 0), width=2)\n",
        "\n",
        "# Display the image with the rectangle drawn on it\n",
        "image.show()"
      ],
      "metadata": {
        "id": "83A1msVsKX5P",
        "outputId": "511ab7b2-52f2-4fef-cac5-002a124e44a4",
        "colab": {
          "base_uri": "https://localhost:8080/",
          "height": 845
        }
      },
      "execution_count": 11,
      "outputs": [
        {
          "output_type": "display_data",
          "data": {
            "text/plain": [
              "<PIL.Image.Image image mode=RGB size=1920x1280 at 0x7F6736784C40>"
            ],
            "image/png": "[encoded data removed]"
          },
          "metadata": {}
        }
      ]
    },
    {
      "cell_type": "code",
      "source": [
        "import pandas as pd\n",
        "from PIL import Image, ImageDraw\n",
        "\n",
        "# Load the parquet file into a Pandas DataFrame\n",
        "df = pd.read_parquet('/content/drive/MyDrive/training/camera_calibration/file1.parquet')\n",
        "\n",
        "# Extract the calibration data for a specific camera\n",
        "camera_name = 1\n",
        "calibration_data = df.loc[df['key.camera_name'] == camera_name, [\n",
        "    '[CameraCalibrationComponent].intrinsic.f_u',\n",
        "    '[CameraCalibrationComponent].intrinsic.f_v',\n",
        "    '[CameraCalibrationComponent].intrinsic.c_u',\n",
        "    '[CameraCalibrationComponent].intrinsic.c_v',\n",
        "    '[CameraCalibrationComponent].intrinsic.k1',\n",
        "    '[CameraCalibrationComponent].intrinsic.k2',\n",
        "    '[CameraCalibrationComponent].intrinsic.p1',\n",
        "    '[CameraCalibrationComponent].intrinsic.p2',\n",
        "    '[CameraCalibrationComponent].intrinsic.k3',\n",
        "    '[CameraCalibrationComponent].width',\n",
        "    '[CameraCalibrationComponent].height'\n",
        "]].iloc[0]\n",
        "\n",
        "# Extract the relevant calibration parameters\n",
        "f_u = calibration_data['[CameraCalibrationComponent].intrinsic.f_u']\n",
        "f_v = calibration_data['[CameraCalibrationComponent].intrinsic.f_v']\n",
        "c_u = calibration_data['[CameraCalibrationComponent].intrinsic.c_u']\n",
        "c_v = calibration_data['[CameraCalibrationComponent].intrinsic.c_v']\n",
        "width = int(calibration_data['[CameraCalibrationComponent].width']) # convert to int\n",
        "height = int(calibration_data['[CameraCalibrationComponent].height']) # convert to int\n",
        "\n",
        "# Create an empty image to draw on\n",
        "image = Image.new('RGB', (width, height), (255, 255, 255))\n",
        "draw = ImageDraw.Draw(image)\n",
        "\n",
        "# Draw a cross at the principal point\n",
        "draw.line([(c_u - 10, c_v), (c_u + 10, c_v)], fill=(255, 0, 0), width=2)\n",
        "draw.line([(c_u, c_v - 10), (c_u, c_v + 10)], fill=(255, 0, 0), width=2)\n",
        "\n",
        "# Draw the radial distortion coefficients\n",
        "k1 = calibration_data['[CameraCalibrationComponent].intrinsic.k1']\n",
        "k2 = calibration_data['[CameraCalibrationComponent].intrinsic.k2']\n",
        "k3 = calibration_data['[CameraCalibrationComponent].intrinsic.k3']\n",
        "\n",
        "# Draw the tangential distortion coefficients\n",
        "p1 = calibration_data['[CameraCalibrationComponent].intrinsic.p1']\n",
        "p2 = calibration_data['[CameraCalibrationComponent].intrinsic.p2']\n",
        "\n",
        "# Draw the text of the distortion coefficients on the image\n",
        "draw.text((10, 10), f\"k1: {k1}, k2: {k2}, k3: {k3}, p1: {p1}, p2: {p2}\", fill=(0, 0, 0))\n",
        "\n",
        "# Display the image with the distortion coefficients and the rectangle drawn on it\n",
        "image.show()"
      ],
      "metadata": {
        "id": "Ag4c0YfNJ6rg"
      },
      "execution_count": null,
      "outputs": []
    },
    {
      "cell_type": "code",
      "source": [
        "import pandas as pd\n",
        "import matplotlib.pyplot as plt\n",
        "from PIL import Image, ImageDraw\n",
        "\n",
        "# Load the parquet file into a Pandas DataFrame\n",
        "df = pd.read_parquet('/content/drive/MyDrive/training/camera_calibration/file1.parquet')\n",
        "\n",
        "# Extract the calibration data for a specific camera\n",
        "camera_name = 1\n",
        "calibration_data = df.loc[df['key.camera_name'] == camera_name, [\n",
        "    '[CameraCalibrationComponent].intrinsic.f_u',\n",
        "    '[CameraCalibrationComponent].intrinsic.f_v',\n",
        "    '[CameraCalibrationComponent].intrinsic.c_u',\n",
        "    '[CameraCalibrationComponent].intrinsic.c_v',\n",
        "    '[CameraCalibrationComponent].intrinsic.k1',\n",
        "    '[CameraCalibrationComponent].intrinsic.k2',\n",
        "    '[CameraCalibrationComponent].intrinsic.p1',\n",
        "    '[CameraCalibrationComponent].intrinsic.p2',\n",
        "    '[CameraCalibrationComponent].intrinsic.k3',\n",
        "    '[CameraCalibrationComponent].width',\n",
        "    '[CameraCalibrationComponent].height'\n",
        "]].iloc[0]\n",
        "\n",
        "# Extract the relevant calibration parameters\n",
        "f_u = calibration_data['[CameraCalibrationComponent].intrinsic.f_u']\n",
        "f_v = calibration_data['[CameraCalibrationComponent].intrinsic.f_v']\n",
        "c_u = calibration_data['[CameraCalibrationComponent].intrinsic.c_u']\n",
        "c_v = calibration_data['[CameraCalibrationComponent].intrinsic.c_v']\n",
        "width = int(calibration_data['[CameraCalibrationComponent].width']) # convert to int\n",
        "height = int(calibration_data['[CameraCalibrationComponent].height']) # convert to int\n",
        "\n",
        "# Create an empty image to draw on\n",
        "image = Image.new('RGB', (width, height), (255, 255, 255))\n",
        "draw = ImageDraw.Draw(image)\n",
        "\n",
        "# Draw a cross at the principal point\n",
        "draw.line([(c_u - 10, c_v), (c_u + 10, c_v)], fill=(255, 0, 0), width=2)\n",
        "draw.line([(c_u, c_v - 10), (c_u, c_v + 10)], fill=(255, 0, 0), width=2)\n",
        "\n",
        "# Draw the radial distortion coefficients\n",
        "k1 = calibration_data['[CameraCalibrationComponent].intrinsic.k1']\n",
        "k2 = calibration_data['[CameraCalibrationComponent].intrinsic.k2']\n",
        "k3 = calibration_data['[CameraCalibrationComponent].intrinsic.k3']\n",
        "\n",
        "# Draw the tangential distortion coefficients\n",
        "p1 = calibration_data['[CameraCalibrationComponent].intrinsic.p1']\n",
        "p2 = calibration_data['[CameraCalibrationComponent].intrinsic.p2']\n",
        "\n",
        "# Draw the text of the distortion coefficients on the image\n",
        "draw.text((10, 10), f\"k1: {k1}, k2: {k2}, k3: {k3}, p1: {p1}, p2: {p2}\", fill=(0, 0, 0))\n",
        "\n",
        "# Display the image with the distortion coefficients and the rectangle drawn on it\n",
        "image.show()\n",
        "plt.imshow(image)\n",
        "plt.show()"
      ],
      "metadata": {
        "id": "vBqgLoJqMppH"
      },
      "execution_count": null,
      "outputs": []
    },
    {
      "cell_type": "code",
      "source": [
        "import pandas as pd\n",
        "import matplotlib.pyplot as plt\n",
        "\n",
        "# Load the data from the .parquet file\n",
        "data = pd.read_parquet('/content/drive/MyDrive/training/camera_calibration/file1.parquet')\n",
        "\n",
        "# Group the data by camera name and get the mean of the selected columns\n",
        "grouped_data = data.groupby('key.camera_name')[['[CameraCalibrationComponent].intrinsic.f_u', '[CameraCalibrationComponent].intrinsic.f_v']].mean()\n",
        "\n",
        "# Plot the data as a bar chart\n",
        "ax = grouped_data.plot(kind='bar', rot=0)\n",
        "\n",
        "# Set the title and axis labels\n",
        "ax.set_title('Intrinsic Focal Length of Cameras')\n",
        "ax.set_xlabel('Camera Name')\n",
        "ax.set_ylabel('Focal Length')\n",
        "\n",
        "# Show the plot\n",
        "plt.show()"
      ],
      "metadata": {
        "id": "OpDQEK1xfkQh"
      },
      "execution_count": null,
      "outputs": []
    },
    {
      "cell_type": "code",
      "source": [
        "import pandas as pd\n",
        "import matplotlib.pyplot as plt\n",
        "\n",
        "# Load the data from the .parquet file\n",
        "data = pd.read_parquet('/content/drive/MyDrive/training/camera_calibration/file1.parquet')\n",
        "# Group the data by camera name and get the mean of the selected columns\n",
        "grouped_data = data.groupby('key.camera_name')[['[CameraCalibrationComponent].intrinsic.k1', '[CameraCalibrationComponent].intrinsic.k2', '[CameraCalibrationComponent].intrinsic.p1', '[CameraCalibrationComponent].intrinsic.p2']].mean()\n",
        "\n",
        "# Plot the data as a horizontal bar chart\n",
        "ax = grouped_data.plot(kind='barh')\n",
        "\n",
        "# Set the title and axis labels\n",
        "ax.set_title('Intrinsic Distortion Coefficients of Cameras')\n",
        "ax.set_xlabel('Coefficients')\n",
        "ax.set_ylabel('Camera Name')\n",
        "\n",
        "# Show the plot\n",
        "plt.show()"
      ],
      "metadata": {
        "id": "30_Ihbobfm69"
      },
      "execution_count": null,
      "outputs": []
    },
    {
      "cell_type": "code",
      "source": [
        "import pandas as pd\n",
        "\n",
        "# Read the data from the parquet file\n",
        "data = pd.read_parquet('/content/drive/MyDrive/training/camera_calibration/file1.parquet')\n",
        "\n",
        "# Select the columns containing the intrinsic calibration parameters\n",
        "intrinsic_cols = ['[CameraCalibrationComponent].intrinsic.f_u',\n",
        "                  '[CameraCalibrationComponent].intrinsic.f_v',\n",
        "                  '[CameraCalibrationComponent].intrinsic.c_u',\n",
        "                  '[CameraCalibrationComponent].intrinsic.c_v',\n",
        "                  '[CameraCalibrationComponent].intrinsic.k1',\n",
        "                  '[CameraCalibrationComponent].intrinsic.k2',\n",
        "                  '[CameraCalibrationComponent].intrinsic.p1',\n",
        "                  '[CameraCalibrationComponent].intrinsic.p2',\n",
        "                  '[CameraCalibrationComponent].intrinsic.k3']\n",
        "\n",
        "# Extract the intrinsic calibration parameters\n",
        "intrinsic_params = data[intrinsic_cols].iloc[0]\n",
        "\n",
        "# Print the intrinsic calibration parameters\n",
        "print(intrinsic_params)"
      ],
      "metadata": {
        "colab": {
          "base_uri": "https://localhost:8080/"
        },
        "id": "vMSndg_Hf-h9",
        "outputId": "7a734174-b994-42c2-b463-e034bbf1dd93"
      },
      "execution_count": null,
      "outputs": [
        {
          "output_type": "stream",
          "name": "stdout",
          "text": [
            "[CameraCalibrationComponent].intrinsic.f_u    2084.215657\n",
            "[CameraCalibrationComponent].intrinsic.f_v    2084.215657\n",
            "[CameraCalibrationComponent].intrinsic.c_u     982.699407\n",
            "[CameraCalibrationComponent].intrinsic.c_v     647.342288\n",
            "[CameraCalibrationComponent].intrinsic.k1        0.055223\n",
            "[CameraCalibrationComponent].intrinsic.k2       -0.360093\n",
            "[CameraCalibrationComponent].intrinsic.p1        0.000621\n",
            "[CameraCalibrationComponent].intrinsic.p2        0.001397\n",
            "[CameraCalibrationComponent].intrinsic.k3        0.000000\n",
            "Name: 0, dtype: float64\n"
          ]
        }
      ]
    },
    {
      "cell_type": "code",
      "source": [
        "import pandas as pd\n",
        "import matplotlib.pyplot as plt\n",
        "\n",
        "# Load the data from the .parquet file\n",
        "data = pd.read_parquet('/content/drive/MyDrive/training/camera_calibration/file1.parquet')\n",
        "\n",
        "# Select the columns to visualize\n",
        "columns_to_visualize = ['[CameraCalibrationComponent].intrinsic.f_u', \n",
        "                        '[CameraCalibrationComponent].intrinsic.f_v',\n",
        "                        '[CameraCalibrationComponent].intrinsic.c_u',\n",
        "                        '[CameraCalibrationComponent].intrinsic.c_v',\n",
        "                        '[CameraCalibrationComponent].intrinsic.k1',\n",
        "                        '[CameraCalibrationComponent].intrinsic.k2',\n",
        "                        '[CameraCalibrationComponent].intrinsic.p1',\n",
        "                        '[CameraCalibrationComponent].intrinsic.p2',\n",
        "                        '[CameraCalibrationComponent].intrinsic.k3']\n",
        "\n",
        "# Get the mean of the selected columns\n",
        "grouped_data = data[columns_to_visualize].mean()\n",
        "\n",
        "# Create a bar plot of the grouped data\n",
        "plt.bar(columns_to_visualize, grouped_data)\n",
        "\n",
        "# Set the title and axis labels\n",
        "plt.title('Average Camera Calibration Parameters')\n",
        "plt.xlabel('Parameter')\n",
        "plt.ylabel('Value')\n",
        "\n",
        "# Rotate the x-axis labels for better visibility\n",
        "plt.xticks(rotation=90)\n",
        "\n",
        "# Display the plot\n",
        "plt.show()"
      ],
      "metadata": {
        "id": "LxwCbx2Zic0N"
      },
      "execution_count": null,
      "outputs": []
    },
    {
      "cell_type": "code",
      "source": [
        "import math\n",
        "\n",
        "# Horizontal field of view\n",
        "f_u = df.loc[0, '[CameraCalibrationComponent].intrinsic.f_u']\n",
        "fov_u = 2 * math.atan(df.loc[0, '[CameraCalibrationComponent].width'] / (2 * f_u))\n",
        "print('Horizontal FOV: {:.2f} degrees'.format(math.degrees(fov_u)))\n",
        "\n",
        "# Vertical field of view\n",
        "f_v = df.loc[0, '[CameraCalibrationComponent].intrinsic.f_v']\n",
        "fov_v = 2 * math.atan(df.loc[0, '[CameraCalibrationComponent].height'] / (2 * f_v))\n",
        "print('Vertical FOV: {:.2f} degrees'.format(math.degrees(fov_v)))"
      ],
      "metadata": {
        "colab": {
          "base_uri": "https://localhost:8080/"
        },
        "id": "YnstMDtOi-Cy",
        "outputId": "563ac5c0-eba0-4ef5-fb47-c706dda550b6"
      },
      "execution_count": null,
      "outputs": [
        {
          "output_type": "stream",
          "name": "stdout",
          "text": [
            "Horizontal FOV: 49.46 degrees\n",
            "Vertical FOV: 34.14 degrees\n"
          ]
        }
      ]
    }
  ]
}