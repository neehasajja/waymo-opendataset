{
  "nbformat": 4,
  "nbformat_minor": 0,
  "metadata": {
    "colab": {
      "provenance": [],
      "authorship_tag": "ABX9TyOAc9lzKzWPuWdsulHSD62i",
      "include_colab_link": true
    },
    "kernelspec": {
      "name": "python3",
      "display_name": "Python 3"
    },
    "language_info": {
      "name": "python"
    }
  },
  "cells": [
    {
      "cell_type": "markdown",
      "metadata": {
        "id": "view-in-github",
        "colab_type": "text"
      },
      "source": [
        "<a href=\"https://colab.research.google.com/github/neehasajja/waymo-opendataset/blob/main/training/camera_calibration.ipynb\" target=\"_parent\"><img src=\"https://colab.research.google.com/assets/colab-badge.svg\" alt=\"Open In Colab\"/></a>"
      ]
    },
    {
      "cell_type": "code",
      "execution_count": 1,
      "metadata": {
        "id": "HW1MjRuVbz34",
        "colab": {
          "base_uri": "https://localhost:8080/"
        },
        "outputId": "0ab388f7-e17f-432c-855f-d6a44119495d"
      },
      "outputs": [
        {
          "output_type": "stream",
          "name": "stdout",
          "text": [
            "Mounted at /content/drive\n"
          ]
        }
      ],
      "source": [
        "from google.colab import drive\n",
        "drive.mount('/content/drive')"
      ]
    },
    {
      "cell_type": "code",
      "source": [
        "!pip3 install waymo-open-dataset-tf-2-6-0"
      ],
      "metadata": {
        "id": "hMOwBGtAc39-"
      },
      "execution_count": null,
      "outputs": []
    },
    {
      "cell_type": "code",
      "source": [
        "import os\n",
        "import pyarrow.parquet as pq\n",
        "\n",
        "import tensorflow as tf\n",
        "\n",
        "folder_path = '/content/drive/MyDrive/training/'\n",
        "\n",
        "for filename in os.listdir(folder_path):\n",
        "    if filename.endswith('.tfrecord'):\n",
        "        file_path = os.path.join(folder_path, filename)\n",
        "        expected_size = os.path.getsize(file_path)\n",
        "        print(f\"File: {filename} | Expected size: {expected_size} bytes\")\n",
        "\n",
        "        # Get the actual size of the file\n",
        "        actual_size = 0\n",
        "        for record in tf.data.TFRecordDataset(file_path):\n",
        "            actual_size += int(record.numpy().size)\n",
        "        \n",
        "        print(f\"Actual size: {actual_size} bytes\\n\")"
      ],
      "metadata": {
        "id": "UcOGj4DBdSmA"
      },
      "execution_count": 3,
      "outputs": []
    },
    {
      "cell_type": "code",
      "source": [
        "import pyarrow.parquet as pq\n",
        "import pandas as pd\n",
        "\n",
        "# Set the path to the Parquet file\n",
        "parquet_file_path = '/content/drive/MyDrive/training/camera_calibration/file1.parquet'\n",
        "\n",
        "# Read the Parquet file into a Pyarrow table\n",
        "table = pq.read_table(parquet_file_path)\n",
        "\n",
        "# Convert the table to a Pandas DataFrame\n",
        "df = table.to_pandas()\n",
        "\n",
        "# Print the first 10 rows of the DataFrame\n",
        "print(df.head(10))"
      ],
      "metadata": {
        "colab": {
          "base_uri": "https://localhost:8080/"
        },
        "id": "Y4IMECbcdYml",
        "outputId": "7e84b41a-1739-4b53-9a48-9b890c740a47"
      },
      "execution_count": 4,
      "outputs": [
        {
          "output_type": "stream",
          "name": "stdout",
          "text": [
            "              key.segment_context_name  key.camera_name  \\\n",
            "0  15832924468527961_1564_160_1584_160                1   \n",
            "1  15832924468527961_1564_160_1584_160                2   \n",
            "2  15832924468527961_1564_160_1584_160                3   \n",
            "3  15832924468527961_1564_160_1584_160                4   \n",
            "4  15832924468527961_1564_160_1584_160                5   \n",
            "\n",
            "   [CameraCalibrationComponent].intrinsic.f_u  \\\n",
            "0                                 2084.215657   \n",
            "1                                 2075.391189   \n",
            "2                                 2082.850280   \n",
            "3                                 2080.064055   \n",
            "4                                 2073.930686   \n",
            "\n",
            "   [CameraCalibrationComponent].intrinsic.f_v  \\\n",
            "0                                 2084.215657   \n",
            "1                                 2075.391189   \n",
            "2                                 2082.850280   \n",
            "3                                 2080.064055   \n",
            "4                                 2073.930686   \n",
            "\n",
            "   [CameraCalibrationComponent].intrinsic.c_u  \\\n",
            "0                                  982.699407   \n",
            "1                                  985.465578   \n",
            "2                                  959.304761   \n",
            "3                                  980.594824   \n",
            "4                                  967.085440   \n",
            "\n",
            "   [CameraCalibrationComponent].intrinsic.c_v  \\\n",
            "0                                  647.342288   \n",
            "1                                  637.156805   \n",
            "2                                  652.411955   \n",
            "3                                  245.663672   \n",
            "4                                  243.420947   \n",
            "\n",
            "   [CameraCalibrationComponent].intrinsic.k1  \\\n",
            "0                                   0.055223   \n",
            "1                                   0.051347   \n",
            "2                                   0.046382   \n",
            "3                                   0.050411   \n",
            "4                                   0.041264   \n",
            "\n",
            "   [CameraCalibrationComponent].intrinsic.k2  \\\n",
            "0                                  -0.360093   \n",
            "1                                  -0.370871   \n",
            "2                                  -0.345911   \n",
            "3                                  -0.365051   \n",
            "4                                  -0.336205   \n",
            "\n",
            "   [CameraCalibrationComponent].intrinsic.p1  \\\n",
            "0                                   0.000621   \n",
            "1                                   0.001041   \n",
            "2                                   0.001909   \n",
            "3                                   0.000946   \n",
            "4                                   0.000651   \n",
            "\n",
            "   [CameraCalibrationComponent].intrinsic.p2  \\\n",
            "0                                   0.001397   \n",
            "1                                   0.001834   \n",
            "2                                  -0.000629   \n",
            "3                                  -0.000058   \n",
            "4                                   0.000689   \n",
            "\n",
            "   [CameraCalibrationComponent].intrinsic.k3  \\\n",
            "0                                        0.0   \n",
            "1                                        0.0   \n",
            "2                                        0.0   \n",
            "3                                        0.0   \n",
            "4                                        0.0   \n",
            "\n",
            "    [CameraCalibrationComponent].extrinsic.transform  \\\n",
            "0  [0.9996870267605353, -0.0030484762173332465, -...   \n",
            "1  [0.7051120615229415, -0.7087135816223076, -0.0...   \n",
            "2  [0.7082819701515733, 0.7058712467350413, 0.009...   \n",
            "3  [-0.004723640882063629, -0.9999551081018757, -...   \n",
            "4  [0.008003211252167682, 0.9999511583163075, 0.0...   \n",
            "\n",
            "   [CameraCalibrationComponent].width  [CameraCalibrationComponent].height  \\\n",
            "0                                1920                                 1280   \n",
            "1                                1920                                 1280   \n",
            "2                                1920                                 1280   \n",
            "3                                1920                                  886   \n",
            "4                                1920                                  886   \n",
            "\n",
            "   [CameraCalibrationComponent].rolling_shutter_direction  \n",
            "0                                                  4       \n",
            "1                                                  4       \n",
            "2                                                  4       \n",
            "3                                                  4       \n",
            "4                                                  4       \n"
          ]
        }
      ]
    },
    {
      "cell_type": "code",
      "source": [
        "print(df.columns)"
      ],
      "metadata": {
        "colab": {
          "base_uri": "https://localhost:8080/"
        },
        "id": "67LUah4HdfaL",
        "outputId": "7e206721-83c3-4d39-f9d6-28e581233a4d"
      },
      "execution_count": 5,
      "outputs": [
        {
          "output_type": "stream",
          "name": "stdout",
          "text": [
            "Index(['key.segment_context_name', 'key.camera_name',\n",
            "       '[CameraCalibrationComponent].intrinsic.f_u',\n",
            "       '[CameraCalibrationComponent].intrinsic.f_v',\n",
            "       '[CameraCalibrationComponent].intrinsic.c_u',\n",
            "       '[CameraCalibrationComponent].intrinsic.c_v',\n",
            "       '[CameraCalibrationComponent].intrinsic.k1',\n",
            "       '[CameraCalibrationComponent].intrinsic.k2',\n",
            "       '[CameraCalibrationComponent].intrinsic.p1',\n",
            "       '[CameraCalibrationComponent].intrinsic.p2',\n",
            "       '[CameraCalibrationComponent].intrinsic.k3',\n",
            "       '[CameraCalibrationComponent].extrinsic.transform',\n",
            "       '[CameraCalibrationComponent].width',\n",
            "       '[CameraCalibrationComponent].height',\n",
            "       '[CameraCalibrationComponent].rolling_shutter_direction'],\n",
            "      dtype='object')\n"
          ]
        }
      ]
    },
    {
      "cell_type": "code",
      "source": [
        "df['key.camera_name']"
      ],
      "metadata": {
        "id": "b2wzptzjJfOU",
        "outputId": "61249a9e-6eb3-4bee-8908-d0904bcc339b",
        "colab": {
          "base_uri": "https://localhost:8080/"
        }
      },
      "execution_count": 6,
      "outputs": [
        {
          "output_type": "execute_result",
          "data": {
            "text/plain": [
              "0    1\n",
              "1    2\n",
              "2    3\n",
              "3    4\n",
              "4    5\n",
              "Name: key.camera_name, dtype: int8"
            ]
          },
          "metadata": {},
          "execution_count": 6
        }
      ]
    },
    {
      "cell_type": "code",
      "source": [
        "import pyarrow.parquet as pq\n",
        "import pandas as pd\n",
        "from PIL import Image, ImageDraw\n",
        "\n",
        "# Read in the camera calibration data from the .parquet file\n",
        "df = pd.read_parquet('/content/drive/MyDrive/training/camera_calibration/file1.parquet')\n",
        "\n",
        "# Extract the width and height of the camera\n",
        "width = df['[CameraCalibrationComponent].width'].values[0]\n",
        "height = df['[CameraCalibrationComponent].height'].values[0]\n",
        "\n",
        "# Create a blank image to draw the rectangle on\n",
        "img = Image.new('RGB', (width, height), color='black')\n",
        "\n",
        "# Create a drawing object\n",
        "draw = ImageDraw.Draw(img)\n",
        "\n",
        "# Draw a rectangle on the image\n",
        "draw.rectangle([(100, 100), (200, 200)], outline='red', width=2)\n",
        "\n",
        "# Display the image with the rectangle drawn on it\n",
        "img.show()"
      ],
      "metadata": {
        "id": "tOLUDvTRFIta"
      },
      "execution_count": null,
      "outputs": []
    },
    {
      "cell_type": "code",
      "source": [
        "!pip install pillow"
      ],
      "metadata": {
        "id": "-StYgmisJJZ5",
        "outputId": "650ec2b5-92de-488e-ec30-6ec0b234e1a0",
        "colab": {
          "base_uri": "https://localhost:8080/"
        }
      },
      "execution_count": 8,
      "outputs": [
        {
          "output_type": "stream",
          "name": "stdout",
          "text": [
            "Looking in indexes: https://pypi.org/simple, https://us-python.pkg.dev/colab-wheels/public/simple/\n",
            "Requirement already satisfied: pillow in /usr/local/lib/python3.10/dist-packages (8.4.0)\n"
          ]
        }
      ]
    },
    {
      "cell_type": "code",
      "source": [
        "import pandas as pd\n",
        "from PIL import Image, ImageDraw\n",
        "\n",
        "# Load the parquet file into a Pandas DataFrame\n",
        "df = pd.read_parquet('/content/drive/MyDrive/training/camera_calibration/file1.parquet')\n",
        "\n",
        "# Extract the calibration data for a specific camera\n",
        "camera_name = 1\n",
        "calibration_data = df.loc[df['key.camera_name'] == camera_name, [\n",
        "    '[CameraCalibrationComponent].intrinsic.f_u',\n",
        "    '[CameraCalibrationComponent].intrinsic.f_v',\n",
        "    '[CameraCalibrationComponent].intrinsic.c_u',\n",
        "    '[CameraCalibrationComponent].intrinsic.c_v',\n",
        "    '[CameraCalibrationComponent].intrinsic.k1',\n",
        "    '[CameraCalibrationComponent].intrinsic.k2',\n",
        "    '[CameraCalibrationComponent].intrinsic.p1',\n",
        "    '[CameraCalibrationComponent].intrinsic.p2',\n",
        "    '[CameraCalibrationComponent].intrinsic.k3',\n",
        "    '[CameraCalibrationComponent].width',\n",
        "    '[CameraCalibrationComponent].height'\n",
        "]].iloc[0]\n",
        "\n",
        "# Extract the relevant calibration parameters\n",
        "f_u = calibration_data['[CameraCalibrationComponent].intrinsic.f_u']\n",
        "f_v = calibration_data['[CameraCalibrationComponent].intrinsic.f_v']\n",
        "c_u = calibration_data['[CameraCalibrationComponent].intrinsic.c_u']\n",
        "c_v = calibration_data['[CameraCalibrationComponent].intrinsic.c_v']\n",
        "width = calibration_data['[CameraCalibrationComponent].width']\n",
        "height = calibration_data['[CameraCalibrationComponent].height']\n",
        "\n",
        "# Create an empty image to draw on\n",
        "image = Image.new('RGB', (width, height), (255, 255, 255))\n",
        "draw = ImageDraw.Draw(image)\n",
        "\n",
        "# Draw a cross at the principal point\n",
        "draw.line([(c_u - 10, c_v), (c_u + 10, c_v)], fill=(255, 0, 0), width=2)\n",
        "draw.line([(c_u, c_v - 10), (c_u, c_v + 10)], fill=(255, 0, 0), width=2)\n",
        "\n",
        "# Display the image with the rectangle drawn on it\n",
        "img.show()"
      ],
      "metadata": {
        "id": "_DNJb2EvInjs"
      },
      "execution_count": null,
      "outputs": []
    },
    {
      "cell_type": "code",
      "source": [
        "import pandas as pd\n",
        "from PIL import Image, ImageDraw\n",
        "\n",
        "# Load the parquet file into a Pandas DataFrame\n",
        "df = pd.read_parquet('/content/drive/MyDrive/training/camera_calibration/file1.parquet')\n",
        "\n",
        "# Extract the calibration data for a specific camera\n",
        "camera_name = 1.0\n",
        "camera_name = int(camera_name)  # convert float to int\n",
        "calibration_data = df.loc[df['key.camera_name'] == camera_name, [\n",
        "    '[CameraCalibrationComponent].intrinsic.f_u',\n",
        "    '[CameraCalibrationComponent].intrinsic.f_v',\n",
        "    '[CameraCalibrationComponent].intrinsic.c_u',\n",
        "    '[CameraCalibrationComponent].intrinsic.c_v',\n",
        "    '[CameraCalibrationComponent].intrinsic.k1',\n",
        "    '[CameraCalibrationComponent].intrinsic.k2',\n",
        "    '[CameraCalibrationComponent].intrinsic.p1',\n",
        "    '[CameraCalibrationComponent].intrinsic.p2',\n",
        "    '[CameraCalibrationComponent].intrinsic.k3',\n",
        "    '[CameraCalibrationComponent].width',\n",
        "    '[CameraCalibrationComponent].height'\n",
        "]].iloc[0]\n",
        "\n",
        "# Extract the relevant calibration parameters\n",
        "f_u = calibration_data['[CameraCalibrationComponent].intrinsic.f_u']\n",
        "f_v = calibration_data['[CameraCalibrationComponent].intrinsic.f_v']\n",
        "c_u = calibration_data['[CameraCalibrationComponent].intrinsic.c_u']\n",
        "c_v = calibration_data['[CameraCalibrationComponent].intrinsic.c_v']\n",
        "width = int(calibration_data['[CameraCalibrationComponent].width'])\n",
        "height = int(calibration_data['[CameraCalibrationComponent].height'])\n",
        "\n",
        "\n",
        "# Create an empty image to draw on\n",
        "image = Image.new('RGB', (int(width), int(height)), (255, 255, 255))\n",
        "draw = ImageDraw.Draw(image)\n",
        "\n",
        "# Draw a cross at the principal point\n",
        "draw.line([(c_u - 10, c_v), (c_u + 10, c_v)], fill=(255, 0, 0), width=2)\n",
        "draw.line([(c_u, c_v - 10), (c_u, c_v + 10)], fill=(255, 0, 0), width=2)\n",
        "\n",
        "# Display the image with the rectangle drawn on it\n",
        "image.show()"
      ],
      "metadata": {
        "id": "83A1msVsKX5P",
        "outputId": "1d7434ac-16b0-470e-9902-655768481b67",
        "colab": {
          "base_uri": "https://localhost:8080/",
          "height": 1000
        }
      },
      "execution_count": 10,
      "outputs": [
        {
          "output_type": "display_data",
          "data": {
            "text/plain": [
              "<PIL.Image.Image image mode=RGB size=1920x1280 at 0x7F2D94147070>"
            ],
            "image/png": "[encoded data removed]"
          },
          "metadata": {}
        }
      ]
    },
    {
      "cell_type": "code",
      "source": [
        "import pandas as pd\n",
        "import matplotlib.pyplot as plt\n",
        "from PIL import Image, ImageDraw\n",
        "\n",
        "# Load the parquet file into a Pandas DataFrame\n",
        "df = pd.read_parquet('/content/drive/MyDrive/training/camera_calibration/file1.parquet')\n",
        "\n",
        "# Extract the calibration data for a specific camera\n",
        "camera_name = 1\n",
        "calibration_data = df.loc[df['key.camera_name'] == camera_name, [\n",
        "    '[CameraCalibrationComponent].intrinsic.f_u',\n",
        "    '[CameraCalibrationComponent].intrinsic.f_v',\n",
        "    '[CameraCalibrationComponent].intrinsic.c_u',\n",
        "    '[CameraCalibrationComponent].intrinsic.c_v',\n",
        "    '[CameraCalibrationComponent].intrinsic.k1',\n",
        "    '[CameraCalibrationComponent].intrinsic.k2',\n",
        "    '[CameraCalibrationComponent].intrinsic.p1',\n",
        "    '[CameraCalibrationComponent].intrinsic.p2',\n",
        "    '[CameraCalibrationComponent].intrinsic.k3',\n",
        "    '[CameraCalibrationComponent].width',\n",
        "    '[CameraCalibrationComponent].height'\n",
        "]].iloc[0]\n",
        "\n",
        "# Extract the relevant calibration parameters\n",
        "f_u = calibration_data['[CameraCalibrationComponent].intrinsic.f_u']\n",
        "f_v = calibration_data['[CameraCalibrationComponent].intrinsic.f_v']\n",
        "c_u = calibration_data['[CameraCalibrationComponent].intrinsic.c_u']\n",
        "c_v = calibration_data['[CameraCalibrationComponent].intrinsic.c_v']\n",
        "width = int(calibration_data['[CameraCalibrationComponent].width']) # convert to int\n",
        "height = int(calibration_data['[CameraCalibrationComponent].height']) # convert to int\n",
        "\n",
        "# Create an empty image to draw on\n",
        "image = Image.new('RGB', (width, height), (255, 255, 255))\n",
        "draw = ImageDraw.Draw(image)\n",
        "\n",
        "# Draw a cross at the principal point\n",
        "draw.line([(c_u - 10, c_v), (c_u + 10, c_v)], fill=(255, 0, 0), width=2)\n",
        "draw.line([(c_u, c_v - 10), (c_u, c_v + 10)], fill=(255, 0, 0), width=2)\n",
        "\n",
        "# Draw the radial distortion coefficients\n",
        "k1 = calibration_data['[CameraCalibrationComponent].intrinsic.k1']\n",
        "k2 = calibration_data['[CameraCalibrationComponent].intrinsic.k2']\n",
        "k3 = calibration_data['[CameraCalibrationComponent].intrinsic.k3']\n",
        "\n",
        "# Draw the tangential distortion coefficients\n",
        "p1 = calibration_data['[CameraCalibrationComponent].intrinsic.p1']\n",
        "p2 = calibration_data['[CameraCalibrationComponent].intrinsic.p2']\n",
        "\n",
        "# Draw the text of the distortion coefficients on the image\n",
        "draw.text((10, 10), f\"k1: {k1}, k2: {k2}, k3: {k3}, p1: {p1}, p2: {p2}\", fill=(0, 0, 0))\n",
        "\n",
        "# Display the image with the distortion coefficients and the rectangle drawn on it\n",
        "image.show()\n",
        "plt.imshow(image)\n",
        "plt.show()"
      ],
      "metadata": {
        "id": "vBqgLoJqMppH"
      },
      "execution_count": null,
      "outputs": []
    },
    {
      "cell_type": "code",
      "source": [
        "import pandas as pd\n",
        "from PIL import Image, ImageDraw\n",
        "import matplotlib.pyplot as plt\n",
        "\n",
        "# Load the parquet file into a Pandas DataFrame\n",
        "df = pd.read_parquet('/content/drive/MyDrive/training/camera_calibration/file1.parquet')\n",
        "\n",
        "# Extract the calibration data for a specific camera\n",
        "camera_name = 1\n",
        "calibration_data = df.loc[df['key.camera_name'] == camera_name, [\n",
        "    '[CameraCalibrationComponent].intrinsic.f_u',\n",
        "    '[CameraCalibrationComponent].intrinsic.f_v',\n",
        "    '[CameraCalibrationComponent].intrinsic.c_u',\n",
        "    '[CameraCalibrationComponent].intrinsic.c_v',\n",
        "    '[CameraCalibrationComponent].intrinsic.k1',\n",
        "    '[CameraCalibrationComponent].intrinsic.k2',\n",
        "    '[CameraCalibrationComponent].intrinsic.p1',\n",
        "    '[CameraCalibrationComponent].intrinsic.p2',\n",
        "    '[CameraCalibrationComponent].intrinsic.k3',\n",
        "    '[CameraCalibrationComponent].width',\n",
        "    '[CameraCalibrationComponent].height'\n",
        "]].iloc[0]\n",
        "\n",
        "# Extract the relevant calibration parameters\n",
        "f_u = calibration_data['[CameraCalibrationComponent].intrinsic.f_u']\n",
        "f_v = calibration_data['[CameraCalibrationComponent].intrinsic.f_v']\n",
        "c_u = calibration_data['[CameraCalibrationComponent].intrinsic.c_u']\n",
        "c_v = calibration_data['[CameraCalibrationComponent].intrinsic.c_v']\n",
        "width = int(calibration_data['[CameraCalibrationComponent].width']) # convert to int\n",
        "height = int(calibration_data['[CameraCalibrationComponent].height']) # convert to int\n",
        "\n",
        "# Create an empty image to draw on\n",
        "image = Image.new('RGB', (width, height), (255, 255, 255))\n",
        "draw = ImageDraw.Draw(image)\n",
        "\n",
        "# Draw a cross at the principal point\n",
        "draw.line([(c_u - 10, c_v), (c_u + 10, c_v)], fill=(255, 0, 0), width=2)\n",
        "draw.line([(c_u, c_v - 10), (c_u, c_v + 10)], fill=(255, 0, 0), width=2)\n",
        "\n",
        "# Draw the radial distortion coefficients\n",
        "k1 = calibration_data['[CameraCalibrationComponent].intrinsic.k1']\n",
        "k2 = calibration_data['[CameraCalibrationComponent].intrinsic.k2']\n",
        "k3 = calibration_data['[CameraCalibrationComponent].intrinsic.k3']\n",
        "\n",
        "# Draw the tangential distortion coefficients\n",
        "p1 = calibration_data['[CameraCalibrationComponent].intrinsic.p1']\n",
        "p2 = calibration_data['[CameraCalibrationComponent].intrinsic.p2']\n",
        "\n",
        "# Draw the text of the distortion coefficients on the image\n",
        "draw.text((10, 10), f\"k1: {k1}, k2: {k2}, k3: {k3}, p1: {p1}, p2: {p2}\", fill=(0, 0, 0))\n",
        "\n",
        "# Display the image with the distortion coefficients and the rectangle drawn on it\n",
        "image.show()\n",
        "plt.imshow(image)\n",
        "plt.show()"
      ],
      "metadata": {
        "id": "CKQPdW37oxVR",
        "outputId": "4699c7af-9823-41ee-9664-17970d408f2c",
        "colab": {
          "base_uri": "https://localhost:8080/",
          "height": 1000
        }
      },
      "execution_count": 46,
      "outputs": [
        {
          "output_type": "display_data",
          "data": {
            "text/plain": [
              "<PIL.Image.Image image mode=RGB size=1920x1280 at 0x7F2D76FDB640>"
            ],
            "image/png": "[encoded data removed]"
          },
          "metadata": {}
        },
        {
          "output_type": "display_data",
          "data": {
            "text/plain": [
              "<Figure size 640x480 with 1 Axes>"
            ],
            "image/png": "[encoded data removed]"
          },
          "metadata": {}
        }
      ]
    },
    {
      "cell_type": "code",
      "source": [
        "import pandas as pd\n",
        "from PIL import Image, ImageDraw\n",
        "import matplotlib.pyplot as plt\n",
        "import pyarrow.parquet as pq\n",
        "\n",
        "# Load the parquet file into a Pandas DataFrame\n",
        "df = pd.read_parquet('/content/drive/MyDrive/training/camera_calibration/file1.parquet')\n",
        "\n",
        "# Extract the calibration data for a specific camera\n",
        "camera_name = 1\n",
        "calibration_data = df.loc[df['key.camera_name'] == camera_name, [\n",
        "    '[CameraCalibrationComponent].intrinsic.f_u',\n",
        "    '[CameraCalibrationComponent].intrinsic.f_v',\n",
        "    '[CameraCalibrationComponent].intrinsic.c_u',\n",
        "    '[CameraCalibrationComponent].intrinsic.c_v',\n",
        "    '[CameraCalibrationComponent].intrinsic.k1',\n",
        "    '[CameraCalibrationComponent].intrinsic.k2',\n",
        "    '[CameraCalibrationComponent].intrinsic.p1',\n",
        "    '[CameraCalibrationComponent].intrinsic.p2',\n",
        "    '[CameraCalibrationComponent].intrinsic.k3',\n",
        "    '[CameraCalibrationComponent].width',\n",
        "    '[CameraCalibrationComponent].height'\n",
        "]].iloc[0]\n",
        "\n",
        "# Extract the relevant calibration parameters\n",
        "f_u = calibration_data['[CameraCalibrationComponent].intrinsic.f_u']\n",
        "f_v = calibration_data['[CameraCalibrationComponent].intrinsic.f_v']\n",
        "c_u = calibration_data['[CameraCalibrationComponent].intrinsic.c_u']\n",
        "c_v = calibration_data['[CameraCalibrationComponent].intrinsic.c_v']\n",
        "width = int(calibration_data['[CameraCalibrationComponent].width']) # convert to int\n",
        "height = int(calibration_data['[CameraCalibrationComponent].height']) # convert to int\n",
        "\n",
        "# Load the parquet file into a PyArrow Table\n",
        "table = pq.read_table('/content/drive/MyDrive/training/camera_image/file1.parquet')\n",
        "\n",
        "# Extract the image data for a specific camera\n",
        "camera_name = 1\n",
        "image_data = table.filter(f'key.camera_name == {camera_name}')['image.data'][0].as_py()\n",
        "\n",
        "# Convert the image data into an Image object\n",
        "img = Image.fromarray(image_data)\n",
        "\n",
        "# Create an empty image to draw on\n",
        "img_draw = ImageDraw.Draw(img)\n",
        "\n",
        "# Draw a cross at the principal point\n",
        "img_draw.line([(c_u - 10, c_v), (c_u + 10, c_v)], fill=(255, 0, 0), width=2)\n",
        "img_draw.line([(c_u, c_v - 10), (c_u, c_v + 10)], fill=(255, 0, 0), width=2)\n",
        "\n",
        "# Draw the radial distortion coefficients\n",
        "k1 = calibration_data['[CameraCalibrationComponent].intrinsic.k1']\n",
        "k2 = calibration_data['[CameraCalibrationComponent].intrinsic.k2']\n",
        "k3 = calibration_data['[CameraCalibrationComponent].intrinsic.k3']\n",
        "\n",
        "# Draw the tangential distortion coefficients\n",
        "p1 = calibration_data['[CameraCalibrationComponent].intrinsic.p1']\n",
        "p2 = calibration_data['[CameraCalibrationComponent].intrinsic.p2']\n",
        "\n",
        "# Draw the text of the distortion coefficients on the image\n",
        "img_draw.text((10, 10), f\"k1: {k1}, k2: {k2}, k3: {k3}, p1: {p1}, p2: {p2}\", fill=(0, 0, 0))\n",
        "\n",
        "# Display the image with the distortion coefficients and the rectangle drawn on it\n",
        "plt.imshow(img)\n",
        "plt.show()"
      ],
      "metadata": {
        "id": "fjPAtygqxf28"
      },
      "execution_count": null,
      "outputs": []
    },
    {
      "cell_type": "code",
      "source": [
        "import pandas as pd\n",
        "import pyarrow.parquet as pq\n",
        "from PIL import Image, ImageDraw\n",
        "import matplotlib.pyplot as plt\n",
        "\n",
        "# Load the parquet file into a PyArrow Table\n",
        "table = pq.read_table('/content/drive/MyDrive/training/camera_image/file1.parquet')\n",
        "\n",
        "\n",
        "# Extract the calibration data for a specific camera\n",
        "camera_name = 1\n",
        "calibration_data = df.loc[df['key.camera_name'] == camera_name, [\n",
        "    '[CameraCalibrationComponent].intrinsic.f_u',\n",
        "    '[CameraCalibrationComponent].intrinsic.f_v',\n",
        "    '[CameraCalibrationComponent].intrinsic.c_u',\n",
        "    '[CameraCalibrationComponent].intrinsic.c_v',\n",
        "    '[CameraCalibrationComponent].intrinsic.k1',\n",
        "    '[CameraCalibrationComponent].intrinsic.k2',\n",
        "    '[CameraCalibrationComponent].intrinsic.p1',\n",
        "    '[CameraCalibrationComponent].intrinsic.p2',\n",
        "    '[CameraCalibrationComponent].intrinsic.k3',\n",
        "    '[CameraCalibrationComponent].width',\n",
        "    '[CameraCalibrationComponent].height'\n",
        "]].iloc[0]\n",
        "\n",
        "# Extract the relevant calibration parameters\n",
        "f_u = calibration_data['[CameraCalibrationComponent].intrinsic.f_u']\n",
        "f_v = calibration_data['[CameraCalibrationComponent].intrinsic.f_v']\n",
        "c_u = calibration_data['[CameraCalibrationComponent].intrinsic.c_u']\n",
        "c_v = calibration_data['[CameraCalibrationComponent].intrinsic.c_v']\n",
        "width = int(calibration_data['[CameraCalibrationComponent].width']) # convert to int\n",
        "height = int(calibration_data['[CameraCalibrationComponent].height']) # convert to int\n",
        "\n",
        "\n",
        "# Extract the image data\n",
        "image_data = table.filter(f'key.camera_name == {camera_name}')['image.data'][0].as_py()\n",
        "\n",
        "# Load the image from the data\n",
        "img = Image.fromarray(image_data)\n",
        "\n",
        "# Create an empty image to draw on\n",
        "img_draw = ImageDraw.Draw(img)\n",
        "\n",
        "# Draw a cross at the principal point\n",
        "img_draw.line([(c_u - 10, c_v), (c_u + 10, c_v)], fill=(255, 0, 0), width=2)\n",
        "img_draw.line([(c_u, c_v - 10), (c_u, c_v + 10)], fill=(255, 0, 0), width=2)\n",
        "\n",
        " #Draw the radial distortion coefficients\n",
        "k1 = calibration_data['[CameraCalibrationComponent].intrinsic.k1']\n",
        "k2 = calibration_data['[CameraCalibrationComponent].intrinsic.k2']\n",
        "k3 = calibration_data['[CameraCalibrationComponent].intrinsic.k3']\n",
        "\n",
        "# Draw the tangential distortion coefficients\n",
        "p1 = calibration_data['[CameraCalibrationComponent].intrinsic.p1']\n",
        "p2 = calibration_data['[CameraCalibrationComponent].intrinsic.p2']\n",
        "\n",
        "# Draw the text of the distortion coefficients on the image\n",
        "img_draw.text((10, 10), f\"k1: {k1}, k2: {k2}, k3: {k3}, p1: {p1}, p2: {p2}\", fill=(0, 0, 0))\n",
        "\n",
        "# Display the image with the distortion coefficients and the rectangle drawn on it\n",
        "img.show()\n",
        "plt.imshow(img)\n",
        "plt.show()"
      ],
      "metadata": {
        "id": "TpbNRWzRzd1Q"
      },
      "execution_count": null,
      "outputs": []
    },
    {
      "cell_type": "code",
      "source": [
        "import pandas as pd\n",
        "import numpy as np\n",
        "import cv2\n",
        "\n",
        "# Load the camera calibration parameters for a specific camera\n",
        "calibration_file = '/content/drive/MyDrive/training/camera_calibration/file1.parquet'\n",
        "camera_name = '5'\n",
        "calibration_data = pd.read_parquet(calibration_file)\n",
        "\n",
        "# Check if there is calibration data for the specified camera name\n",
        "if not any(calibration_data['key.camera_name'] == camera_name):\n",
        "    print(f\"No calibration data found for camera {camera_name}\")\n",
        "else:\n",
        "    # Extract the relevant calibration parameters\n",
        "    camera_calibration = calibration_data[calibration_data['key.camera_name'] == camera_name].iloc[0]\n",
        "    intrinsics = np.array(camera_calibration['value.intrinsic'])\n",
        "    distortion_coeffs = np.array(camera_calibration['value.distortion'])\n",
        "    extrinsics = np.array(camera_calibration['value.extrinsic'])\n",
        "\n",
        "    # Load an image from the camera image folder\n",
        "    image_file = '/content/drive/MyDrive/training/camera_image/file1.parquet'\n",
        "    image_data = pd.read_parquet(image_file)\n",
        "    image = np.array(image_data['data'][0])\n",
        "\n",
        "    # Reshape the image to the correct dimensions\n",
        "    height, width = image_data['height'][0], image_data['width'][0]\n",
        "    image = image.reshape((height, width, 3)).astype(np.uint8)\n",
        "\n",
        "    # Apply the calibration to the image\n",
        "    undistorted_image = cv2.undistort(image, intrinsics, distortion_coeffs)\n",
        "    projected_image, _ = cv2.projectPoints(image, extrinsics[:3], extrinsics[3:], intrinsics, distortion_coeffs)\n",
        "\n",
        "    # Display the original and calibrated images side by side\n",
        "    cv2.imshow('Original Image', image)\n",
        "    cv2.imshow('Undistorted Image', undistorted_image)\n",
        "    cv2.imshow('Projected Image', projected_image)\n",
        "    cv2.waitKey(0)\n",
        "    cv2.destroyAllWindows()"
      ],
      "metadata": {
        "id": "tA-vVvsWg-j6",
        "outputId": "23f1d41a-b30c-45c2-dc5b-f498c3797d95",
        "colab": {
          "base_uri": "https://localhost:8080/"
        }
      },
      "execution_count": 45,
      "outputs": [
        {
          "output_type": "stream",
          "name": "stdout",
          "text": [
            "No calibration data found for camera 5\n"
          ]
        }
      ]
    },
    {
      "cell_type": "code",
      "source": [
        "import pandas as pd\n",
        "import matplotlib.pyplot as plt\n",
        "\n",
        "# Load the data from the .parquet file\n",
        "data = pd.read_parquet('/content/drive/MyDrive/training/camera_calibration/file1.parquet')\n",
        "\n",
        "# Group the data by camera name and get the mean of the selected columns\n",
        "grouped_data = data.groupby('key.camera_name')[['[CameraCalibrationComponent].intrinsic.f_u', '[CameraCalibrationComponent].intrinsic.f_v']].mean()\n",
        "\n",
        "# Plot the data as a bar chart\n",
        "ax = grouped_data.plot(kind='bar', rot=0)\n",
        "\n",
        "# Set the title and axis labels\n",
        "ax.set_title('Intrinsic Focal Length of Cameras')\n",
        "ax.set_xlabel('Camera Name')\n",
        "ax.set_ylabel('Focal Length')\n",
        "\n",
        "# Show the plot\n",
        "plt.show()"
      ],
      "metadata": {
        "id": "OpDQEK1xfkQh",
        "outputId": "68aa7a48-fdfe-4c3b-918c-fb31705a2761",
        "colab": {
          "base_uri": "https://localhost:8080/",
          "height": 472
        }
      },
      "execution_count": 13,
      "outputs": [
        {
          "output_type": "display_data",
          "data": {
            "text/plain": [
              "<Figure size 640x480 with 1 Axes>"
            ],
            "image/png": "[encoded data removed]"
          },
          "metadata": {}
        }
      ]
    },
    {
      "cell_type": "code",
      "source": [
        "import pandas as pd\n",
        "import matplotlib.pyplot as plt\n",
        "\n",
        "# Load the data from the .parquet file\n",
        "data = pd.read_parquet('/content/drive/MyDrive/training/camera_calibration/file1.parquet')\n",
        "# Group the data by camera name and get the mean of the selected columns\n",
        "grouped_data = data.groupby('key.camera_name')[['[CameraCalibrationComponent].intrinsic.k1', '[CameraCalibrationComponent].intrinsic.k2', '[CameraCalibrationComponent].intrinsic.p1', '[CameraCalibrationComponent].intrinsic.p2']].mean()\n",
        "\n",
        "# Plot the data as a horizontal bar chart\n",
        "ax = grouped_data.plot(kind='barh')\n",
        "\n",
        "# Set the title and axis labels\n",
        "ax.set_title('Intrinsic Distortion Coefficients of Cameras')\n",
        "ax.set_xlabel('Coefficients')\n",
        "ax.set_ylabel('Camera Name')\n",
        "\n",
        "# Show the plot\n",
        "plt.show()"
      ],
      "metadata": {
        "id": "30_Ihbobfm69"
      },
      "execution_count": null,
      "outputs": []
    },
    {
      "cell_type": "code",
      "source": [
        "import pandas as pd\n",
        "\n",
        "# Read the data from the parquet file\n",
        "data = pd.read_parquet('/content/drive/MyDrive/training/camera_calibration/file1.parquet')\n",
        "\n",
        "# Select the columns containing the intrinsic calibration parameters\n",
        "intrinsic_cols = ['[CameraCalibrationComponent].intrinsic.f_u',\n",
        "                  '[CameraCalibrationComponent].intrinsic.f_v',\n",
        "                  '[CameraCalibrationComponent].intrinsic.c_u',\n",
        "                  '[CameraCalibrationComponent].intrinsic.c_v',\n",
        "                  '[CameraCalibrationComponent].intrinsic.k1',\n",
        "                  '[CameraCalibrationComponent].intrinsic.k2',\n",
        "                  '[CameraCalibrationComponent].intrinsic.p1',\n",
        "                  '[CameraCalibrationComponent].intrinsic.p2',\n",
        "                  '[CameraCalibrationComponent].intrinsic.k3']\n",
        "\n",
        "# Extract the intrinsic calibration parameters\n",
        "intrinsic_params = data[intrinsic_cols].iloc[0]\n",
        "\n",
        "# Print the intrinsic calibration parameters\n",
        "print(intrinsic_params)"
      ],
      "metadata": {
        "colab": {
          "base_uri": "https://localhost:8080/"
        },
        "id": "vMSndg_Hf-h9",
        "outputId": "7a734174-b994-42c2-b463-e034bbf1dd93"
      },
      "execution_count": null,
      "outputs": [
        {
          "output_type": "stream",
          "name": "stdout",
          "text": [
            "[CameraCalibrationComponent].intrinsic.f_u    2084.215657\n",
            "[CameraCalibrationComponent].intrinsic.f_v    2084.215657\n",
            "[CameraCalibrationComponent].intrinsic.c_u     982.699407\n",
            "[CameraCalibrationComponent].intrinsic.c_v     647.342288\n",
            "[CameraCalibrationComponent].intrinsic.k1        0.055223\n",
            "[CameraCalibrationComponent].intrinsic.k2       -0.360093\n",
            "[CameraCalibrationComponent].intrinsic.p1        0.000621\n",
            "[CameraCalibrationComponent].intrinsic.p2        0.001397\n",
            "[CameraCalibrationComponent].intrinsic.k3        0.000000\n",
            "Name: 0, dtype: float64\n"
          ]
        }
      ]
    },
    {
      "cell_type": "code",
      "source": [
        "import pandas as pd\n",
        "import matplotlib.pyplot as plt\n",
        "\n",
        "# Load the data from the .parquet file\n",
        "data = pd.read_parquet('/content/drive/MyDrive/training/camera_calibration/file1.parquet')\n",
        "\n",
        "# Select the columns to visualize\n",
        "columns_to_visualize = ['[CameraCalibrationComponent].intrinsic.f_u', \n",
        "                        '[CameraCalibrationComponent].intrinsic.f_v',\n",
        "                        '[CameraCalibrationComponent].intrinsic.c_u',\n",
        "                        '[CameraCalibrationComponent].intrinsic.c_v',\n",
        "                        '[CameraCalibrationComponent].intrinsic.k1',\n",
        "                        '[CameraCalibrationComponent].intrinsic.k2',\n",
        "                        '[CameraCalibrationComponent].intrinsic.p1',\n",
        "                        '[CameraCalibrationComponent].intrinsic.p2',\n",
        "                        '[CameraCalibrationComponent].intrinsic.k3']\n",
        "\n",
        "# Get the mean of the selected columns\n",
        "grouped_data = data[columns_to_visualize].mean()\n",
        "\n",
        "# Create a bar plot of the grouped data\n",
        "plt.bar(columns_to_visualize, grouped_data)\n",
        "\n",
        "# Set the title and axis labels\n",
        "plt.title('Average Camera Calibration Parameters')\n",
        "plt.xlabel('Parameter')\n",
        "plt.ylabel('Value')\n",
        "\n",
        "# Rotate the x-axis labels for better visibility\n",
        "plt.xticks(rotation=90)\n",
        "\n",
        "# Display the plot\n",
        "plt.show()"
      ],
      "metadata": {
        "id": "LxwCbx2Zic0N",
        "outputId": "d5725366-189f-4713-8fd0-b294eeb47c89",
        "colab": {
          "base_uri": "https://localhost:8080/",
          "height": 767
        }
      },
      "execution_count": 14,
      "outputs": [
        {
          "output_type": "display_data",
          "data": {
            "text/plain": [
              "<Figure size 640x480 with 1 Axes>"
            ],
            "image/png": "[encoded data removed]"
          },
          "metadata": {}
        }
      ]
    },
    {
      "cell_type": "code",
      "source": [
        "import math\n",
        "\n",
        "# Horizontal field of view\n",
        "f_u = df.loc[0, '[CameraCalibrationComponent].intrinsic.f_u']\n",
        "fov_u = 2 * math.atan(df.loc[0, '[CameraCalibrationComponent].width'] / (2 * f_u))\n",
        "print('Horizontal FOV: {:.2f} degrees'.format(math.degrees(fov_u)))\n",
        "\n",
        "# Vertical field of view\n",
        "f_v = df.loc[0, '[CameraCalibrationComponent].intrinsic.f_v']\n",
        "fov_v = 2 * math.atan(df.loc[0, '[CameraCalibrationComponent].height'] / (2 * f_v))\n",
        "print('Vertical FOV: {:.2f} degrees'.format(math.degrees(fov_v)))"
      ],
      "metadata": {
        "colab": {
          "base_uri": "https://localhost:8080/"
        },
        "id": "YnstMDtOi-Cy",
        "outputId": "7cb08538-e09e-46ef-9477-b78fd3c66319"
      },
      "execution_count": 15,
      "outputs": [
        {
          "output_type": "stream",
          "name": "stdout",
          "text": [
            "Horizontal FOV: 49.46 degrees\n",
            "Vertical FOV: 34.14 degrees\n"
          ]
        }
      ]
    }
  ]
}