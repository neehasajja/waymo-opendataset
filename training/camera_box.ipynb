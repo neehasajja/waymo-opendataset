{
  "nbformat": 4,
  "nbformat_minor": 0,
  "metadata": {
    "colab": {
      "provenance": [],
      "authorship_tag": "ABX9TyNMz4VZKQ3uoxi5p07REDtn",
      "include_colab_link": true
    },
    "kernelspec": {
      "name": "python3",
      "display_name": "Python 3"
    },
    "language_info": {
      "name": "python"
    }
  },
  "cells": [
    {
      "cell_type": "markdown",
      "metadata": {
        "id": "view-in-github",
        "colab_type": "text"
      },
      "source": [
        "<a href=\"https://colab.research.google.com/github/neehasajja/waymo-opendataset/blob/main/training/camera_box.ipynb\" target=\"_parent\"><img src=\"https://colab.research.google.com/assets/colab-badge.svg\" alt=\"Open In Colab\"/></a>"
      ]
    },
    {
      "cell_type": "code",
      "execution_count": 1,
      "metadata": {
        "colab": {
          "base_uri": "https://localhost:8080/"
        },
        "id": "rZEm6ISYWypO",
        "outputId": "f37a57bd-f630-40cf-9a78-71bf63b7f44b"
      },
      "outputs": [
        {
          "output_type": "stream",
          "name": "stdout",
          "text": [
            "Mounted at /content/drive\n"
          ]
        }
      ],
      "source": [
        "from google.colab import drive\n",
        "drive.mount('/content/drive')\n",
        "     "
      ]
    },
    {
      "cell_type": "code",
      "source": [
        "!pip3 install waymo-open-dataset-tf-2-6-0"
      ],
      "metadata": {
        "id": "oecdOcNKXU6p"
      },
      "execution_count": null,
      "outputs": []
    },
    {
      "cell_type": "code",
      "source": [
        "import os\n",
        "import pyarrow.parquet as pq\n",
        "\n",
        "# Set the path to the metadata file\n",
        "metadata_file_path = '/content/drive/MyDrive/training/camera_box/_metadata'\n",
        "\n",
        "# Read the metadata file\n",
        "metadata_file = pq.ParquetFile(metadata_file_path)\n",
        "\n",
        "# Get the metadata\n",
        "file_metadata = metadata_file.metadata\n",
        "schema_metadata = file_metadata.metadata\n",
        "\n",
        "# Print the metadata\n",
        "print(\"File metadata:\", file_metadata)\n",
        "print(\"Schema metadata:\", schema_metadata)"
      ],
      "metadata": {
        "colab": {
          "base_uri": "https://localhost:8080/"
        },
        "id": "v3tPuT0xXYt8",
        "outputId": "6c3c9b7d-3a72-49b1-d0ea-7da55b79b53c"
      },
      "execution_count": 3,
      "outputs": [
        {
          "output_type": "stream",
          "name": "stdout",
          "text": [
            "File metadata: <pyarrow._parquet.FileMetaData object at 0x7f2664f6a0e0>\n",
            "  created_by: parquet-cpp-arrow version 10.0.1\n",
            "  num_columns: 12\n",
            "  num_rows: 7817150\n",
            "  num_row_groups: 798\n",
            "  format_version: 2.6\n",
            "  serialized_size: 1733768\n",
            "Schema metadata: {b'ARROW:schema': b'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', b'pandas': b'{\"column_indexes\": [{\"field_name\": null, \"metadata\": {\"encoding\": \"UTF-8\"}, \"name\": null, \"numpy_type\": \"object\", \"pandas_type\": \"unicode\"}], \"columns\": [{\"name\": \"index\", \"field_name\": \"index\", \"metadata\": null, \"numpy_type\": \"object\", \"pandas_type\": \"bytes\"}, {\"name\": \"key.segment_context_name\", \"field_name\": \"key.segment_context_name\", \"metadata\": null, \"numpy_type\": \"object\", \"pandas_type\": \"bytes\"}, {\"name\": \"key.frame_timestamp_micros\", \"field_name\": \"key.frame_timestamp_micros\", \"metadata\": null, \"numpy_type\": \"int64\", \"pandas_type\": \"int64\"}, {\"name\": \"key.camera_name\", \"field_name\": \"key.camera_name\", \"metadata\": null, \"numpy_type\": \"int8\", \"pandas_type\": \"int8\"}, {\"name\": \"key.camera_object_id\", \"field_name\": \"key.camera_object_id\", \"metadata\": null, \"numpy_type\": \"object\", \"pandas_type\": \"bytes\"}, {\"name\": \"[CameraBoxComponent].box.center.x\", \"field_name\": \"[CameraBoxComponent].box.center.x\", \"metadata\": null, \"numpy_type\": \"float64\", \"pandas_type\": \"float64\"}, {\"name\": \"[CameraBoxComponent].box.center.y\", \"field_name\": \"[CameraBoxComponent].box.center.y\", \"metadata\": null, \"numpy_type\": \"float64\", \"pandas_type\": \"float64\"}, {\"name\": \"[CameraBoxComponent].box.size.x\", \"field_name\": \"[CameraBoxComponent].box.size.x\", \"metadata\": null, \"numpy_type\": \"float64\", \"pandas_type\": \"float64\"}, {\"name\": \"[CameraBoxComponent].box.size.y\", \"field_name\": \"[CameraBoxComponent].box.size.y\", \"metadata\": null, \"numpy_type\": \"float64\", \"pandas_type\": \"float64\"}, {\"name\": \"[CameraBoxComponent].type\", \"field_name\": \"[CameraBoxComponent].type\", \"metadata\": null, \"numpy_type\": \"int8\", \"pandas_type\": \"int8\"}, {\"name\": \"[CameraBoxComponent].difficulty_level.detection\", \"field_name\": \"[CameraBoxComponent].difficulty_level.detection\", \"metadata\": null, \"numpy_type\": \"int8\", \"pandas_type\": \"int8\"}, {\"name\": \"[CameraBoxComponent].difficulty_level.tracking\", \"field_name\": \"[CameraBoxComponent].difficulty_level.tracking\", \"metadata\": null, \"numpy_type\": \"int8\", \"pandas_type\": \"int8\"}], \"creator\": {\"library\": \"pyarrow\", \"version\": \"10.0.1\"}, \"index_columns\": [\"index\"], \"pandas_version\": \"1.1.5\"}'}\n"
          ]
        }
      ]
    },
    {
      "cell_type": "code",
      "source": [
        "import pyarrow.parquet as pq\n",
        "import pandas as pd\n",
        "\n",
        "# Set the path to the Parquet file\n",
        "parquet_file_path = '/content/drive/MyDrive/training/camera_box/file1.parquet'\n",
        "\n",
        "# Read the Parquet file into a Pyarrow table\n",
        "table = pq.read_table(parquet_file_path)\n",
        "\n",
        "# Convert the table to a Pandas DataFrame\n",
        "df = table.to_pandas()\n",
        "\n",
        "# Print the first 10 rows of the DataFrame\n",
        "print(df.head(10))"
      ],
      "metadata": {
        "colab": {
          "base_uri": "https://localhost:8080/"
        },
        "id": "IuHfwU3zYejP",
        "outputId": "632d08f0-c8bb-4746-cbe8-556a8c3da1d7"
      },
      "execution_count": 4,
      "outputs": [
        {
          "output_type": "stream",
          "name": "stdout",
          "text": [
            "                                                               key.segment_context_name  \\\n",
            "index                                                                                     \n",
            "15832924468527961_1564_160_1584_160;15076788268...  15832924468527961_1564_160_1584_160   \n",
            "15832924468527961_1564_160_1584_160;15076788269...  15832924468527961_1564_160_1584_160   \n",
            "15832924468527961_1564_160_1584_160;15076788270...  15832924468527961_1564_160_1584_160   \n",
            "15832924468527961_1564_160_1584_160;15076788271...  15832924468527961_1564_160_1584_160   \n",
            "15832924468527961_1564_160_1584_160;15076788272...  15832924468527961_1564_160_1584_160   \n",
            "15832924468527961_1564_160_1584_160;15076788273...  15832924468527961_1564_160_1584_160   \n",
            "15832924468527961_1564_160_1584_160;15076788274...  15832924468527961_1564_160_1584_160   \n",
            "15832924468527961_1564_160_1584_160;15076788275...  15832924468527961_1564_160_1584_160   \n",
            "15832924468527961_1564_160_1584_160;15076788276...  15832924468527961_1564_160_1584_160   \n",
            "15832924468527961_1564_160_1584_160;15076788277...  15832924468527961_1564_160_1584_160   \n",
            "\n",
            "                                                    key.frame_timestamp_micros  \\\n",
            "index                                                                            \n",
            "15832924468527961_1564_160_1584_160;15076788268...            1507678826876435   \n",
            "15832924468527961_1564_160_1584_160;15076788269...            1507678826976463   \n",
            "15832924468527961_1564_160_1584_160;15076788270...            1507678827076537   \n",
            "15832924468527961_1564_160_1584_160;15076788271...            1507678827176651   \n",
            "15832924468527961_1564_160_1584_160;15076788272...            1507678827276757   \n",
            "15832924468527961_1564_160_1584_160;15076788273...            1507678827376866   \n",
            "15832924468527961_1564_160_1584_160;15076788274...            1507678827476970   \n",
            "15832924468527961_1564_160_1584_160;15076788275...            1507678827577122   \n",
            "15832924468527961_1564_160_1584_160;15076788276...            1507678827677307   \n",
            "15832924468527961_1564_160_1584_160;15076788277...            1507678827777492   \n",
            "\n",
            "                                                    key.camera_name  \\\n",
            "index                                                                 \n",
            "15832924468527961_1564_160_1584_160;15076788268...                5   \n",
            "15832924468527961_1564_160_1584_160;15076788269...                5   \n",
            "15832924468527961_1564_160_1584_160;15076788270...                5   \n",
            "15832924468527961_1564_160_1584_160;15076788271...                5   \n",
            "15832924468527961_1564_160_1584_160;15076788272...                5   \n",
            "15832924468527961_1564_160_1584_160;15076788273...                5   \n",
            "15832924468527961_1564_160_1584_160;15076788274...                5   \n",
            "15832924468527961_1564_160_1584_160;15076788275...                5   \n",
            "15832924468527961_1564_160_1584_160;15076788276...                5   \n",
            "15832924468527961_1564_160_1584_160;15076788277...                5   \n",
            "\n",
            "                                                                    key.camera_object_id  \\\n",
            "index                                                                                      \n",
            "15832924468527961_1564_160_1584_160;15076788268...  05c1dc11-2133-4673-a781-3fceb5a20c2b   \n",
            "15832924468527961_1564_160_1584_160;15076788269...  05c1dc11-2133-4673-a781-3fceb5a20c2b   \n",
            "15832924468527961_1564_160_1584_160;15076788270...  05c1dc11-2133-4673-a781-3fceb5a20c2b   \n",
            "15832924468527961_1564_160_1584_160;15076788271...  05c1dc11-2133-4673-a781-3fceb5a20c2b   \n",
            "15832924468527961_1564_160_1584_160;15076788272...  05c1dc11-2133-4673-a781-3fceb5a20c2b   \n",
            "15832924468527961_1564_160_1584_160;15076788273...  05c1dc11-2133-4673-a781-3fceb5a20c2b   \n",
            "15832924468527961_1564_160_1584_160;15076788274...  05c1dc11-2133-4673-a781-3fceb5a20c2b   \n",
            "15832924468527961_1564_160_1584_160;15076788275...  05c1dc11-2133-4673-a781-3fceb5a20c2b   \n",
            "15832924468527961_1564_160_1584_160;15076788276...  05c1dc11-2133-4673-a781-3fceb5a20c2b   \n",
            "15832924468527961_1564_160_1584_160;15076788277...  05c1dc11-2133-4673-a781-3fceb5a20c2b   \n",
            "\n",
            "                                                    [CameraBoxComponent].box.center.x  \\\n",
            "index                                                                                   \n",
            "15832924468527961_1564_160_1584_160;15076788268...                         882.962820   \n",
            "15832924468527961_1564_160_1584_160;15076788269...                         915.805500   \n",
            "15832924468527961_1564_160_1584_160;15076788270...                         950.542950   \n",
            "15832924468527961_1564_160_1584_160;15076788271...                         985.911990   \n",
            "15832924468527961_1564_160_1584_160;15076788272...                        1026.345057   \n",
            "15832924468527961_1564_160_1584_160;15076788273...                        1066.755510   \n",
            "15832924468527961_1564_160_1584_160;15076788274...                        1111.598400   \n",
            "15832924468527961_1564_160_1584_160;15076788275...                        1157.072880   \n",
            "15832924468527961_1564_160_1584_160;15076788276...                        1201.915770   \n",
            "15832924468527961_1564_160_1584_160;15076788277...                        1250.548200   \n",
            "\n",
            "                                                    [CameraBoxComponent].box.center.y  \\\n",
            "index                                                                                   \n",
            "15832924468527961_1564_160_1584_160;15076788268...                         276.636420   \n",
            "15832924468527961_1564_160_1584_160;15076788269...                         282.952320   \n",
            "15832924468527961_1564_160_1584_160;15076788270...                         286.741860   \n",
            "15832924468527961_1564_160_1584_160;15076788271...                         286.741860   \n",
            "15832924468527961_1564_160_1584_160;15076788272...                         279.476543   \n",
            "15832924468527961_1564_160_1584_160;15076788273...                         272.215290   \n",
            "15832924468527961_1564_160_1584_160;15076788274...                         263.373030   \n",
            "15832924468527961_1564_160_1584_160;15076788275...                         254.530770   \n",
            "15832924468527961_1564_160_1584_160;15076788276...                         246.951690   \n",
            "15832924468527961_1564_160_1584_160;15076788277...                         241.898970   \n",
            "\n",
            "                                                    [CameraBoxComponent].box.size.x  \\\n",
            "index                                                                                 \n",
            "15832924468527961_1564_160_1584_160;15076788268...                        58.737870   \n",
            "15832924468527961_1564_160_1584_160;15076788269...                        60.001050   \n",
            "15832924468527961_1564_160_1584_160;15076788270...                        63.790590   \n",
            "15832924468527961_1564_160_1584_160;15076788271...                        68.843310   \n",
            "15832924468527961_1564_160_1584_160;15076788272...                        72.002143   \n",
            "15832924468527961_1564_160_1584_160;15076788273...                        75.159210   \n",
            "15832924468527961_1564_160_1584_160;15076788274...                        76.422390   \n",
            "15832924468527961_1564_160_1584_160;15076788275...                        80.211930   \n",
            "15832924468527961_1564_160_1584_160;15076788276...                        89.685780   \n",
            "15832924468527961_1564_160_1584_160;15076788277...                        90.948960   \n",
            "\n",
            "                                                    [CameraBoxComponent].box.size.y  \\\n",
            "index                                                                                 \n",
            "15832924468527961_1564_160_1584_160;15076788268...                        49.895610   \n",
            "15832924468527961_1564_160_1584_160;15076788269...                        49.895610   \n",
            "15832924468527961_1564_160_1584_160;15076788270...                        51.158790   \n",
            "15832924468527961_1564_160_1584_160;15076788271...                        52.421970   \n",
            "15832924468527961_1564_160_1584_160;15076788272...                        53.053737   \n",
            "15832924468527961_1564_160_1584_160;15076788273...                        53.685150   \n",
            "15832924468527961_1564_160_1584_160;15076788274...                        58.737870   \n",
            "15832924468527961_1564_160_1584_160;15076788275...                        58.737870   \n",
            "15832924468527961_1564_160_1584_160;15076788276...                        60.001050   \n",
            "15832924468527961_1564_160_1584_160;15076788277...                        60.001050   \n",
            "\n",
            "                                                    [CameraBoxComponent].type  \\\n",
            "index                                                                           \n",
            "15832924468527961_1564_160_1584_160;15076788268...                          1   \n",
            "15832924468527961_1564_160_1584_160;15076788269...                          1   \n",
            "15832924468527961_1564_160_1584_160;15076788270...                          1   \n",
            "15832924468527961_1564_160_1584_160;15076788271...                          1   \n",
            "15832924468527961_1564_160_1584_160;15076788272...                          1   \n",
            "15832924468527961_1564_160_1584_160;15076788273...                          1   \n",
            "15832924468527961_1564_160_1584_160;15076788274...                          1   \n",
            "15832924468527961_1564_160_1584_160;15076788275...                          1   \n",
            "15832924468527961_1564_160_1584_160;15076788276...                          1   \n",
            "15832924468527961_1564_160_1584_160;15076788277...                          1   \n",
            "\n",
            "                                                    [CameraBoxComponent].difficulty_level.detection  \\\n",
            "index                                                                                                 \n",
            "15832924468527961_1564_160_1584_160;15076788268...                                              NaN   \n",
            "15832924468527961_1564_160_1584_160;15076788269...                                              NaN   \n",
            "15832924468527961_1564_160_1584_160;15076788270...                                              NaN   \n",
            "15832924468527961_1564_160_1584_160;15076788271...                                              NaN   \n",
            "15832924468527961_1564_160_1584_160;15076788272...                                              NaN   \n",
            "15832924468527961_1564_160_1584_160;15076788273...                                              NaN   \n",
            "15832924468527961_1564_160_1584_160;15076788274...                                              NaN   \n",
            "15832924468527961_1564_160_1584_160;15076788275...                                              NaN   \n",
            "15832924468527961_1564_160_1584_160;15076788276...                                              NaN   \n",
            "15832924468527961_1564_160_1584_160;15076788277...                                              NaN   \n",
            "\n",
            "                                                    [CameraBoxComponent].difficulty_level.tracking  \n",
            "index                                                                                               \n",
            "15832924468527961_1564_160_1584_160;15076788268...                                             NaN  \n",
            "15832924468527961_1564_160_1584_160;15076788269...                                             NaN  \n",
            "15832924468527961_1564_160_1584_160;15076788270...                                             NaN  \n",
            "15832924468527961_1564_160_1584_160;15076788271...                                             NaN  \n",
            "15832924468527961_1564_160_1584_160;15076788272...                                             NaN  \n",
            "15832924468527961_1564_160_1584_160;15076788273...                                             NaN  \n",
            "15832924468527961_1564_160_1584_160;15076788274...                                             NaN  \n",
            "15832924468527961_1564_160_1584_160;15076788275...                                             NaN  \n",
            "15832924468527961_1564_160_1584_160;15076788276...                                             NaN  \n",
            "15832924468527961_1564_160_1584_160;15076788277...                                             NaN  \n"
          ]
        }
      ]
    },
    {
      "cell_type": "code",
      "source": [
        "print(df.columns)"
      ],
      "metadata": {
        "colab": {
          "base_uri": "https://localhost:8080/"
        },
        "id": "oXvTKNrFYxSk",
        "outputId": "f17d64fd-aff1-416e-914f-dc2f08235776"
      },
      "execution_count": 5,
      "outputs": [
        {
          "output_type": "stream",
          "name": "stdout",
          "text": [
            "Index(['key.segment_context_name', 'key.frame_timestamp_micros',\n",
            "       'key.camera_name', 'key.camera_object_id',\n",
            "       '[CameraBoxComponent].box.center.x',\n",
            "       '[CameraBoxComponent].box.center.y', '[CameraBoxComponent].box.size.x',\n",
            "       '[CameraBoxComponent].box.size.y', '[CameraBoxComponent].type',\n",
            "       '[CameraBoxComponent].difficulty_level.detection',\n",
            "       '[CameraBoxComponent].difficulty_level.tracking'],\n",
            "      dtype='object')\n"
          ]
        }
      ]
    },
    {
      "cell_type": "code",
      "source": [
        "import pandas as pd\n",
        "import matplotlib.pyplot as plt\n",
        "\n",
        "# Load the data from the .parquet file\n",
        "data = pd.read_parquet('/content/drive/MyDrive/training/camera_box/file1.parquet')\n",
        "\n",
        "# Select the columns to visualize\n",
        "columns_to_visualize = ['[CameraBoxComponent].box.size.x', '[CameraBoxComponent].box.size.y']\n",
        "\n",
        "# Group the data by object id and get the mean of the selected columns\n",
        "grouped_data = data.groupby('key.camera_name')[columns_to_visualize].mean()\n",
        "\n",
        "# Create a scatter plot of the grouped data\n",
        "plt.scatter(grouped_data['[CameraBoxComponent].box.size.x'], grouped_data['[CameraBoxComponent].box.size.y'])\n",
        "\n",
        "# Set the title and axis labels\n",
        "plt.title('Average Box Size of Objects in Camera Data')\n",
        "plt.xlabel('Box Size X')\n",
        "plt.ylabel('Box Size Y')\n",
        "\n",
        "# Display the plot\n",
        "plt.show()"
      ],
      "metadata": {
        "colab": {
          "base_uri": "https://localhost:8080/",
          "height": 472
        },
        "id": "OCKBazLWYz3v",
        "outputId": "6ce02d91-a4ea-47e0-e881-7648af55f655"
      },
      "execution_count": 8,
      "outputs": [
        {
          "output_type": "display_data",
          "data": {
            "text/plain": [
              "<Figure size 640x480 with 1 Axes>"
            ],
            "image/png": "[encoded data removed]"
          },
          "metadata": {}
        }
      ]
    }
  ]
}