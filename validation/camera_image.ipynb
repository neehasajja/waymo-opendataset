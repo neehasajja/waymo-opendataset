{
  "nbformat": 4,
  "nbformat_minor": 0,
  "metadata": {
    "colab": {
      "provenance": [],
      "authorship_tag": "ABX9TyMnTEjGpvcdRNgZfmnwhXIH",
      "include_colab_link": true
    },
    "kernelspec": {
      "name": "python3",
      "display_name": "Python 3"
    },
    "language_info": {
      "name": "python"
    }
  },
  "cells": [
    {
      "cell_type": "markdown",
      "metadata": {
        "id": "view-in-github",
        "colab_type": "text"
      },
      "source": [
        "<a href=\"https://colab.research.google.com/github/neehasajja/waymo-opendataset/blob/main/validation/camera_image.ipynb\" target=\"_parent\"><img src=\"https://colab.research.google.com/assets/colab-badge.svg\" alt=\"Open In Colab\"/></a>"
      ]
    },
    {
      "cell_type": "code",
      "execution_count": 1,
      "metadata": {
        "colab": {
          "base_uri": "https://localhost:8080/"
        },
        "id": "ImzVPNV6k4kQ",
        "outputId": "b698fa6b-6f61-4680-be90-3f2390c57c73"
      },
      "outputs": [
        {
          "output_type": "stream",
          "name": "stdout",
          "text": [
            "Mounted at /content/drive\n"
          ]
        }
      ],
      "source": [
        "from google.colab import drive\n",
        "drive.mount('/content/drive')"
      ]
    },
    {
      "cell_type": "code",
      "source": [
        "!pip3 install waymo-open-dataset-tf-2-6-0"
      ],
      "metadata": {
        "id": "o2uGhdFik7U-"
      },
      "execution_count": null,
      "outputs": []
    },
    {
      "cell_type": "code",
      "source": [
        "import pyarrow.parquet as pq\n",
        "import pandas as pd\n",
        "\n",
        "# Set the path to the Parquet file\n",
        "parquet_file_path = '/content/drive/MyDrive/validation/camera_image/file1.parquet'\n",
        "\n",
        "# Read the Parquet file into a Pyarrow table\n",
        "table = pq.read_table(parquet_file_path)\n",
        "\n",
        "# Convert the table to a Pandas DataFrame\n",
        "df = table.to_pandas()\n",
        "\n",
        "# Print the first 10 rows of the DataFrame\n",
        "print(df.head(10))"
      ],
      "metadata": {
        "colab": {
          "base_uri": "https://localhost:8080/"
        },
        "id": "2tWRfK9WmG6R",
        "outputId": "229de6a0-5fda-4a47-ae9e-323d33dca351"
      },
      "execution_count": 3,
      "outputs": [
        {
          "output_type": "stream",
          "name": "stdout",
          "text": [
            "                                                               key.segment_context_name  \\\n",
            "index                                                                                     \n",
            "30779396576054160_1880_000_1900_000;15578450726...  30779396576054160_1880_000_1900_000   \n",
            "30779396576054160_1880_000_1900_000;15578450726...  30779396576054160_1880_000_1900_000   \n",
            "30779396576054160_1880_000_1900_000;15578450726...  30779396576054160_1880_000_1900_000   \n",
            "30779396576054160_1880_000_1900_000;15578450726...  30779396576054160_1880_000_1900_000   \n",
            "30779396576054160_1880_000_1900_000;15578450726...  30779396576054160_1880_000_1900_000   \n",
            "30779396576054160_1880_000_1900_000;15578450727...  30779396576054160_1880_000_1900_000   \n",
            "30779396576054160_1880_000_1900_000;15578450727...  30779396576054160_1880_000_1900_000   \n",
            "30779396576054160_1880_000_1900_000;15578450727...  30779396576054160_1880_000_1900_000   \n",
            "30779396576054160_1880_000_1900_000;15578450727...  30779396576054160_1880_000_1900_000   \n",
            "30779396576054160_1880_000_1900_000;15578450727...  30779396576054160_1880_000_1900_000   \n",
            "\n",
            "                                                    key.frame_timestamp_micros  \\\n",
            "index                                                                            \n",
            "30779396576054160_1880_000_1900_000;15578450726...            1557845072664263   \n",
            "30779396576054160_1880_000_1900_000;15578450726...            1557845072664263   \n",
            "30779396576054160_1880_000_1900_000;15578450726...            1557845072664263   \n",
            "30779396576054160_1880_000_1900_000;15578450726...            1557845072664263   \n",
            "30779396576054160_1880_000_1900_000;15578450726...            1557845072664263   \n",
            "30779396576054160_1880_000_1900_000;15578450727...            1557845072764279   \n",
            "30779396576054160_1880_000_1900_000;15578450727...            1557845072764279   \n",
            "30779396576054160_1880_000_1900_000;15578450727...            1557845072764279   \n",
            "30779396576054160_1880_000_1900_000;15578450727...            1557845072764279   \n",
            "30779396576054160_1880_000_1900_000;15578450727...            1557845072764279   \n",
            "\n",
            "                                                    key.camera_name  \\\n",
            "index                                                                 \n",
            "30779396576054160_1880_000_1900_000;15578450726...                1   \n",
            "30779396576054160_1880_000_1900_000;15578450726...                2   \n",
            "30779396576054160_1880_000_1900_000;15578450726...                4   \n",
            "30779396576054160_1880_000_1900_000;15578450726...                3   \n",
            "30779396576054160_1880_000_1900_000;15578450726...                5   \n",
            "30779396576054160_1880_000_1900_000;15578450727...                1   \n",
            "30779396576054160_1880_000_1900_000;15578450727...                2   \n",
            "30779396576054160_1880_000_1900_000;15578450727...                4   \n",
            "30779396576054160_1880_000_1900_000;15578450727...                3   \n",
            "30779396576054160_1880_000_1900_000;15578450727...                5   \n",
            "\n",
            "                                                                         [CameraImageComponent].image  \\\n",
            "index                                                                                                   \n",
            "30779396576054160_1880_000_1900_000;15578450726...  b'\\xff\\xd8\\xff\\xe0\\x00\\x10JFIF\\x00\\x01\\x01\\x00...   \n",
            "30779396576054160_1880_000_1900_000;15578450726...  b'\\xff\\xd8\\xff\\xe0\\x00\\x10JFIF\\x00\\x01\\x01\\x00...   \n",
            "30779396576054160_1880_000_1900_000;15578450726...  b'\\xff\\xd8\\xff\\xe0\\x00\\x10JFIF\\x00\\x01\\x01\\x00...   \n",
            "30779396576054160_1880_000_1900_000;15578450726...  b'\\xff\\xd8\\xff\\xe0\\x00\\x10JFIF\\x00\\x01\\x01\\x00...   \n",
            "30779396576054160_1880_000_1900_000;15578450726...  b'\\xff\\xd8\\xff\\xe0\\x00\\x10JFIF\\x00\\x01\\x01\\x00...   \n",
            "30779396576054160_1880_000_1900_000;15578450727...  b'\\xff\\xd8\\xff\\xe0\\x00\\x10JFIF\\x00\\x01\\x01\\x00...   \n",
            "30779396576054160_1880_000_1900_000;15578450727...  b'\\xff\\xd8\\xff\\xe0\\x00\\x10JFIF\\x00\\x01\\x01\\x00...   \n",
            "30779396576054160_1880_000_1900_000;15578450727...  b'\\xff\\xd8\\xff\\xe0\\x00\\x10JFIF\\x00\\x01\\x01\\x00...   \n",
            "30779396576054160_1880_000_1900_000;15578450727...  b'\\xff\\xd8\\xff\\xe0\\x00\\x10JFIF\\x00\\x01\\x01\\x00...   \n",
            "30779396576054160_1880_000_1900_000;15578450727...  b'\\xff\\xd8\\xff\\xe0\\x00\\x10JFIF\\x00\\x01\\x01\\x00...   \n",
            "\n",
            "                                                                [CameraImageComponent].pose.transform  \\\n",
            "index                                                                                                   \n",
            "30779396576054160_1880_000_1900_000;15578450726...  [0.6198736267786112, 0.7846139622026334, -0.01...   \n",
            "30779396576054160_1880_000_1900_000;15578450726...  [0.6198736267786112, 0.7846139622026334, -0.01...   \n",
            "30779396576054160_1880_000_1900_000;15578450726...  [0.6198736267786112, 0.7846139622026334, -0.01...   \n",
            "30779396576054160_1880_000_1900_000;15578450726...  [0.6198736267786112, 0.7846139622026334, -0.01...   \n",
            "30779396576054160_1880_000_1900_000;15578450726...  [0.6198736267786112, 0.7846139622026334, -0.01...   \n",
            "30779396576054160_1880_000_1900_000;15578450727...  [0.6198736267786112, 0.7846139622026334, -0.01...   \n",
            "30779396576054160_1880_000_1900_000;15578450727...  [0.6198736267786112, 0.7846139622026334, -0.01...   \n",
            "30779396576054160_1880_000_1900_000;15578450727...  [0.6198736267786112, 0.7846139622026334, -0.01...   \n",
            "30779396576054160_1880_000_1900_000;15578450727...  [0.6198736267786112, 0.7846139622026334, -0.01...   \n",
            "30779396576054160_1880_000_1900_000;15578450727...  [0.6198736267786112, 0.7846139622026334, -0.01...   \n",
            "\n",
            "                                                    [CameraImageComponent].velocity.linear_velocity.x  \\\n",
            "index                                                                                                   \n",
            "30779396576054160_1880_000_1900_000;15578450726...                                                0.0   \n",
            "30779396576054160_1880_000_1900_000;15578450726...                                                0.0   \n",
            "30779396576054160_1880_000_1900_000;15578450726...                                                0.0   \n",
            "30779396576054160_1880_000_1900_000;15578450726...                                                0.0   \n",
            "30779396576054160_1880_000_1900_000;15578450726...                                                0.0   \n",
            "30779396576054160_1880_000_1900_000;15578450727...                                                0.0   \n",
            "30779396576054160_1880_000_1900_000;15578450727...                                                0.0   \n",
            "30779396576054160_1880_000_1900_000;15578450727...                                                0.0   \n",
            "30779396576054160_1880_000_1900_000;15578450727...                                                0.0   \n",
            "30779396576054160_1880_000_1900_000;15578450727...                                                0.0   \n",
            "\n",
            "                                                    [CameraImageComponent].velocity.linear_velocity.y  \\\n",
            "index                                                                                                   \n",
            "30779396576054160_1880_000_1900_000;15578450726...                                                0.0   \n",
            "30779396576054160_1880_000_1900_000;15578450726...                                                0.0   \n",
            "30779396576054160_1880_000_1900_000;15578450726...                                                0.0   \n",
            "30779396576054160_1880_000_1900_000;15578450726...                                                0.0   \n",
            "30779396576054160_1880_000_1900_000;15578450726...                                                0.0   \n",
            "30779396576054160_1880_000_1900_000;15578450727...                                                0.0   \n",
            "30779396576054160_1880_000_1900_000;15578450727...                                                0.0   \n",
            "30779396576054160_1880_000_1900_000;15578450727...                                                0.0   \n",
            "30779396576054160_1880_000_1900_000;15578450727...                                                0.0   \n",
            "30779396576054160_1880_000_1900_000;15578450727...                                                0.0   \n",
            "\n",
            "                                                    [CameraImageComponent].velocity.linear_velocity.z  \\\n",
            "index                                                                                                   \n",
            "30779396576054160_1880_000_1900_000;15578450726...                                                0.0   \n",
            "30779396576054160_1880_000_1900_000;15578450726...                                                0.0   \n",
            "30779396576054160_1880_000_1900_000;15578450726...                                                0.0   \n",
            "30779396576054160_1880_000_1900_000;15578450726...                                                0.0   \n",
            "30779396576054160_1880_000_1900_000;15578450726...                                                0.0   \n",
            "30779396576054160_1880_000_1900_000;15578450727...                                                0.0   \n",
            "30779396576054160_1880_000_1900_000;15578450727...                                                0.0   \n",
            "30779396576054160_1880_000_1900_000;15578450727...                                                0.0   \n",
            "30779396576054160_1880_000_1900_000;15578450727...                                                0.0   \n",
            "30779396576054160_1880_000_1900_000;15578450727...                                                0.0   \n",
            "\n",
            "                                                    [CameraImageComponent].velocity.angular_velocity.x  \\\n",
            "index                                                                                                    \n",
            "30779396576054160_1880_000_1900_000;15578450726...                                           0.001706    \n",
            "30779396576054160_1880_000_1900_000;15578450726...                                           0.002067    \n",
            "30779396576054160_1880_000_1900_000;15578450726...                                           0.000543    \n",
            "30779396576054160_1880_000_1900_000;15578450726...                                           0.000302    \n",
            "30779396576054160_1880_000_1900_000;15578450726...                                           0.000789    \n",
            "30779396576054160_1880_000_1900_000;15578450727...                                          -0.001173    \n",
            "30779396576054160_1880_000_1900_000;15578450727...                                           0.001346    \n",
            "30779396576054160_1880_000_1900_000;15578450727...                                          -0.000024    \n",
            "30779396576054160_1880_000_1900_000;15578450727...                                          -0.000598    \n",
            "30779396576054160_1880_000_1900_000;15578450727...                                          -0.000682    \n",
            "\n",
            "                                                    [CameraImageComponent].velocity.angular_velocity.y  \\\n",
            "index                                                                                                    \n",
            "30779396576054160_1880_000_1900_000;15578450726...                                           0.000386    \n",
            "30779396576054160_1880_000_1900_000;15578450726...                                          -0.000688    \n",
            "30779396576054160_1880_000_1900_000;15578450726...                                          -0.000760    \n",
            "30779396576054160_1880_000_1900_000;15578450726...                                           0.000672    \n",
            "30779396576054160_1880_000_1900_000;15578450726...                                          -0.000138    \n",
            "30779396576054160_1880_000_1900_000;15578450727...                                          -0.000283    \n",
            "30779396576054160_1880_000_1900_000;15578450727...                                          -0.001164    \n",
            "30779396576054160_1880_000_1900_000;15578450727...                                           0.000042    \n",
            "30779396576054160_1880_000_1900_000;15578450727...                                           0.000717    \n",
            "30779396576054160_1880_000_1900_000;15578450727...                                          -0.000452    \n",
            "\n",
            "                                                    [CameraImageComponent].velocity.angular_velocity.z  \\\n",
            "index                                                                                                    \n",
            "30779396576054160_1880_000_1900_000;15578450726...                                           0.001887    \n",
            "30779396576054160_1880_000_1900_000;15578450726...                                          -0.004664    \n",
            "30779396576054160_1880_000_1900_000;15578450726...                                           0.001370    \n",
            "30779396576054160_1880_000_1900_000;15578450726...                                          -0.000633    \n",
            "30779396576054160_1880_000_1900_000;15578450726...                                           0.001829    \n",
            "30779396576054160_1880_000_1900_000;15578450727...                                          -0.005082    \n",
            "30779396576054160_1880_000_1900_000;15578450727...                                          -0.000027    \n",
            "30779396576054160_1880_000_1900_000;15578450727...                                           0.001472    \n",
            "30779396576054160_1880_000_1900_000;15578450727...                                          -0.000127    \n",
            "30779396576054160_1880_000_1900_000;15578450727...                                           0.000102    \n",
            "\n",
            "                                                    [CameraImageComponent].pose_timestamp  \\\n",
            "index                                                                                       \n",
            "30779396576054160_1880_000_1900_000;15578450726...                           1.557845e+09   \n",
            "30779396576054160_1880_000_1900_000;15578450726...                           1.557845e+09   \n",
            "30779396576054160_1880_000_1900_000;15578450726...                           1.557845e+09   \n",
            "30779396576054160_1880_000_1900_000;15578450726...                           1.557845e+09   \n",
            "30779396576054160_1880_000_1900_000;15578450726...                           1.557845e+09   \n",
            "30779396576054160_1880_000_1900_000;15578450727...                           1.557845e+09   \n",
            "30779396576054160_1880_000_1900_000;15578450727...                           1.557845e+09   \n",
            "30779396576054160_1880_000_1900_000;15578450727...                           1.557845e+09   \n",
            "30779396576054160_1880_000_1900_000;15578450727...                           1.557845e+09   \n",
            "30779396576054160_1880_000_1900_000;15578450727...                           1.557845e+09   \n",
            "\n",
            "                                                    [CameraImageComponent].rolling_shutter_params.shutter  \\\n",
            "index                                                                                                       \n",
            "30779396576054160_1880_000_1900_000;15578450726...                                           0.005897       \n",
            "30779396576054160_1880_000_1900_000;15578450726...                                           0.006108       \n",
            "30779396576054160_1880_000_1900_000;15578450726...                                           0.008134       \n",
            "30779396576054160_1880_000_1900_000;15578450726...                                           0.007178       \n",
            "30779396576054160_1880_000_1900_000;15578450726...                                           0.009992       \n",
            "30779396576054160_1880_000_1900_000;15578450727...                                           0.005897       \n",
            "30779396576054160_1880_000_1900_000;15578450727...                                           0.006108       \n",
            "30779396576054160_1880_000_1900_000;15578450727...                                           0.008134       \n",
            "30779396576054160_1880_000_1900_000;15578450727...                                           0.007178       \n",
            "30779396576054160_1880_000_1900_000;15578450727...                                           0.009992       \n",
            "\n",
            "                                                    [CameraImageComponent].rolling_shutter_params.camera_trigger_time  \\\n",
            "index                                                                                                                   \n",
            "30779396576054160_1880_000_1900_000;15578450726...                                       1.557845e+09                   \n",
            "30779396576054160_1880_000_1900_000;15578450726...                                       1.557845e+09                   \n",
            "30779396576054160_1880_000_1900_000;15578450726...                                       1.557845e+09                   \n",
            "30779396576054160_1880_000_1900_000;15578450726...                                       1.557845e+09                   \n",
            "30779396576054160_1880_000_1900_000;15578450726...                                       1.557845e+09                   \n",
            "30779396576054160_1880_000_1900_000;15578450727...                                       1.557845e+09                   \n",
            "30779396576054160_1880_000_1900_000;15578450727...                                       1.557845e+09                   \n",
            "30779396576054160_1880_000_1900_000;15578450727...                                       1.557845e+09                   \n",
            "30779396576054160_1880_000_1900_000;15578450727...                                       1.557845e+09                   \n",
            "30779396576054160_1880_000_1900_000;15578450727...                                       1.557845e+09                   \n",
            "\n",
            "                                                    [CameraImageComponent].rolling_shutter_params.camera_readout_done_time  \n",
            "index                                                                                                                       \n",
            "30779396576054160_1880_000_1900_000;15578450726...                                       1.557845e+09                       \n",
            "30779396576054160_1880_000_1900_000;15578450726...                                       1.557845e+09                       \n",
            "30779396576054160_1880_000_1900_000;15578450726...                                       1.557845e+09                       \n",
            "30779396576054160_1880_000_1900_000;15578450726...                                       1.557845e+09                       \n",
            "30779396576054160_1880_000_1900_000;15578450726...                                       1.557845e+09                       \n",
            "30779396576054160_1880_000_1900_000;15578450727...                                       1.557845e+09                       \n",
            "30779396576054160_1880_000_1900_000;15578450727...                                       1.557845e+09                       \n",
            "30779396576054160_1880_000_1900_000;15578450727...                                       1.557845e+09                       \n",
            "30779396576054160_1880_000_1900_000;15578450727...                                       1.557845e+09                       \n",
            "30779396576054160_1880_000_1900_000;15578450727...                                       1.557845e+09                       \n"
          ]
        }
      ]
    },
    {
      "cell_type": "code",
      "source": [],
      "metadata": {
        "id": "G278zopM0keH"
      },
      "execution_count": null,
      "outputs": []
    },
    {
      "cell_type": "code",
      "source": [
        "from pathlib import Path\n",
        "\n",
        "data_dir = Path('/content/drive/MyDrive/validation/camera_image/')\n",
        "file_list = list(data_dir.glob('*.parquet'))\n",
        "num_files = len(file_list)\n",
        "print(f\"Number of files in the camera box dataset: {num_files}\")"
      ],
      "metadata": {
        "colab": {
          "base_uri": "https://localhost:8080/"
        },
        "id": "MpvVw8h4mSms",
        "outputId": "6d5f3858-4e7b-492d-f94f-c3378b14a3ec"
      },
      "execution_count": 4,
      "outputs": [
        {
          "output_type": "stream",
          "name": "stdout",
          "text": [
            "Number of files in the camera box dataset: 202\n"
          ]
        }
      ]
    },
    {
      "cell_type": "code",
      "source": [
        "from pathlib import Path\n",
        "\n",
        "data_dir = Path('/content/drive/MyDrive/validation/camera_image/file1.parquet')\n",
        "file_list = list(data_dir.glob('*.parquet'))\n",
        "num_files = len(file_list)\n",
        "print(f\"Number of files in the camera box dataset: {num_files}\")"
      ],
      "metadata": {
        "colab": {
          "base_uri": "https://localhost:8080/"
        },
        "id": "N9Q4mbSvmiRm",
        "outputId": "b7bc4148-f9f1-40b7-8b99-d7d1fc782cc2"
      },
      "execution_count": 5,
      "outputs": [
        {
          "output_type": "stream",
          "name": "stdout",
          "text": [
            "Number of files in the camera box dataset: 0\n"
          ]
        }
      ]
    },
    {
      "cell_type": "code",
      "source": [
        "import pandas as pd\n",
        "import os\n",
        "\n",
        "image_dir = '/path/to/camera_image'\n",
        "box_dir = '/path/to/camera_box'\n",
        "\n",
        "# Get list of files in camera image directory\n",
        "image_files = os.listdir(image_dir)\n",
        "\n",
        "# Create a dictionary to store the counts for each class\n",
        "class_counts = {'pedestrian': 0, 'car': 0}\n",
        "\n",
        "# Loop through each image file\n",
        "for image_file in image_files:\n",
        "    # Get the timestamp from the image file name\n",
        "    timestamp = int(image_file.split('.')[0])\n",
        "    \n",
        "    # Load the bounding box dataframe for this timestamp\n",
        "    box_file = os.path.join(box_dir, f'{timestamp}.parquet')\n",
        "    box_df = pd.read_parquet(box_file)\n",
        "    \n",
        "    # Get the counts for each class in this dataframe\n",
        "    counts = box_df['class_name'].value_counts()\n",
        "    \n",
        "    # Add the counts to the overall counts for each class\n",
        "    class_counts['pedestrian'] += counts.get('pedestrian', 0)\n",
        "    class_counts['car'] += counts.get('car', 0)\n",
        "\n",
        "# Print the counts for each class\n",
        "print(f\"Number of pedestrian images: {class_counts['pedestrian']}\")\n",
        "print(f\"Number of car images: {class_counts['car']}\")\n"
      ],
      "metadata": {
        "id": "Bszqt0zDm80b"
      },
      "execution_count": null,
      "outputs": []
    },
    {
      "cell_type": "code",
      "source": [
        "print(df.columns)"
      ],
      "metadata": {
        "colab": {
          "base_uri": "https://localhost:8080/"
        },
        "id": "It7rAjetm95Q",
        "outputId": "9853e374-ad40-4a40-eb28-5679a05b233e"
      },
      "execution_count": 6,
      "outputs": [
        {
          "output_type": "stream",
          "name": "stdout",
          "text": [
            "Index(['key.segment_context_name', 'key.frame_timestamp_micros',\n",
            "       'key.camera_name', '[CameraImageComponent].image',\n",
            "       '[CameraImageComponent].pose.transform',\n",
            "       '[CameraImageComponent].velocity.linear_velocity.x',\n",
            "       '[CameraImageComponent].velocity.linear_velocity.y',\n",
            "       '[CameraImageComponent].velocity.linear_velocity.z',\n",
            "       '[CameraImageComponent].velocity.angular_velocity.x',\n",
            "       '[CameraImageComponent].velocity.angular_velocity.y',\n",
            "       '[CameraImageComponent].velocity.angular_velocity.z',\n",
            "       '[CameraImageComponent].pose_timestamp',\n",
            "       '[CameraImageComponent].rolling_shutter_params.shutter',\n",
            "       '[CameraImageComponent].rolling_shutter_params.camera_trigger_time',\n",
            "       '[CameraImageComponent].rolling_shutter_params.camera_readout_done_time'],\n",
            "      dtype='object')\n"
          ]
        }
      ]
    },
    {
      "cell_type": "code",
      "source": [
        "import pandas as pd\n",
        "import pyarrow.parquet as pq\n",
        "\n",
        "df = pd.read_parquet('/content/drive/MyDrive/validation/camera_image/file1.parquet')\n",
        "num_images = len(df['[CameraImageComponent].image'].unique())\n",
        "\n",
        "\n",
        "print(\"Number of images:\", num_images)"
      ],
      "metadata": {
        "colab": {
          "base_uri": "https://localhost:8080/"
        },
        "id": "HGyH6LLwnPVw",
        "outputId": "88be6453-b6c0-418c-9046-c2c615e5ea0e"
      },
      "execution_count": 10,
      "outputs": [
        {
          "output_type": "stream",
          "name": "stdout",
          "text": [
            "Number of images: 990\n"
          ]
        }
      ]
    },
    {
      "cell_type": "code",
      "source": [
        "import pandas as pd\n",
        "import pyarrow.parquet as pq\n",
        "from PIL import Image\n",
        "\n",
        "df = pd.read_parquet('/content/drive/MyDrive/validation/camera_image/file1.parquet')\n",
        "num_images = len(df['[CameraImageComponent].image'].unique())\n",
        "\n",
        "# Extract and display the first image in the dataset\n",
        "image_data = pq.read_table('/content/drive/MyDrive/validation/camera_image/file1.parquet').to_pandas()\n",
        "first_image = image_data.iloc[0]['[CameraImageComponent].image']\n",
        "print(\"First image in the dataset:\\n\", first_image)\n",
        "\n",
        "print(\"Number of images:\", num_images)"
      ],
      "metadata": {
        "id": "JuwKvlp4n7Qi"
      },
      "execution_count": null,
      "outputs": []
    },
    {
      "cell_type": "code",
      "source": [],
      "metadata": {
        "id": "gXABBEqCq21X"
      },
      "execution_count": null,
      "outputs": []
    },
    {
      "cell_type": "code",
      "source": [
        "import glob\n",
        "import pandas as pd\n",
        "\n",
        "image_files = glob.glob('/content/drive/MyDrive/validation/camera_image/*.parquet')\n",
        "\n",
        "num_images = 0\n",
        "for file_path in image_files:\n",
        "    df = pd.read_parquet(file_path)\n",
        "    num_images += len(df['[CameraImageComponent].image'].unique())\n",
        "\n",
        "print(\"Number of images in the directory:\", num_images)"
      ],
      "metadata": {
        "id": "v0EI7gGhqHcD"
      },
      "execution_count": null,
      "outputs": []
    }
  ]
}