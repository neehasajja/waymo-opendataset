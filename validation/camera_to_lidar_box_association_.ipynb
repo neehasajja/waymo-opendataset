{
  "nbformat": 4,
  "nbformat_minor": 0,
  "metadata": {
    "colab": {
      "provenance": [],
      "authorship_tag": "ABX9TyOSiXQwdsLN5bM1BdeCvh6b",
      "include_colab_link": true
    },
    "kernelspec": {
      "name": "python3",
      "display_name": "Python 3"
    },
    "language_info": {
      "name": "python"
    }
  },
  "cells": [
    {
      "cell_type": "markdown",
      "metadata": {
        "id": "view-in-github",
        "colab_type": "text"
      },
      "source": [
        "<a href=\"https://colab.research.google.com/github/neehasajja/waymo-opendataset/blob/main/validation/camera_to_lidar_box_association_.ipynb\" target=\"_parent\"><img src=\"https://colab.research.google.com/assets/colab-badge.svg\" alt=\"Open In Colab\"/></a>"
      ]
    },
    {
      "cell_type": "code",
      "execution_count": 1,
      "metadata": {
        "colab": {
          "base_uri": "https://localhost:8080/"
        },
        "id": "6QleTbvduICV",
        "outputId": "7b17a8c7-28f6-4134-8d68-8c4a6550a096"
      },
      "outputs": [
        {
          "output_type": "stream",
          "name": "stdout",
          "text": [
            "Mounted at /content/drive\n"
          ]
        }
      ],
      "source": [
        "from google.colab import drive\n",
        "drive.mount('/content/drive')"
      ]
    },
    {
      "cell_type": "code",
      "source": [
        "!pip3 install waymo-open-dataset-tf-2-6-0"
      ],
      "metadata": {
        "id": "eL9CzuySuZid",
        "outputId": "25693653-f64b-4f0d-d8b6-5b771cfc1bad",
        "colab": {
          "base_uri": "https://localhost:8080/"
        }
      },
      "execution_count": 2,
      "outputs": [
        {
          "output_type": "stream",
          "name": "stdout",
          "text": [
            "Looking in indexes: https://pypi.org/simple, https://us-python.pkg.dev/colab-wheels/public/simple/\n",
            "Collecting waymo-open-dataset-tf-2-6-0\n",
            "  Downloading waymo_open_dataset_tf_2_6_0-1.4.9-cp39-cp39-manylinux_2_12_x86_64.manylinux2010_x86_64.whl (3.4 MB)\n",
            "\u001b[2K     \u001b[90m━━━━━━━━━━━━━━━━━━━━━━━━━━━━━━━━━━━━━━━━\u001b[0m \u001b[32m3.4/3.4 MB\u001b[0m \u001b[31m18.8 MB/s\u001b[0m eta \u001b[36m0:00:00\u001b[0m\n",
            "\u001b[?25hRequirement already satisfied: scikit-image>=0.17.2immutabledict>=2.0.0 in /usr/local/lib/python3.9/dist-packages (from waymo-open-dataset-tf-2-6-0) (0.19.3)\n",
            "Requirement already satisfied: matplotlib>=3.2.2 in /usr/local/lib/python3.9/dist-packages (from waymo-open-dataset-tf-2-6-0) (3.7.1)\n",
            "Requirement already satisfied: plotly>=5.5.0 in /usr/local/lib/python3.9/dist-packages (from waymo-open-dataset-tf-2-6-0) (5.13.1)\n",
            "Collecting tensorflow==2.6.0\n",
            "  Downloading tensorflow-2.6.0-cp39-cp39-manylinux2010_x86_64.whl (458.4 MB)\n",
            "\u001b[2K     \u001b[90m━━━━━━━━━━━━━━━━━━━━━━━━━━━━━━━━━━━━━━━\u001b[0m \u001b[32m458.4/458.4 MB\u001b[0m \u001b[31m2.7 MB/s\u001b[0m eta \u001b[36m0:00:00\u001b[0m\n",
            "\u001b[?25hCollecting h5py~=3.1.0\n",
            "  Downloading h5py-3.1.0-cp39-cp39-manylinux1_x86_64.whl (4.4 MB)\n",
            "\u001b[2K     \u001b[90m━━━━━━━━━━━━━━━━━━━━━━━━━━━━━━━━━━━━━━━━\u001b[0m \u001b[32m4.4/4.4 MB\u001b[0m \u001b[31m72.8 MB/s\u001b[0m eta \u001b[36m0:00:00\u001b[0m\n",
            "\u001b[?25hRequirement already satisfied: gast==0.4.0 in /usr/local/lib/python3.9/dist-packages (from tensorflow==2.6.0->waymo-open-dataset-tf-2-6-0) (0.4.0)\n",
            "Collecting numpy~=1.19.2\n",
            "  Downloading numpy-1.19.5-cp39-cp39-manylinux2010_x86_64.whl (14.9 MB)\n",
            "\u001b[2K     \u001b[90m━━━━━━━━━━━━━━━━━━━━━━━━━━━━━━━━━━━━━━━━\u001b[0m \u001b[32m14.9/14.9 MB\u001b[0m \u001b[31m64.6 MB/s\u001b[0m eta \u001b[36m0:00:00\u001b[0m\n",
            "\u001b[?25hRequirement already satisfied: protobuf>=3.9.2 in /usr/local/lib/python3.9/dist-packages (from tensorflow==2.6.0->waymo-open-dataset-tf-2-6-0) (3.20.3)\n",
            "Collecting wrapt~=1.12.1\n",
            "  Downloading wrapt-1.12.1.tar.gz (27 kB)\n",
            "  Preparing metadata (setup.py) ... \u001b[?25l\u001b[?25hdone\n",
            "Requirement already satisfied: grpcio<2.0,>=1.37.0 in /usr/local/lib/python3.9/dist-packages (from tensorflow==2.6.0->waymo-open-dataset-tf-2-6-0) (1.53.0)\n",
            "Collecting keras-preprocessing~=1.1.2\n",
            "  Downloading Keras_Preprocessing-1.1.2-py2.py3-none-any.whl (42 kB)\n",
            "\u001b[2K     \u001b[90m━━━━━━━━━━━━━━━━━━━━━━━━━━━━━━━━━━━━━━━━\u001b[0m \u001b[32m42.6/42.6 kB\u001b[0m \u001b[31m4.2 MB/s\u001b[0m eta \u001b[36m0:00:00\u001b[0m\n",
            "\u001b[?25hRequirement already satisfied: google-pasta~=0.2 in /usr/local/lib/python3.9/dist-packages (from tensorflow==2.6.0->waymo-open-dataset-tf-2-6-0) (0.2.0)\n",
            "Requirement already satisfied: wheel~=0.35 in /usr/local/lib/python3.9/dist-packages (from tensorflow==2.6.0->waymo-open-dataset-tf-2-6-0) (0.40.0)\n",
            "Requirement already satisfied: keras~=2.6 in /usr/local/lib/python3.9/dist-packages (from tensorflow==2.6.0->waymo-open-dataset-tf-2-6-0) (2.12.0)\n",
            "Collecting flatbuffers~=1.12.0\n",
            "  Downloading flatbuffers-1.12-py2.py3-none-any.whl (15 kB)\n",
            "Collecting clang~=5.0\n",
            "  Downloading clang-5.0.tar.gz (30 kB)\n",
            "  Preparing metadata (setup.py) ... \u001b[?25l\u001b[?25hdone\n",
            "Requirement already satisfied: tensorflow-estimator~=2.6 in /usr/local/lib/python3.9/dist-packages (from tensorflow==2.6.0->waymo-open-dataset-tf-2-6-0) (2.12.0)\n",
            "Collecting six~=1.15.0\n",
            "  Downloading six-1.15.0-py2.py3-none-any.whl (10 kB)\n",
            "Collecting absl-py~=0.10\n",
            "  Downloading absl_py-0.15.0-py3-none-any.whl (132 kB)\n",
            "\u001b[2K     \u001b[90m━━━━━━━━━━━━━━━━━━━━━━━━━━━━━━━━━━━━━━\u001b[0m \u001b[32m132.0/132.0 kB\u001b[0m \u001b[31m11.3 MB/s\u001b[0m eta \u001b[36m0:00:00\u001b[0m\n",
            "\u001b[?25hCollecting termcolor~=1.1.0\n",
            "  Downloading termcolor-1.1.0.tar.gz (3.9 kB)\n",
            "  Preparing metadata (setup.py) ... \u001b[?25l\u001b[?25hdone\n",
            "Collecting typing-extensions~=3.7.4\n",
            "  Downloading typing_extensions-3.7.4.3-py3-none-any.whl (22 kB)\n",
            "Requirement already satisfied: opt-einsum~=3.3.0 in /usr/local/lib/python3.9/dist-packages (from tensorflow==2.6.0->waymo-open-dataset-tf-2-6-0) (3.3.0)\n",
            "Requirement already satisfied: astunparse~=1.6.3 in /usr/local/lib/python3.9/dist-packages (from tensorflow==2.6.0->waymo-open-dataset-tf-2-6-0) (1.6.3)\n",
            "Requirement already satisfied: tensorboard~=2.6 in /usr/local/lib/python3.9/dist-packages (from tensorflow==2.6.0->waymo-open-dataset-tf-2-6-0) (2.12.1)\n",
            "Requirement already satisfied: cycler>=0.10 in /usr/local/lib/python3.9/dist-packages (from matplotlib>=3.2.2->waymo-open-dataset-tf-2-6-0) (0.11.0)\n",
            "Requirement already satisfied: kiwisolver>=1.0.1 in /usr/local/lib/python3.9/dist-packages (from matplotlib>=3.2.2->waymo-open-dataset-tf-2-6-0) (1.4.4)\n",
            "Requirement already satisfied: importlib-resources>=3.2.0 in /usr/local/lib/python3.9/dist-packages (from matplotlib>=3.2.2->waymo-open-dataset-tf-2-6-0) (5.12.0)\n",
            "Collecting matplotlib>=3.2.2\n",
            "  Downloading matplotlib-3.7.0-cp39-cp39-manylinux_2_17_x86_64.manylinux2014_x86_64.whl (11.6 MB)\n",
            "\u001b[2K     \u001b[90m━━━━━━━━━━━━━━━━━━━━━━━━━━━━━━━━━━━━━━━━\u001b[0m \u001b[32m11.6/11.6 MB\u001b[0m \u001b[31m71.6 MB/s\u001b[0m eta \u001b[36m0:00:00\u001b[0m\n",
            "\u001b[?25h  Downloading matplotlib-3.6.3-cp39-cp39-manylinux_2_17_x86_64.manylinux2014_x86_64.whl (11.8 MB)\n",
            "\u001b[2K     \u001b[90m━━━━━━━━━━━━━━━━━━━━━━━━━━━━━━━━━━━━━━━━\u001b[0m \u001b[32m11.8/11.8 MB\u001b[0m \u001b[31m82.2 MB/s\u001b[0m eta \u001b[36m0:00:00\u001b[0m\n",
            "\u001b[?25hRequirement already satisfied: contourpy>=1.0.1 in /usr/local/lib/python3.9/dist-packages (from matplotlib>=3.2.2->waymo-open-dataset-tf-2-6-0) (1.0.7)\n",
            "Requirement already satisfied: packaging>=20.0 in /usr/local/lib/python3.9/dist-packages (from matplotlib>=3.2.2->waymo-open-dataset-tf-2-6-0) (23.0)\n",
            "Requirement already satisfied: fonttools>=4.22.0 in /usr/local/lib/python3.9/dist-packages (from matplotlib>=3.2.2->waymo-open-dataset-tf-2-6-0) (4.39.3)\n",
            "Requirement already satisfied: pillow>=6.2.0 in /usr/local/lib/python3.9/dist-packages (from matplotlib>=3.2.2->waymo-open-dataset-tf-2-6-0) (8.4.0)\n",
            "Requirement already satisfied: pyparsing>=2.2.1 in /usr/local/lib/python3.9/dist-packages (from matplotlib>=3.2.2->waymo-open-dataset-tf-2-6-0) (3.0.9)\n",
            "Requirement already satisfied: python-dateutil>=2.7 in /usr/local/lib/python3.9/dist-packages (from matplotlib>=3.2.2->waymo-open-dataset-tf-2-6-0) (2.8.2)\n",
            "Requirement already satisfied: tenacity>=6.2.0 in /usr/local/lib/python3.9/dist-packages (from plotly>=5.5.0->waymo-open-dataset-tf-2-6-0) (8.2.2)\n",
            "Requirement already satisfied: scipy>=1.4.1 in /usr/local/lib/python3.9/dist-packages (from scikit-image>=0.17.2immutabledict>=2.0.0->waymo-open-dataset-tf-2-6-0) (1.10.1)\n",
            "Requirement already satisfied: tifffile>=2019.7.26 in /usr/local/lib/python3.9/dist-packages (from scikit-image>=0.17.2immutabledict>=2.0.0->waymo-open-dataset-tf-2-6-0) (2023.3.21)\n",
            "Requirement already satisfied: PyWavelets>=1.1.1 in /usr/local/lib/python3.9/dist-packages (from scikit-image>=0.17.2immutabledict>=2.0.0->waymo-open-dataset-tf-2-6-0) (1.4.1)\n",
            "Requirement already satisfied: imageio>=2.4.1 in /usr/local/lib/python3.9/dist-packages (from scikit-image>=0.17.2immutabledict>=2.0.0->waymo-open-dataset-tf-2-6-0) (2.25.1)\n",
            "Requirement already satisfied: networkx>=2.2 in /usr/local/lib/python3.9/dist-packages (from scikit-image>=0.17.2immutabledict>=2.0.0->waymo-open-dataset-tf-2-6-0) (3.1)\n",
            "Requirement already satisfied: markdown>=2.6.8 in /usr/local/lib/python3.9/dist-packages (from tensorboard~=2.6->tensorflow==2.6.0->waymo-open-dataset-tf-2-6-0) (3.4.3)\n",
            "Requirement already satisfied: setuptools>=41.0.0 in /usr/local/lib/python3.9/dist-packages (from tensorboard~=2.6->tensorflow==2.6.0->waymo-open-dataset-tf-2-6-0) (67.6.1)\n",
            "Requirement already satisfied: tensorboard-plugin-wit>=1.6.0 in /usr/local/lib/python3.9/dist-packages (from tensorboard~=2.6->tensorflow==2.6.0->waymo-open-dataset-tf-2-6-0) (1.8.1)\n",
            "Requirement already satisfied: requests<3,>=2.21.0 in /usr/local/lib/python3.9/dist-packages (from tensorboard~=2.6->tensorflow==2.6.0->waymo-open-dataset-tf-2-6-0) (2.27.1)\n",
            "Requirement already satisfied: werkzeug>=1.0.1 in /usr/local/lib/python3.9/dist-packages (from tensorboard~=2.6->tensorflow==2.6.0->waymo-open-dataset-tf-2-6-0) (2.2.3)\n",
            "Requirement already satisfied: tensorboard-data-server<0.8.0,>=0.7.0 in /usr/local/lib/python3.9/dist-packages (from tensorboard~=2.6->tensorflow==2.6.0->waymo-open-dataset-tf-2-6-0) (0.7.0)\n",
            "Requirement already satisfied: google-auth<3,>=1.6.3 in /usr/local/lib/python3.9/dist-packages (from tensorboard~=2.6->tensorflow==2.6.0->waymo-open-dataset-tf-2-6-0) (2.17.2)\n",
            "Requirement already satisfied: google-auth-oauthlib<1.1,>=0.5 in /usr/local/lib/python3.9/dist-packages (from tensorboard~=2.6->tensorflow==2.6.0->waymo-open-dataset-tf-2-6-0) (1.0.0)\n",
            "Requirement already satisfied: pyasn1-modules>=0.2.1 in /usr/local/lib/python3.9/dist-packages (from google-auth<3,>=1.6.3->tensorboard~=2.6->tensorflow==2.6.0->waymo-open-dataset-tf-2-6-0) (0.2.8)\n",
            "Requirement already satisfied: cachetools<6.0,>=2.0.0 in /usr/local/lib/python3.9/dist-packages (from google-auth<3,>=1.6.3->tensorboard~=2.6->tensorflow==2.6.0->waymo-open-dataset-tf-2-6-0) (5.3.0)\n",
            "Requirement already satisfied: rsa<5,>=3.1.4 in /usr/local/lib/python3.9/dist-packages (from google-auth<3,>=1.6.3->tensorboard~=2.6->tensorflow==2.6.0->waymo-open-dataset-tf-2-6-0) (4.9)\n",
            "Requirement already satisfied: requests-oauthlib>=0.7.0 in /usr/local/lib/python3.9/dist-packages (from google-auth-oauthlib<1.1,>=0.5->tensorboard~=2.6->tensorflow==2.6.0->waymo-open-dataset-tf-2-6-0) (1.3.1)\n",
            "Requirement already satisfied: importlib-metadata>=4.4 in /usr/local/lib/python3.9/dist-packages (from markdown>=2.6.8->tensorboard~=2.6->tensorflow==2.6.0->waymo-open-dataset-tf-2-6-0) (6.3.0)\n",
            "Requirement already satisfied: idna<4,>=2.5 in /usr/local/lib/python3.9/dist-packages (from requests<3,>=2.21.0->tensorboard~=2.6->tensorflow==2.6.0->waymo-open-dataset-tf-2-6-0) (3.4)\n",
            "Requirement already satisfied: charset-normalizer~=2.0.0 in /usr/local/lib/python3.9/dist-packages (from requests<3,>=2.21.0->tensorboard~=2.6->tensorflow==2.6.0->waymo-open-dataset-tf-2-6-0) (2.0.12)\n",
            "Requirement already satisfied: urllib3<1.27,>=1.21.1 in /usr/local/lib/python3.9/dist-packages (from requests<3,>=2.21.0->tensorboard~=2.6->tensorflow==2.6.0->waymo-open-dataset-tf-2-6-0) (1.26.15)\n",
            "Requirement already satisfied: certifi>=2017.4.17 in /usr/local/lib/python3.9/dist-packages (from requests<3,>=2.21.0->tensorboard~=2.6->tensorflow==2.6.0->waymo-open-dataset-tf-2-6-0) (2022.12.7)\n",
            "Requirement already satisfied: MarkupSafe>=2.1.1 in /usr/local/lib/python3.9/dist-packages (from werkzeug>=1.0.1->tensorboard~=2.6->tensorflow==2.6.0->waymo-open-dataset-tf-2-6-0) (2.1.2)\n",
            "Requirement already satisfied: zipp>=0.5 in /usr/local/lib/python3.9/dist-packages (from importlib-metadata>=4.4->markdown>=2.6.8->tensorboard~=2.6->tensorflow==2.6.0->waymo-open-dataset-tf-2-6-0) (3.15.0)\n",
            "Requirement already satisfied: pyasn1<0.5.0,>=0.4.6 in /usr/local/lib/python3.9/dist-packages (from pyasn1-modules>=0.2.1->google-auth<3,>=1.6.3->tensorboard~=2.6->tensorflow==2.6.0->waymo-open-dataset-tf-2-6-0) (0.4.8)\n",
            "Requirement already satisfied: oauthlib>=3.0.0 in /usr/local/lib/python3.9/dist-packages (from requests-oauthlib>=0.7.0->google-auth-oauthlib<1.1,>=0.5->tensorboard~=2.6->tensorflow==2.6.0->waymo-open-dataset-tf-2-6-0) (3.2.2)\n",
            "Building wheels for collected packages: clang, termcolor, wrapt\n",
            "  Building wheel for clang (setup.py) ... \u001b[?25l\u001b[?25hdone\n",
            "  Created wheel for clang: filename=clang-5.0-py3-none-any.whl size=30692 sha256=2cea0753b139dd84a81ae086485da766b9ffbb8e997d4d90a74d4d1df3f7c2c8\n",
            "  Stored in directory: /root/.cache/pip/wheels/3a/ce/7a/27094f689461801c934296d07078773603663dfcaca63bb064\n",
            "  Building wheel for termcolor (setup.py) ... \u001b[?25l\u001b[?25hdone\n",
            "  Created wheel for termcolor: filename=termcolor-1.1.0-py3-none-any.whl size=4845 sha256=df43eb3bf6c2d2c940abab2a31689b306e81671682b9b499e68e9898ce741ea8\n",
            "  Stored in directory: /root/.cache/pip/wheels/b6/0d/90/0d1bbd99855f99cb2f6c2e5ff96f8023fad8ec367695f7d72d\n",
            "  Building wheel for wrapt (setup.py) ... \u001b[?25l\u001b[?25hdone\n",
            "  Created wheel for wrapt: filename=wrapt-1.12.1-cp39-cp39-linux_x86_64.whl size=75956 sha256=beaeaaa417e66674df82698884b192210a6479c271b6173e45da614f61f88f75\n",
            "  Stored in directory: /root/.cache/pip/wheels/98/23/68/efe259aaca055e93b08e74fbe512819c69a2155c11ba3c0f10\n",
            "Successfully built clang termcolor wrapt\n",
            "Installing collected packages: wrapt, typing-extensions, termcolor, flatbuffers, clang, six, numpy, keras-preprocessing, h5py, absl-py, matplotlib, tensorflow, waymo-open-dataset-tf-2-6-0\n",
            "  Attempting uninstall: wrapt\n",
            "    Found existing installation: wrapt 1.14.1\n",
            "    Uninstalling wrapt-1.14.1:\n",
            "      Successfully uninstalled wrapt-1.14.1\n",
            "  Attempting uninstall: typing-extensions\n",
            "    Found existing installation: typing_extensions 4.5.0\n",
            "    Uninstalling typing_extensions-4.5.0:\n",
            "      Successfully uninstalled typing_extensions-4.5.0\n",
            "  Attempting uninstall: termcolor\n",
            "    Found existing installation: termcolor 2.2.0\n",
            "    Uninstalling termcolor-2.2.0:\n",
            "      Successfully uninstalled termcolor-2.2.0\n",
            "  Attempting uninstall: flatbuffers\n",
            "    Found existing installation: flatbuffers 23.3.3\n",
            "    Uninstalling flatbuffers-23.3.3:\n",
            "      Successfully uninstalled flatbuffers-23.3.3\n",
            "  Attempting uninstall: six\n",
            "    Found existing installation: six 1.16.0\n",
            "    Uninstalling six-1.16.0:\n",
            "      Successfully uninstalled six-1.16.0\n",
            "  Attempting uninstall: numpy\n",
            "    Found existing installation: numpy 1.22.4\n",
            "    Uninstalling numpy-1.22.4:\n",
            "      Successfully uninstalled numpy-1.22.4\n",
            "  Attempting uninstall: h5py\n",
            "    Found existing installation: h5py 3.8.0\n",
            "    Uninstalling h5py-3.8.0:\n",
            "      Successfully uninstalled h5py-3.8.0\n",
            "  Attempting uninstall: absl-py\n",
            "    Found existing installation: absl-py 1.4.0\n",
            "    Uninstalling absl-py-1.4.0:\n",
            "      Successfully uninstalled absl-py-1.4.0\n",
            "  Attempting uninstall: matplotlib\n",
            "    Found existing installation: matplotlib 3.7.1\n",
            "    Uninstalling matplotlib-3.7.1:\n",
            "      Successfully uninstalled matplotlib-3.7.1\n",
            "  Attempting uninstall: tensorflow\n",
            "    Found existing installation: tensorflow 2.12.0\n",
            "    Uninstalling tensorflow-2.12.0:\n",
            "      Successfully uninstalled tensorflow-2.12.0\n",
            "\u001b[31mERROR: pip's dependency resolver does not currently take into account all the packages that are installed. This behaviour is the source of the following dependency conflicts.\n",
            "xarray 2022.12.0 requires numpy>=1.20, but you have numpy 1.19.5 which is incompatible.\n",
            "xarray-einstats 0.5.1 requires numpy>=1.20, but you have numpy 1.19.5 which is incompatible.\n",
            "sqlalchemy 2.0.9 requires typing-extensions>=4.2.0, but you have typing-extensions 3.7.4.3 which is incompatible.\n",
            "pydantic 1.10.7 requires typing-extensions>=4.2.0, but you have typing-extensions 3.7.4.3 which is incompatible.\n",
            "pandas 1.5.3 requires numpy>=1.20.3; python_version < \"3.10\", but you have numpy 1.19.5 which is incompatible.\n",
            "optax 0.1.4 requires typing-extensions>=3.10.0, but you have typing-extensions 3.7.4.3 which is incompatible.\n",
            "ml-dtypes 0.0.4 requires numpy>1.20, but you have numpy 1.19.5 which is incompatible.\n",
            "librosa 0.10.0.post2 requires numpy!=1.22.0,!=1.22.1,!=1.22.2,>=1.20.3, but you have numpy 1.19.5 which is incompatible.\n",
            "librosa 0.10.0.post2 requires typing-extensions>=4.1.1, but you have typing-extensions 3.7.4.3 which is incompatible.\n",
            "jaxlib 0.4.7+cuda11.cudnn86 requires numpy>=1.21, but you have numpy 1.19.5 which is incompatible.\n",
            "jax 0.4.8 requires numpy>=1.21, but you have numpy 1.19.5 which is incompatible.\n",
            "flax 0.6.8 requires typing-extensions>=4.1.1, but you have typing-extensions 3.7.4.3 which is incompatible.\n",
            "cmdstanpy 1.1.0 requires numpy>=1.21, but you have numpy 1.19.5 which is incompatible.\n",
            "chex 0.1.7 requires typing-extensions>=4.2.0; python_version < \"3.11\", but you have typing-extensions 3.7.4.3 which is incompatible.\n",
            "bokeh 2.4.3 requires typing-extensions>=3.10.0, but you have typing-extensions 3.7.4.3 which is incompatible.\n",
            "astropy 5.2.2 requires numpy>=1.20, but you have numpy 1.19.5 which is incompatible.\n",
            "arviz 0.15.1 requires numpy>=1.20.0, but you have numpy 1.19.5 which is incompatible.\n",
            "arviz 0.15.1 requires typing-extensions>=4.1.0, but you have typing-extensions 3.7.4.3 which is incompatible.\u001b[0m\u001b[31m\n",
            "\u001b[0mSuccessfully installed absl-py-0.15.0 clang-5.0 flatbuffers-1.12 h5py-3.1.0 keras-preprocessing-1.1.2 matplotlib-3.6.3 numpy-1.19.5 six-1.15.0 tensorflow-2.6.0 termcolor-1.1.0 typing-extensions-3.7.4.3 waymo-open-dataset-tf-2-6-0-1.4.9 wrapt-1.12.1\n"
          ]
        }
      ]
    },
    {
      "cell_type": "code",
      "source": [
        "import pyarrow.parquet as pq\n",
        "import pandas as pd\n",
        "\n",
        "# Set the path to the Parquet file\n",
        "parquet_file_path = '/content/drive/MyDrive/validation/camera_to_lidar_box_association/file1.parquet'\n",
        "\n",
        "# Read the Parquet file into a Pyarrow table\n",
        "table = pq.read_table(parquet_file_path)\n",
        "\n",
        "# Convert the table to a Pandas DataFrame\n",
        "df = table.to_pandas()\n",
        "\n",
        "# Print the first 10 rows of the DataFrame\n",
        "print(df.head(10))"
      ],
      "metadata": {
        "colab": {
          "base_uri": "https://localhost:8080/"
        },
        "id": "De_iTu1cuoB-",
        "outputId": "3dbbe440-8379-429a-e5f2-1cf2da883d10"
      },
      "execution_count": null,
      "outputs": [
        {
          "output_type": "stream",
          "name": "stdout",
          "text": [
            "                                                                  key.segment_context_name  \\\n",
            "index                                                                                        \n",
            "17791493328130181905_1480_000_1500_000;15435406...  17791493328130181905_1480_000_1500_000   \n",
            "17791493328130181905_1480_000_1500_000;15435406...  17791493328130181905_1480_000_1500_000   \n",
            "17791493328130181905_1480_000_1500_000;15435406...  17791493328130181905_1480_000_1500_000   \n",
            "17791493328130181905_1480_000_1500_000;15435406...  17791493328130181905_1480_000_1500_000   \n",
            "17791493328130181905_1480_000_1500_000;15435406...  17791493328130181905_1480_000_1500_000   \n",
            "17791493328130181905_1480_000_1500_000;15435406...  17791493328130181905_1480_000_1500_000   \n",
            "17791493328130181905_1480_000_1500_000;15435406...  17791493328130181905_1480_000_1500_000   \n",
            "17791493328130181905_1480_000_1500_000;15435406...  17791493328130181905_1480_000_1500_000   \n",
            "17791493328130181905_1480_000_1500_000;15435406...  17791493328130181905_1480_000_1500_000   \n",
            "17791493328130181905_1480_000_1500_000;15435406...  17791493328130181905_1480_000_1500_000   \n",
            "\n",
            "                                                    key.frame_timestamp_micros  \\\n",
            "index                                                                            \n",
            "17791493328130181905_1480_000_1500_000;15435406...            1543540616087689   \n",
            "17791493328130181905_1480_000_1500_000;15435406...            1543540616087689   \n",
            "17791493328130181905_1480_000_1500_000;15435406...            1543540616087689   \n",
            "17791493328130181905_1480_000_1500_000;15435406...            1543540616087689   \n",
            "17791493328130181905_1480_000_1500_000;15435406...            1543540616087689   \n",
            "17791493328130181905_1480_000_1500_000;15435406...            1543540616087689   \n",
            "17791493328130181905_1480_000_1500_000;15435406...            1543540616087689   \n",
            "17791493328130181905_1480_000_1500_000;15435406...            1543540616087689   \n",
            "17791493328130181905_1480_000_1500_000;15435406...            1543540616087689   \n",
            "17791493328130181905_1480_000_1500_000;15435406...            1543540616087689   \n",
            "\n",
            "                                                    key.camera_name  \\\n",
            "index                                                                 \n",
            "17791493328130181905_1480_000_1500_000;15435406...                1   \n",
            "17791493328130181905_1480_000_1500_000;15435406...                1   \n",
            "17791493328130181905_1480_000_1500_000;15435406...                1   \n",
            "17791493328130181905_1480_000_1500_000;15435406...                1   \n",
            "17791493328130181905_1480_000_1500_000;15435406...                1   \n",
            "17791493328130181905_1480_000_1500_000;15435406...                1   \n",
            "17791493328130181905_1480_000_1500_000;15435406...                1   \n",
            "17791493328130181905_1480_000_1500_000;15435406...                1   \n",
            "17791493328130181905_1480_000_1500_000;15435406...                1   \n",
            "17791493328130181905_1480_000_1500_000;15435406...                1   \n",
            "\n",
            "                                                                    key.camera_object_id  \\\n",
            "index                                                                                      \n",
            "17791493328130181905_1480_000_1500_000;15435406...  01e8eb5c-9b2b-43ec-bb08-71984421d35e   \n",
            "17791493328130181905_1480_000_1500_000;15435406...  08ebf917-454e-4c0b-ab32-b618718b5cd3   \n",
            "17791493328130181905_1480_000_1500_000;15435406...  0a9da683-44d0-4f0f-bfa6-43dc294c769f   \n",
            "17791493328130181905_1480_000_1500_000;15435406...  164d8be9-27a0-49b0-ad96-a5de1f97c707   \n",
            "17791493328130181905_1480_000_1500_000;15435406...  27a7a214-5628-4618-8821-db129a85d6f3   \n",
            "17791493328130181905_1480_000_1500_000;15435406...  2ef0b5fe-af0b-450b-8bcd-88558e103b28   \n",
            "17791493328130181905_1480_000_1500_000;15435406...  330421c8-13ea-4864-b083-4ae83c8e3a6f   \n",
            "17791493328130181905_1480_000_1500_000;15435406...  3876d52b-1b56-4bd8-a9f5-bf6f889ad57e   \n",
            "17791493328130181905_1480_000_1500_000;15435406...  4fe3573f-c962-409e-b622-7fade0864b30   \n",
            "17791493328130181905_1480_000_1500_000;15435406...  5b21be75-98cc-42b1-be22-4b1365c86f31   \n",
            "\n",
            "                                                       key.laser_object_id  \n",
            "index                                                                       \n",
            "17791493328130181905_1480_000_1500_000;15435406...  ors1xdozGHGiNvbWlLuSuQ  \n",
            "17791493328130181905_1480_000_1500_000;15435406...  2gfzH2GUJ2GfjNW3EYHDiA  \n",
            "17791493328130181905_1480_000_1500_000;15435406...  KSmKmwpyaAi2E9xWAWrEPA  \n",
            "17791493328130181905_1480_000_1500_000;15435406...  z-xM4zy7A_77PzGubXVtvQ  \n",
            "17791493328130181905_1480_000_1500_000;15435406...  F6Dz-WdJCaeJZly4DIOLEg  \n",
            "17791493328130181905_1480_000_1500_000;15435406...  SNaTHoL5TS7nyknpmHasdg  \n",
            "17791493328130181905_1480_000_1500_000;15435406...  6RKlF7rmfsgr79UlFF3dug  \n",
            "17791493328130181905_1480_000_1500_000;15435406...  VgU00raUu9df-DXVtJeTcw  \n",
            "17791493328130181905_1480_000_1500_000;15435406...  nllUm1QGvoEYpbW2-hUHgg  \n",
            "17791493328130181905_1480_000_1500_000;15435406...  7U1I73_fh4oyLDQj03p69A  \n"
          ]
        }
      ]
    },
    {
      "cell_type": "code",
      "source": [
        "import pyarrow.parquet as pq\n",
        "import pandas as pd\n",
        "\n",
        "# Set the path to the Parquet file\n",
        "parquet_file_path = '/content/drive/MyDrive/validation/camera_to_lidar_box_association/file2.parquet'\n",
        "\n",
        "# Read the Parquet file into a Pyarrow table\n",
        "table = pq.read_table(parquet_file_path)\n",
        "\n",
        "# Convert the table to a Pandas DataFrame\n",
        "df = table.to_pandas()\n",
        "\n",
        "# Print the first 10 rows of the DataFrame\n",
        "print(df.head(10))"
      ],
      "metadata": {
        "id": "SA4q30BxggvF"
      },
      "execution_count": null,
      "outputs": []
    },
    {
      "cell_type": "code",
      "source": [
        "print(df.columns)"
      ],
      "metadata": {
        "colab": {
          "base_uri": "https://localhost:8080/"
        },
        "id": "wCvXlhJwvC0B",
        "outputId": "c3c269ca-ced8-4e81-c6c9-44f13cf1b81e"
      },
      "execution_count": null,
      "outputs": [
        {
          "output_type": "stream",
          "name": "stdout",
          "text": [
            "Index(['key.segment_context_name', 'key.frame_timestamp_micros',\n",
            "       'key.camera_name', 'key.camera_object_id', 'key.laser_object_id'],\n",
            "      dtype='object')\n"
          ]
        }
      ]
    },
    {
      "cell_type": "code",
      "source": [
        "print(df['key.segment_context_name'])"
      ],
      "metadata": {
        "id": "T2wruBvB9TzM",
        "outputId": "d0997d6d-3f0b-4daf-dbe1-2990f72549b3",
        "colab": {
          "base_uri": "https://localhost:8080/"
        }
      },
      "execution_count": null,
      "outputs": [
        {
          "output_type": "stream",
          "name": "stdout",
          "text": [
            "index\n",
            "17791493328130181905_1480_000_1500_000;1543540616087689    17791493328130181905_1480_000_1500_000\n",
            "17791493328130181905_1480_000_1500_000;1543540616087689    17791493328130181905_1480_000_1500_000\n",
            "17791493328130181905_1480_000_1500_000;1543540616087689    17791493328130181905_1480_000_1500_000\n",
            "17791493328130181905_1480_000_1500_000;1543540616087689    17791493328130181905_1480_000_1500_000\n",
            "17791493328130181905_1480_000_1500_000;1543540616087689    17791493328130181905_1480_000_1500_000\n",
            "                                                                            ...                  \n",
            "17791493328130181905_1480_000_1500_000;1543540635687606    17791493328130181905_1480_000_1500_000\n",
            "17791493328130181905_1480_000_1500_000;1543540635687606    17791493328130181905_1480_000_1500_000\n",
            "17791493328130181905_1480_000_1500_000;1543540635687606    17791493328130181905_1480_000_1500_000\n",
            "17791493328130181905_1480_000_1500_000;1543540635687606    17791493328130181905_1480_000_1500_000\n",
            "17791493328130181905_1480_000_1500_000;1543540635687606    17791493328130181905_1480_000_1500_000\n",
            "Name: key.segment_context_name, Length: 13848, dtype: object\n"
          ]
        }
      ]
    },
    {
      "cell_type": "code",
      "source": [
        "print(df['key.frame_timestamp_micros'])"
      ],
      "metadata": {
        "id": "iIui_RqO9eSH",
        "outputId": "95933a8c-3653-487a-f890-34a52443fcf2",
        "colab": {
          "base_uri": "https://localhost:8080/"
        }
      },
      "execution_count": null,
      "outputs": [
        {
          "output_type": "stream",
          "name": "stdout",
          "text": [
            "index\n",
            "17791493328130181905_1480_000_1500_000;1543540616087689    1543540616087689\n",
            "17791493328130181905_1480_000_1500_000;1543540616087689    1543540616087689\n",
            "17791493328130181905_1480_000_1500_000;1543540616087689    1543540616087689\n",
            "17791493328130181905_1480_000_1500_000;1543540616087689    1543540616087689\n",
            "17791493328130181905_1480_000_1500_000;1543540616087689    1543540616087689\n",
            "                                                                 ...       \n",
            "17791493328130181905_1480_000_1500_000;1543540635687606    1543540635687606\n",
            "17791493328130181905_1480_000_1500_000;1543540635687606    1543540635687606\n",
            "17791493328130181905_1480_000_1500_000;1543540635687606    1543540635687606\n",
            "17791493328130181905_1480_000_1500_000;1543540635687606    1543540635687606\n",
            "17791493328130181905_1480_000_1500_000;1543540635687606    1543540635687606\n",
            "Name: key.frame_timestamp_micros, Length: 13848, dtype: int64\n"
          ]
        }
      ]
    },
    {
      "cell_type": "code",
      "source": [
        "print(df['key.camera_name'])"
      ],
      "metadata": {
        "id": "97wzlNQD9lXe",
        "outputId": "72bb8f65-2f93-4cda-db56-1f5fe730bfb4",
        "colab": {
          "base_uri": "https://localhost:8080/"
        }
      },
      "execution_count": null,
      "outputs": [
        {
          "output_type": "stream",
          "name": "stdout",
          "text": [
            "index\n",
            "17791493328130181905_1480_000_1500_000;1543540616087689    1\n",
            "17791493328130181905_1480_000_1500_000;1543540616087689    1\n",
            "17791493328130181905_1480_000_1500_000;1543540616087689    1\n",
            "17791493328130181905_1480_000_1500_000;1543540616087689    1\n",
            "17791493328130181905_1480_000_1500_000;1543540616087689    1\n",
            "                                                          ..\n",
            "17791493328130181905_1480_000_1500_000;1543540635687606    3\n",
            "17791493328130181905_1480_000_1500_000;1543540635687606    3\n",
            "17791493328130181905_1480_000_1500_000;1543540635687606    3\n",
            "17791493328130181905_1480_000_1500_000;1543540635687606    3\n",
            "17791493328130181905_1480_000_1500_000;1543540635687606    5\n",
            "Name: key.camera_name, Length: 13848, dtype: int8\n"
          ]
        }
      ]
    },
    {
      "cell_type": "code",
      "source": [
        "print(df['key.camera_object_id'])"
      ],
      "metadata": {
        "id": "Y9WG-T4W9tzz",
        "outputId": "49c52cf4-b9af-464c-f19f-c275e1ff7a86",
        "colab": {
          "base_uri": "https://localhost:8080/"
        }
      },
      "execution_count": null,
      "outputs": [
        {
          "output_type": "stream",
          "name": "stdout",
          "text": [
            "index\n",
            "17791493328130181905_1480_000_1500_000;1543540616087689    01e8eb5c-9b2b-43ec-bb08-71984421d35e\n",
            "17791493328130181905_1480_000_1500_000;1543540616087689    08ebf917-454e-4c0b-ab32-b618718b5cd3\n",
            "17791493328130181905_1480_000_1500_000;1543540616087689    0a9da683-44d0-4f0f-bfa6-43dc294c769f\n",
            "17791493328130181905_1480_000_1500_000;1543540616087689    164d8be9-27a0-49b0-ad96-a5de1f97c707\n",
            "17791493328130181905_1480_000_1500_000;1543540616087689    27a7a214-5628-4618-8821-db129a85d6f3\n",
            "                                                                           ...                 \n",
            "17791493328130181905_1480_000_1500_000;1543540635687606    53a70691-60fb-4d3d-a424-67a9e5602a3b\n",
            "17791493328130181905_1480_000_1500_000;1543540635687606    8531056f-91fb-47c9-b427-4b6ac6e45e8a\n",
            "17791493328130181905_1480_000_1500_000;1543540635687606    934a4930-e538-4637-933b-ffab09dc2483\n",
            "17791493328130181905_1480_000_1500_000;1543540635687606    9ea4cbb6-9aae-40a2-b2fe-00cc126e0f39\n",
            "17791493328130181905_1480_000_1500_000;1543540635687606    8a8bc540-1171-4529-8942-ef746971b694\n",
            "Name: key.camera_object_id, Length: 13848, dtype: object\n"
          ]
        }
      ]
    },
    {
      "cell_type": "code",
      "source": [
        "print(df['key.laser_object_id'])"
      ],
      "metadata": {
        "id": "DzRIIT2694Jw",
        "outputId": "1b9cc3ae-436a-4994-8b38-08d2de50f9e4",
        "colab": {
          "base_uri": "https://localhost:8080/"
        }
      },
      "execution_count": null,
      "outputs": [
        {
          "output_type": "stream",
          "name": "stdout",
          "text": [
            "index\n",
            "17791493328130181905_1480_000_1500_000;1543540616087689    ors1xdozGHGiNvbWlLuSuQ\n",
            "17791493328130181905_1480_000_1500_000;1543540616087689    2gfzH2GUJ2GfjNW3EYHDiA\n",
            "17791493328130181905_1480_000_1500_000;1543540616087689    KSmKmwpyaAi2E9xWAWrEPA\n",
            "17791493328130181905_1480_000_1500_000;1543540616087689    z-xM4zy7A_77PzGubXVtvQ\n",
            "17791493328130181905_1480_000_1500_000;1543540616087689    F6Dz-WdJCaeJZly4DIOLEg\n",
            "                                                                    ...          \n",
            "17791493328130181905_1480_000_1500_000;1543540635687606    xfaeP-cEySJI2Kxh6H6dbQ\n",
            "17791493328130181905_1480_000_1500_000;1543540635687606    u2ayqmmNHksh_udUjFL4IA\n",
            "17791493328130181905_1480_000_1500_000;1543540635687606    0EFILrAx1QV9y43mvJOPOQ\n",
            "17791493328130181905_1480_000_1500_000;1543540635687606    XTphYLIsVOawIk36RrDhFQ\n",
            "17791493328130181905_1480_000_1500_000;1543540635687606    u2ayqmmNHksh_udUjFL4IA\n",
            "Name: key.laser_object_id, Length: 13848, dtype: object\n"
          ]
        }
      ]
    },
    {
      "cell_type": "code",
      "source": [],
      "metadata": {
        "id": "SU37JnDm-AjR"
      },
      "execution_count": null,
      "outputs": []
    },
    {
      "cell_type": "code",
      "source": [
        "import pandas as pd\n",
        "import matplotlib.pyplot as plt\n",
        "\n",
        "# Read in the data\n",
        "df = pd.read_parquet('/content/drive/MyDrive/validation/camera_to_lidar_box_association/file1.parquet', columns=['key.segment_context_name', 'key.frame_timestamp_micros', 'key.camera_name', 'key.camera_object_id', 'key.laser_object_id'])\n",
        "\n",
        "# Plot a bar chart of the number of associations per camera object id\n",
        "counts = df['key.camera_object_id'].value_counts()\n",
        "plt.bar(counts.index, counts.values)\n",
        "plt.title('Associations per Camera Object ID')\n",
        "plt.xlabel('Camera Object ID')\n",
        "plt.ylabel('Number of Associations')\n",
        "plt.show()"
      ],
      "metadata": {
        "colab": {
          "base_uri": "https://localhost:8080/",
          "height": 472
        },
        "id": "OANXCNLKxUgO",
        "outputId": "968883f1-a602-4235-c7c5-dd07c81f4eb0"
      },
      "execution_count": null,
      "outputs": [
        {
          "output_type": "display_data",
          "data": {
            "text/plain": [
              "<Figure size 640x480 with 1 Axes>"
            ],
            "image/png": "[encoded data removed]"
          },
          "metadata": {}
        }
      ]
    },
    {
      "cell_type": "code",
      "source": [
        "import pandas as pd\n",
        "import numpy as np\n",
        "import matplotlib.pyplot as plt\n",
        "from PIL import Image\n",
        "\n",
        "# Load the parquet file into a pandas dataframe\n",
        "df = pd.read_parquet('/content/drive/MyDrive/validation/camera_to_lidar_box_association/file1.parquet')\n",
        "\n",
        "# Extract the image data from the dataframe\n",
        "image_data = np.array(df['image']).reshape(-1, 224, 224, 3)\n",
        "\n",
        "# Visualize the first image in the dataset\n",
        "img = Image.fromarray(np.uint8(image_data[0]))\n",
        "plt.imshow(img)\n",
        "plt.show()"
      ],
      "metadata": {
        "id": "ZHwNaCDcAsqP"
      },
      "execution_count": null,
      "outputs": []
    },
    {
      "cell_type": "code",
      "source": [
        "import numpy as np\n",
        "from PIL import Image, ImageDraw\n",
        "import pandas as pd\n",
        "\n",
        "# Load the camera box data from parquet file\n",
        "df = pd.read_parquet('/content/drive/MyDrive/validation/camera_to_lidar_box_association/file1.parquet')\n",
        "\n",
        "# Get the camera resolution from the data\n",
        "width = int(df['[CameraBoxComponent].box.size.x'].max())\n",
        "height = int(df['[CameraBoxComponent].box.size.y'].max())\n",
        "\n",
        "# Set the desired frame timestamp\n",
        "frame_timestamp = 1543540616087689  \n",
        "\n",
        "# Create a blank image of the same size as the camera resolution\n",
        "img = Image.new('RGB', (width, height), color='white')\n",
        "draw = ImageDraw.Draw(img)\n",
        "\n",
        "# Count the number of boxes for the desired frame timestamp\n",
        "num_boxes = 0\n",
        "\n",
        "# Loop through each bounding box in the data and draw it on the image\n",
        "for index, row in df.iterrows():\n",
        "    if row['key.frame_timestamp_micros'] == frame_timestamp:\n",
        "        # Get the coordinates of the box\n",
        "        x1 = int(row['[CameraBoxComponent].box.center.x'] - row['[CameraBoxComponent].box.size.x'] / 2)\n",
        "        y1 = int(row['[CameraBoxComponent].box.center.y'] - row['[CameraBoxComponent].box.size.y'] / 2)\n",
        "        x2 = int(row['[CameraBoxComponent].box.center.x'] + row['[CameraBoxComponent].box.size.x'] / 2)\n",
        "        y2 = int(row['[CameraBoxComponent].box.center.y'] + row['[CameraBoxComponent].box.size.y'] / 2)\n",
        "\n",
        "        # Draw the bounding box on the image\n",
        "        draw.rectangle((x1, y1, x2, y2), outline='red')\n",
        "        \n",
        "        # Increment the count of boxes\n",
        "        num_boxes += 1\n",
        "\n",
        "# Show the image with bounding boxes\n",
        "img.show()\n",
        "\n",
        "# Print the number of boxes for the desired frame timestamp\n",
        "print(f\"Number of boxes for frame {frame_timestamp}: {num_boxes}\")"
      ],
      "metadata": {
        "id": "Gv9_cWWLt67Y"
      },
      "execution_count": null,
      "outputs": []
    }
  ]
}