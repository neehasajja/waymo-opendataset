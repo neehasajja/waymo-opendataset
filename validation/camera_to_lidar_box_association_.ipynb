{
  "nbformat": 4,
  "nbformat_minor": 0,
  "metadata": {
    "colab": {
      "provenance": [],
      "authorship_tag": "ABX9TyM2l/RSFr4HnCKBVQIkz/1s",
      "include_colab_link": true
    },
    "kernelspec": {
      "name": "python3",
      "display_name": "Python 3"
    },
    "language_info": {
      "name": "python"
    }
  },
  "cells": [
    {
      "cell_type": "markdown",
      "metadata": {
        "id": "view-in-github",
        "colab_type": "text"
      },
      "source": [
        "<a href=\"https://colab.research.google.com/github/neehasajja/waymo-opendataset/blob/main/validation/camera_to_lidar_box_association_.ipynb\" target=\"_parent\"><img src=\"https://colab.research.google.com/assets/colab-badge.svg\" alt=\"Open In Colab\"/></a>"
      ]
    },
    {
      "cell_type": "code",
      "execution_count": 1,
      "metadata": {
        "colab": {
          "base_uri": "https://localhost:8080/"
        },
        "id": "6QleTbvduICV",
        "outputId": "27002bb7-002c-43e8-e4e0-0aeae9bcb24e"
      },
      "outputs": [
        {
          "output_type": "stream",
          "name": "stdout",
          "text": [
            "Mounted at /content/drive\n"
          ]
        }
      ],
      "source": [
        "from google.colab import drive\n",
        "drive.mount('/content/drive')"
      ]
    },
    {
      "cell_type": "code",
      "source": [
        "!pip3 install waymo-open-dataset-tf-2-6-0"
      ],
      "metadata": {
        "id": "eL9CzuySuZid"
      },
      "execution_count": null,
      "outputs": []
    },
    {
      "cell_type": "code",
      "source": [
        "import pyarrow.parquet as pq\n",
        "import pandas as pd\n",
        "\n",
        "# Set the path to the Parquet file\n",
        "parquet_file_path = '/content/drive/MyDrive/validation/camera_to_lidar_box_association/file1.parquet'\n",
        "\n",
        "# Read the Parquet file into a Pyarrow table\n",
        "table = pq.read_table(parquet_file_path)\n",
        "\n",
        "# Convert the table to a Pandas DataFrame\n",
        "df = table.to_pandas()\n",
        "\n",
        "# Print the first 10 rows of the DataFrame\n",
        "print(df.head(10))"
      ],
      "metadata": {
        "colab": {
          "base_uri": "https://localhost:8080/"
        },
        "id": "De_iTu1cuoB-",
        "outputId": "b3243836-1600-4abf-9140-411ddcd5a88f"
      },
      "execution_count": 4,
      "outputs": [
        {
          "output_type": "stream",
          "name": "stdout",
          "text": [
            "                                                                  key.segment_context_name  \\\n",
            "index                                                                                        \n",
            "17791493328130181905_1480_000_1500_000;15435406...  17791493328130181905_1480_000_1500_000   \n",
            "17791493328130181905_1480_000_1500_000;15435406...  17791493328130181905_1480_000_1500_000   \n",
            "17791493328130181905_1480_000_1500_000;15435406...  17791493328130181905_1480_000_1500_000   \n",
            "17791493328130181905_1480_000_1500_000;15435406...  17791493328130181905_1480_000_1500_000   \n",
            "17791493328130181905_1480_000_1500_000;15435406...  17791493328130181905_1480_000_1500_000   \n",
            "17791493328130181905_1480_000_1500_000;15435406...  17791493328130181905_1480_000_1500_000   \n",
            "17791493328130181905_1480_000_1500_000;15435406...  17791493328130181905_1480_000_1500_000   \n",
            "17791493328130181905_1480_000_1500_000;15435406...  17791493328130181905_1480_000_1500_000   \n",
            "17791493328130181905_1480_000_1500_000;15435406...  17791493328130181905_1480_000_1500_000   \n",
            "17791493328130181905_1480_000_1500_000;15435406...  17791493328130181905_1480_000_1500_000   \n",
            "\n",
            "                                                    key.frame_timestamp_micros  \\\n",
            "index                                                                            \n",
            "17791493328130181905_1480_000_1500_000;15435406...            1543540616087689   \n",
            "17791493328130181905_1480_000_1500_000;15435406...            1543540616087689   \n",
            "17791493328130181905_1480_000_1500_000;15435406...            1543540616087689   \n",
            "17791493328130181905_1480_000_1500_000;15435406...            1543540616087689   \n",
            "17791493328130181905_1480_000_1500_000;15435406...            1543540616087689   \n",
            "17791493328130181905_1480_000_1500_000;15435406...            1543540616087689   \n",
            "17791493328130181905_1480_000_1500_000;15435406...            1543540616087689   \n",
            "17791493328130181905_1480_000_1500_000;15435406...            1543540616087689   \n",
            "17791493328130181905_1480_000_1500_000;15435406...            1543540616087689   \n",
            "17791493328130181905_1480_000_1500_000;15435406...            1543540616087689   \n",
            "\n",
            "                                                    key.camera_name  \\\n",
            "index                                                                 \n",
            "17791493328130181905_1480_000_1500_000;15435406...                1   \n",
            "17791493328130181905_1480_000_1500_000;15435406...                1   \n",
            "17791493328130181905_1480_000_1500_000;15435406...                1   \n",
            "17791493328130181905_1480_000_1500_000;15435406...                1   \n",
            "17791493328130181905_1480_000_1500_000;15435406...                1   \n",
            "17791493328130181905_1480_000_1500_000;15435406...                1   \n",
            "17791493328130181905_1480_000_1500_000;15435406...                1   \n",
            "17791493328130181905_1480_000_1500_000;15435406...                1   \n",
            "17791493328130181905_1480_000_1500_000;15435406...                1   \n",
            "17791493328130181905_1480_000_1500_000;15435406...                1   \n",
            "\n",
            "                                                                    key.camera_object_id  \\\n",
            "index                                                                                      \n",
            "17791493328130181905_1480_000_1500_000;15435406...  01e8eb5c-9b2b-43ec-bb08-71984421d35e   \n",
            "17791493328130181905_1480_000_1500_000;15435406...  08ebf917-454e-4c0b-ab32-b618718b5cd3   \n",
            "17791493328130181905_1480_000_1500_000;15435406...  0a9da683-44d0-4f0f-bfa6-43dc294c769f   \n",
            "17791493328130181905_1480_000_1500_000;15435406...  164d8be9-27a0-49b0-ad96-a5de1f97c707   \n",
            "17791493328130181905_1480_000_1500_000;15435406...  27a7a214-5628-4618-8821-db129a85d6f3   \n",
            "17791493328130181905_1480_000_1500_000;15435406...  2ef0b5fe-af0b-450b-8bcd-88558e103b28   \n",
            "17791493328130181905_1480_000_1500_000;15435406...  330421c8-13ea-4864-b083-4ae83c8e3a6f   \n",
            "17791493328130181905_1480_000_1500_000;15435406...  3876d52b-1b56-4bd8-a9f5-bf6f889ad57e   \n",
            "17791493328130181905_1480_000_1500_000;15435406...  4fe3573f-c962-409e-b622-7fade0864b30   \n",
            "17791493328130181905_1480_000_1500_000;15435406...  5b21be75-98cc-42b1-be22-4b1365c86f31   \n",
            "\n",
            "                                                       key.laser_object_id  \n",
            "index                                                                       \n",
            "17791493328130181905_1480_000_1500_000;15435406...  ors1xdozGHGiNvbWlLuSuQ  \n",
            "17791493328130181905_1480_000_1500_000;15435406...  2gfzH2GUJ2GfjNW3EYHDiA  \n",
            "17791493328130181905_1480_000_1500_000;15435406...  KSmKmwpyaAi2E9xWAWrEPA  \n",
            "17791493328130181905_1480_000_1500_000;15435406...  z-xM4zy7A_77PzGubXVtvQ  \n",
            "17791493328130181905_1480_000_1500_000;15435406...  F6Dz-WdJCaeJZly4DIOLEg  \n",
            "17791493328130181905_1480_000_1500_000;15435406...  SNaTHoL5TS7nyknpmHasdg  \n",
            "17791493328130181905_1480_000_1500_000;15435406...  6RKlF7rmfsgr79UlFF3dug  \n",
            "17791493328130181905_1480_000_1500_000;15435406...  VgU00raUu9df-DXVtJeTcw  \n",
            "17791493328130181905_1480_000_1500_000;15435406...  nllUm1QGvoEYpbW2-hUHgg  \n",
            "17791493328130181905_1480_000_1500_000;15435406...  7U1I73_fh4oyLDQj03p69A  \n"
          ]
        }
      ]
    },
    {
      "cell_type": "code",
      "source": [
        "print(df.columns)"
      ],
      "metadata": {
        "colab": {
          "base_uri": "https://localhost:8080/"
        },
        "id": "wCvXlhJwvC0B",
        "outputId": "ac3438b2-9c2a-4b62-b640-7580c66abbc5"
      },
      "execution_count": 5,
      "outputs": [
        {
          "output_type": "stream",
          "name": "stdout",
          "text": [
            "Index(['key.segment_context_name', 'key.frame_timestamp_micros',\n",
            "       'key.camera_name', 'key.camera_object_id', 'key.laser_object_id'],\n",
            "      dtype='object')\n"
          ]
        }
      ]
    },
    {
      "cell_type": "code",
      "source": [
        "import pandas as pd\n",
        "import matplotlib.pyplot as plt\n",
        "\n",
        "# Read in the data\n",
        "df = pd.read_parquet('/content/drive/MyDrive/validation/camera_to_lidar_box_association/file1.parquet', columns=['key.segment_context_name', 'key.frame_timestamp_micros', 'key.camera_name', 'key.camera_object_id', 'key.laser_object_id'])\n",
        "\n",
        "# Plot a bar chart of the number of associations per camera object id\n",
        "counts = df['key.camera_object_id'].value_counts()\n",
        "plt.bar(counts.index, counts.values)\n",
        "plt.title('Associations per Camera Object ID')\n",
        "plt.xlabel('Camera Object ID')\n",
        "plt.ylabel('Number of Associations')\n",
        "plt.show()"
      ],
      "metadata": {
        "colab": {
          "base_uri": "https://localhost:8080/",
          "height": 472
        },
        "id": "OANXCNLKxUgO",
        "outputId": "b3d436b1-a89e-4383-c3f6-5e4f9c80252e"
      },
      "execution_count": 6,
      "outputs": [
        {
          "output_type": "display_data",
          "data": {
            "text/plain": [
              "<Figure size 640x480 with 1 Axes>"
            ],
            "image/png": "[encoded data removed]"
          },
          "metadata": {}
        }
      ]
    }
  ]
}