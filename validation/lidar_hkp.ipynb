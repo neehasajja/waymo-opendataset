{
  "nbformat": 4,
  "nbformat_minor": 0,
  "metadata": {
    "colab": {
      "provenance": [],
      "authorship_tag": "ABX9TyMvdYNueT+VNRtVcHy10Byv",
      "include_colab_link": true
    },
    "kernelspec": {
      "name": "python3",
      "display_name": "Python 3"
    },
    "language_info": {
      "name": "python"
    }
  },
  "cells": [
    {
      "cell_type": "markdown",
      "metadata": {
        "id": "view-in-github",
        "colab_type": "text"
      },
      "source": [
        "<a href=\"https://colab.research.google.com/github/neehasajja/waymo-opendataset/blob/main/validation/lidar_hkp.ipynb\" target=\"_parent\"><img src=\"https://colab.research.google.com/assets/colab-badge.svg\" alt=\"Open In Colab\"/></a>"
      ]
    },
    {
      "cell_type": "code",
      "execution_count": 1,
      "metadata": {
        "colab": {
          "base_uri": "https://localhost:8080/"
        },
        "id": "LOn6bdMZwjJc",
        "outputId": "d7bdbd92-dc4d-45f7-bb6a-f00e1ed18aa0"
      },
      "outputs": [
        {
          "output_type": "stream",
          "name": "stdout",
          "text": [
            "Mounted at /content/drive\n"
          ]
        }
      ],
      "source": [
        "from google.colab import drive\n",
        "drive.mount('/content/drive')\n"
      ]
    },
    {
      "cell_type": "code",
      "source": [
        "!pip3 install waymo-open-dataset-tf-2-6-0"
      ],
      "metadata": {
        "id": "noQ6uLkews2h"
      },
      "execution_count": null,
      "outputs": []
    },
    {
      "cell_type": "code",
      "source": [
        "import os\n",
        "import pyarrow.parquet as pq\n",
        "\n",
        "# Set the path to the metadata file\n",
        "metadata_file_path = '/content/drive/MyDrive/validation/lidar_hkp/_metadata'\n",
        "\n",
        "# Read the metadata file\n",
        "metadata_file = pq.ParquetFile(metadata_file_path)\n",
        "\n",
        "# Get the metadata\n",
        "file_metadata = metadata_file.metadata\n",
        "schema_metadata = file_metadata.metadata\n",
        "\n",
        "# Print the metadata\n",
        "print(\"File metadata:\", file_metadata)\n",
        "print(\"Schema metadata:\", schema_metadata)"
      ],
      "metadata": {
        "colab": {
          "base_uri": "https://localhost:8080/"
        },
        "id": "5SbfhMnHw7AR",
        "outputId": "eb775b1b-3379-4051-858e-713c0a17144d"
      },
      "execution_count": 3,
      "outputs": [
        {
          "output_type": "stream",
          "name": "stdout",
          "text": [
            "File metadata: <pyarrow._parquet.FileMetaData object at 0x7f04907679f0>\n",
            "  created_by: parquet-cpp-arrow version 10.0.1\n",
            "  num_columns: 9\n",
            "  num_rows: 8125\n",
            "  num_row_groups: 798\n",
            "  format_version: 2.6\n",
            "  serialized_size: 1175483\n",
            "Schema metadata: {b'ARROW:schema': b'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', b'pandas': b'{\"column_indexes\": [{\"field_name\": null, \"metadata\": {\"encoding\": \"UTF-8\"}, \"name\": null, \"numpy_type\": \"object\", \"pandas_type\": \"unicode\"}], \"columns\": [{\"name\": \"index\", \"field_name\": \"index\", \"metadata\": null, \"numpy_type\": \"object\", \"pandas_type\": \"bytes\"}, {\"name\": \"key.segment_context_name\", \"field_name\": \"key.segment_context_name\", \"metadata\": null, \"numpy_type\": \"object\", \"pandas_type\": \"bytes\"}, {\"name\": \"key.frame_timestamp_micros\", \"field_name\": \"key.frame_timestamp_micros\", \"metadata\": null, \"numpy_type\": \"int64\", \"pandas_type\": \"int64\"}, {\"name\": \"key.laser_object_id\", \"field_name\": \"key.laser_object_id\", \"metadata\": null, \"numpy_type\": \"object\", \"pandas_type\": \"bytes\"}, {\"name\": \"[LiDARHumanKeypointsComponent].lidar_keypoints[*].type\", \"field_name\": \"[LiDARHumanKeypointsComponent].lidar_keypoints[*].type\", \"metadata\": null, \"numpy_type\": \"object\", \"pandas_type\": \"bytes\"}, {\"name\": \"[LiDARHumanKeypointsComponent].lidar_keypoints[*].keypoint_3d.location_m.x\", \"field_name\": \"[LiDARHumanKeypointsComponent].lidar_keypoints[*].keypoint_3d.location_m.x\", \"metadata\": null, \"numpy_type\": \"object\", \"pandas_type\": \"bytes\"}, {\"name\": \"[LiDARHumanKeypointsComponent].lidar_keypoints[*].keypoint_3d.location_m.y\", \"field_name\": \"[LiDARHumanKeypointsComponent].lidar_keypoints[*].keypoint_3d.location_m.y\", \"metadata\": null, \"numpy_type\": \"object\", \"pandas_type\": \"bytes\"}, {\"name\": \"[LiDARHumanKeypointsComponent].lidar_keypoints[*].keypoint_3d.location_m.z\", \"field_name\": \"[LiDARHumanKeypointsComponent].lidar_keypoints[*].keypoint_3d.location_m.z\", \"metadata\": null, \"numpy_type\": \"object\", \"pandas_type\": \"bytes\"}, {\"name\": \"[LiDARHumanKeypointsComponent].lidar_keypoints[*].keypoint_3d.visibility.is_occluded\", \"field_name\": \"[LiDARHumanKeypointsComponent].lidar_keypoints[*].keypoint_3d.visibility.is_occluded\", \"metadata\": null, \"numpy_type\": \"object\", \"pandas_type\": \"bytes\"}], \"creator\": {\"library\": \"pyarrow\", \"version\": \"10.0.1\"}, \"index_columns\": [\"index\"], \"pandas_version\": \"1.1.5\"}'}\n"
          ]
        }
      ]
    },
    {
      "cell_type": "code",
      "source": [
        "import pyarrow.parquet as pq\n",
        "import pandas as pd\n",
        "\n",
        "# Set the path to the Parquet file\n",
        "parquet_file_path = '/content/drive/MyDrive/validation/lidar_hkp/file1.parquet'\n",
        "\n",
        "# Read the Parquet file into a Pyarrow table\n",
        "table = pq.read_table(parquet_file_path)\n",
        "\n",
        "# Convert the table to a Pandas DataFrame\n",
        "df = table.to_pandas()\n",
        "\n",
        "# Print the first 10 rows of the DataFrame\n",
        "print(df.head(10))"
      ],
      "metadata": {
        "colab": {
          "base_uri": "https://localhost:8080/"
        },
        "id": "SMiOJWsIxMxw",
        "outputId": "8f910d3e-59dc-40db-c5bb-8f835a70f2cc"
      },
      "execution_count": 10,
      "outputs": [
        {
          "output_type": "stream",
          "name": "stdout",
          "text": [
            "                                                               key.segment_context_name  \\\n",
            "index                                                                                     \n",
            "30779396576054160_1880_000_1900_000;15578450727...  30779396576054160_1880_000_1900_000   \n",
            "30779396576054160_1880_000_1900_000;15578450730...  30779396576054160_1880_000_1900_000   \n",
            "30779396576054160_1880_000_1900_000;15578450733...  30779396576054160_1880_000_1900_000   \n",
            "30779396576054160_1880_000_1900_000;15578450733...  30779396576054160_1880_000_1900_000   \n",
            "30779396576054160_1880_000_1900_000;15578450733...  30779396576054160_1880_000_1900_000   \n",
            "30779396576054160_1880_000_1900_000;15578450733...  30779396576054160_1880_000_1900_000   \n",
            "30779396576054160_1880_000_1900_000;15578450733...  30779396576054160_1880_000_1900_000   \n",
            "30779396576054160_1880_000_1900_000;15578450739...  30779396576054160_1880_000_1900_000   \n",
            "30779396576054160_1880_000_1900_000;15578450739...  30779396576054160_1880_000_1900_000   \n",
            "30779396576054160_1880_000_1900_000;15578450739...  30779396576054160_1880_000_1900_000   \n",
            "\n",
            "                                                    key.frame_timestamp_micros  \\\n",
            "index                                                                            \n",
            "30779396576054160_1880_000_1900_000;15578450727...            1557845072764279   \n",
            "30779396576054160_1880_000_1900_000;15578450730...            1557845073064260   \n",
            "30779396576054160_1880_000_1900_000;15578450733...            1557845073364299   \n",
            "30779396576054160_1880_000_1900_000;15578450733...            1557845073364299   \n",
            "30779396576054160_1880_000_1900_000;15578450733...            1557845073364299   \n",
            "30779396576054160_1880_000_1900_000;15578450733...            1557845073364299   \n",
            "30779396576054160_1880_000_1900_000;15578450733...            1557845073364299   \n",
            "30779396576054160_1880_000_1900_000;15578450739...            1557845073964287   \n",
            "30779396576054160_1880_000_1900_000;15578450739...            1557845073964287   \n",
            "30779396576054160_1880_000_1900_000;15578450739...            1557845073964287   \n",
            "\n",
            "                                                       key.laser_object_id  \\\n",
            "index                                                                        \n",
            "30779396576054160_1880_000_1900_000;15578450727...  -LzWji5byBLxqIzMY9AtLA   \n",
            "30779396576054160_1880_000_1900_000;15578450730...  U7hTtsobWNaXNZfPKHlSMw   \n",
            "30779396576054160_1880_000_1900_000;15578450733...  -LzWji5byBLxqIzMY9AtLA   \n",
            "30779396576054160_1880_000_1900_000;15578450733...  9YccRcFR6ZOGFTDrbgVjHg   \n",
            "30779396576054160_1880_000_1900_000;15578450733...  BLXVDRcB5ocL0-TRaKg_qQ   \n",
            "30779396576054160_1880_000_1900_000;15578450733...  Lvs8JpCfU5_nJLZRhRCK9Q   \n",
            "30779396576054160_1880_000_1900_000;15578450733...  dxh3X1iBjZHMzmmfbUdnjw   \n",
            "30779396576054160_1880_000_1900_000;15578450739...  -3eOMO08z-08xJJk7HgXeg   \n",
            "30779396576054160_1880_000_1900_000;15578450739...  9YccRcFR6ZOGFTDrbgVjHg   \n",
            "30779396576054160_1880_000_1900_000;15578450739...  BLXVDRcB5ocL0-TRaKg_qQ   \n",
            "\n",
            "                                                   [LiDARHumanKeypointsComponent].lidar_keypoints[*].type  \\\n",
            "index                                                                                                       \n",
            "30779396576054160_1880_000_1900_000;15578450727...    [15, 6, 10, 14, 5, 9, 18, 13, 8, 17, 16, 7, 20]       \n",
            "30779396576054160_1880_000_1900_000;15578450730...    [15, 1, 14, 5, 9, 18, 13, 10, 8, 17, 16, 7, 20]       \n",
            "30779396576054160_1880_000_1900_000;15578450733...    [16, 8, 17, 13, 9, 18, 14, 5, 6, 15, 10, 20, 7]       \n",
            "30779396576054160_1880_000_1900_000;15578450733...    [13, 8, 17, 9, 7, 16, 20, 6, 15, 14, 5, 10, 18]       \n",
            "30779396576054160_1880_000_1900_000;15578450733...  [7, 20, 15, 16, 8, 17, 13, 18, 9, 1, 5, 6, 10,...       \n",
            "30779396576054160_1880_000_1900_000;15578450733...    [18, 9, 5, 6, 14, 10, 15, 16, 20, 7, 8, 17, 13]       \n",
            "30779396576054160_1880_000_1900_000;15578450733...        [20, 14, 7, 16, 17, 8, 13, 5, 9, 10, 18, 6]       \n",
            "30779396576054160_1880_000_1900_000;15578450739...         [20, 6, 1, 10, 18, 5, 13, 9, 8, 17, 16, 7]       \n",
            "30779396576054160_1880_000_1900_000;15578450739...  [13, 6, 15, 1, 10, 7, 20, 16, 18, 8, 17, 5, 14...       \n",
            "30779396576054160_1880_000_1900_000;15578450739...        [5, 17, 14, 8, 7, 20, 16, 13, 6, 10, 18, 9]       \n",
            "\n",
            "                                                   [LiDARHumanKeypointsComponent].lidar_keypoints[*].keypoint_3d.location_m.x  \\\n",
            "index                                                                                                                           \n",
            "30779396576054160_1880_000_1900_000;15578450727...  [14.1093050601804, 13.936944443150058, 13.5750...                           \n",
            "30779396576054160_1880_000_1900_000;15578450730...  [11.937864865103329, 11.947275579551984, 11.75...                           \n",
            "30779396576054160_1880_000_1900_000;15578450733...  [16.23474801043666, 16.15015513869509, 16.4328...                           \n",
            "30779396576054160_1880_000_1900_000;15578450733...  [15.638837706820452, 15.540115940536802, 15.54...                           \n",
            "30779396576054160_1880_000_1900_000;15578450733...  [11.787365983200466, 11.717513790930932, 11.67...                           \n",
            "30779396576054160_1880_000_1900_000;15578450733...  [10.988284256132218, 10.769327194587339, 10.81...                           \n",
            "30779396576054160_1880_000_1900_000;15578450733...  [7.779653803764991, 7.562161243828644, 7.72679...                           \n",
            "30779396576054160_1880_000_1900_000;15578450739...  [6.340048004688483, 6.118884141510442, 6.41358...                           \n",
            "30779396576054160_1880_000_1900_000;15578450739...  [16.725777446441434, 16.65629830569403, 16.755...                           \n",
            "30779396576054160_1880_000_1900_000;15578450739...  [12.571546214367908, 12.636110161242264, 12.60...                           \n",
            "\n",
            "                                                   [LiDARHumanKeypointsComponent].lidar_keypoints[*].keypoint_3d.location_m.y  \\\n",
            "index                                                                                                                           \n",
            "30779396576054160_1880_000_1900_000;15578450727...  [2.284615268599684, 2.7650851881040035, 2.5946...                           \n",
            "30779396576054160_1880_000_1900_000;15578450730...  [14.16821393198262, 14.395732480225853, 14.068...                           \n",
            "30779396576054160_1880_000_1900_000;15578450733...  [2.472539489404855, 2.685658368371748, 2.44855...                           \n",
            "30779396576054160_1880_000_1900_000;15578450733...  [-1.254803376058938, -1.0623063016910788, -1.2...                           \n",
            "30779396576054160_1880_000_1900_000;15578450733...  [-1.211047810555018, -1.4108641485129305, -1.6...                           \n",
            "30779396576054160_1880_000_1900_000;15578450733...  [-3.0679015296006336, -2.844872257468008, -2.7...                           \n",
            "30779396576054160_1880_000_1900_000;15578450733...  [-3.6458372255150504, -3.870633042174951, -3.4...                           \n",
            "30779396576054160_1880_000_1900_000;15578450739...  [-3.9308091779136527, -3.7017927820523218, -3....                           \n",
            "30779396576054160_1880_000_1900_000;15578450739...  [-1.1228856656400912, -0.7448858290230896, -1....                           \n",
            "30779396576054160_1880_000_1900_000;15578450739...  [-1.379241237904397, -1.6381796747964201, -1.7...                           \n",
            "\n",
            "                                                   [LiDARHumanKeypointsComponent].lidar_keypoints[*].keypoint_3d.location_m.z  \\\n",
            "index                                                                                                                           \n",
            "30779396576054160_1880_000_1900_000;15578450727...  [1.1978583411172103, 1.3787734281997994, 0.732...                           \n",
            "30779396576054160_1880_000_1900_000;15578450730...  [0.8900804949723486, 1.28417241938639, 0.86291...                           \n",
            "30779396576054160_1880_000_1900_000;15578450733...  [1.3738882420651632, 1.3310162511654913, 1.087...                           \n",
            "30779396576054160_1880_000_1900_000;15578450733...  [1.823996416486644, 1.3006979433745578, 0.9020...                           \n",
            "30779396576054160_1880_000_1900_000;15578450733...  [1.0416096768041931, 1.6537691164603936, 0.996...                           \n",
            "30779396576054160_1880_000_1900_000;15578450733...  [0.28477469582661585, 0.6038986904113844, 1.58...                           \n",
            "30779396576054160_1880_000_1900_000;15578450733...  [1.82418986496634, 1.4542205409891342, 1.21974...                           \n",
            "30779396576054160_1880_000_1900_000;15578450739...  [1.93869214484737, 1.4155780661099633, 1.87788...                           \n",
            "30779396576054160_1880_000_1900_000;15578450739...  [1.8249617989052265, 1.5671280934294702, 1.295...                           \n",
            "30779396576054160_1880_000_1900_000;15578450739...  [1.5599550139570477, 0.7004010677214125, 1.364...                           \n",
            "\n",
            "                                                   [LiDARHumanKeypointsComponent].lidar_keypoints[*].keypoint_3d.visibility.is_occluded  \n",
            "index                                                                                                                                    \n",
            "30779396576054160_1880_000_1900_000;15578450727...  [False, False, False, False, False, True, Fals...                                    \n",
            "30779396576054160_1880_000_1900_000;15578450730...  [False, True, False, False, True, False, False...                                    \n",
            "30779396576054160_1880_000_1900_000;15578450733...  [False, False, False, False, False, False, Fal...                                    \n",
            "30779396576054160_1880_000_1900_000;15578450733...  [False, False, True, True, False, False, False...                                    \n",
            "30779396576054160_1880_000_1900_000;15578450733...  [True, False, True, False, False, False, False...                                    \n",
            "30779396576054160_1880_000_1900_000;15578450733...  [False, False, False, False, False, False, Tru...                                    \n",
            "30779396576054160_1880_000_1900_000;15578450733...  [False, False, True, False, False, False, Fals...                                    \n",
            "30779396576054160_1880_000_1900_000;15578450739...  [False, False, True, False, False, False, Fals...                                    \n",
            "30779396576054160_1880_000_1900_000;15578450739...  [False, False, False, True, False, False, Fals...                                    \n",
            "30779396576054160_1880_000_1900_000;15578450739...  [False, False, False, False, False, False, Fal...                                    \n"
          ]
        }
      ]
    },
    {
      "cell_type": "code",
      "source": [
        "print(df.columns)"
      ],
      "metadata": {
        "colab": {
          "base_uri": "https://localhost:8080/"
        },
        "id": "nML8vHR6zUZ1",
        "outputId": "407bf057-fab1-486c-e8d3-cfe6da1c1a18"
      },
      "execution_count": 11,
      "outputs": [
        {
          "output_type": "stream",
          "name": "stdout",
          "text": [
            "Index(['key.segment_context_name', 'key.frame_timestamp_micros',\n",
            "       'key.laser_object_id',\n",
            "       '[LiDARHumanKeypointsComponent].lidar_keypoints[*].type',\n",
            "       '[LiDARHumanKeypointsComponent].lidar_keypoints[*].keypoint_3d.location_m.x',\n",
            "       '[LiDARHumanKeypointsComponent].lidar_keypoints[*].keypoint_3d.location_m.y',\n",
            "       '[LiDARHumanKeypointsComponent].lidar_keypoints[*].keypoint_3d.location_m.z',\n",
            "       '[LiDARHumanKeypointsComponent].lidar_keypoints[*].keypoint_3d.visibility.is_occluded'],\n",
            "      dtype='object')\n"
          ]
        }
      ]
    }
  ]
}