{
  "nbformat": 4,
  "nbformat_minor": 0,
  "metadata": {
    "colab": {
      "provenance": [],
      "authorship_tag": "ABX9TyOqMp7eWvPHgZyb+1Kq88Ja",
      "include_colab_link": true
    },
    "kernelspec": {
      "name": "python3",
      "display_name": "Python 3"
    },
    "language_info": {
      "name": "python"
    }
  },
  "cells": [
    {
      "cell_type": "markdown",
      "metadata": {
        "id": "view-in-github",
        "colab_type": "text"
      },
      "source": [
        "<a href=\"https://colab.research.google.com/github/neehasajja/waymo-opendataset/blob/main/validation/camera_box.ipynb\" target=\"_parent\"><img src=\"https://colab.research.google.com/assets/colab-badge.svg\" alt=\"Open In Colab\"/></a>"
      ]
    },
    {
      "cell_type": "code",
      "execution_count": 1,
      "metadata": {
        "colab": {
          "base_uri": "https://localhost:8080/"
        },
        "id": "iD1LXcp8wVyT",
        "outputId": "d8b492b2-a113-40d0-8f66-9d60622b3645"
      },
      "outputs": [
        {
          "output_type": "stream",
          "name": "stdout",
          "text": [
            "Mounted at /content/drive\n"
          ]
        }
      ],
      "source": [
        "from google.colab import drive\n",
        "drive.mount('/content/drive')"
      ]
    },
    {
      "cell_type": "code",
      "source": [
        "!pip3 install waymo-open-dataset-tf-2-6-0"
      ],
      "metadata": {
        "id": "pzbfuX0Gwic1"
      },
      "execution_count": null,
      "outputs": []
    },
    {
      "cell_type": "code",
      "source": [
        "import pyarrow.parquet as pq\n",
        "import pandas as pd\n",
        "\n",
        "# Set the path to the Parquet file\n",
        "parquet_file_path = '/content/drive/MyDrive/validation/camera_box/file1.parquet'\n",
        "\n",
        "# Read the Parquet file into a Pyarrow table\n",
        "table = pq.read_table(parquet_file_path)\n",
        "\n",
        "# Convert the table to a Pandas DataFrame\n",
        "df = table.to_pandas()\n",
        "\n",
        "# Print the first 10 rows of the DataFrame\n",
        "print(df.head(10))"
      ],
      "metadata": {
        "colab": {
          "base_uri": "https://localhost:8080/"
        },
        "id": "LqZ6tx_pwv-N",
        "outputId": "c5507212-1478-4877-e868-34e6ae0d70b7"
      },
      "execution_count": 3,
      "outputs": [
        {
          "output_type": "stream",
          "name": "stdout",
          "text": [
            "                                                               key.segment_context_name  \\\n",
            "index                                                                                     \n",
            "30779396576054160_1880_000_1900_000;15578450726...  30779396576054160_1880_000_1900_000   \n",
            "30779396576054160_1880_000_1900_000;15578450726...  30779396576054160_1880_000_1900_000   \n",
            "30779396576054160_1880_000_1900_000;15578450726...  30779396576054160_1880_000_1900_000   \n",
            "30779396576054160_1880_000_1900_000;15578450726...  30779396576054160_1880_000_1900_000   \n",
            "30779396576054160_1880_000_1900_000;15578450726...  30779396576054160_1880_000_1900_000   \n",
            "30779396576054160_1880_000_1900_000;15578450726...  30779396576054160_1880_000_1900_000   \n",
            "30779396576054160_1880_000_1900_000;15578450726...  30779396576054160_1880_000_1900_000   \n",
            "30779396576054160_1880_000_1900_000;15578450726...  30779396576054160_1880_000_1900_000   \n",
            "30779396576054160_1880_000_1900_000;15578450726...  30779396576054160_1880_000_1900_000   \n",
            "30779396576054160_1880_000_1900_000;15578450726...  30779396576054160_1880_000_1900_000   \n",
            "\n",
            "                                                    key.frame_timestamp_micros  \\\n",
            "index                                                                            \n",
            "30779396576054160_1880_000_1900_000;15578450726...            1557845072664263   \n",
            "30779396576054160_1880_000_1900_000;15578450726...            1557845072664263   \n",
            "30779396576054160_1880_000_1900_000;15578450726...            1557845072664263   \n",
            "30779396576054160_1880_000_1900_000;15578450726...            1557845072664263   \n",
            "30779396576054160_1880_000_1900_000;15578450726...            1557845072664263   \n",
            "30779396576054160_1880_000_1900_000;15578450726...            1557845072664263   \n",
            "30779396576054160_1880_000_1900_000;15578450726...            1557845072664263   \n",
            "30779396576054160_1880_000_1900_000;15578450726...            1557845072664263   \n",
            "30779396576054160_1880_000_1900_000;15578450726...            1557845072664263   \n",
            "30779396576054160_1880_000_1900_000;15578450726...            1557845072664263   \n",
            "\n",
            "                                                    key.camera_name  \\\n",
            "index                                                                 \n",
            "30779396576054160_1880_000_1900_000;15578450726...                1   \n",
            "30779396576054160_1880_000_1900_000;15578450726...                1   \n",
            "30779396576054160_1880_000_1900_000;15578450726...                1   \n",
            "30779396576054160_1880_000_1900_000;15578450726...                1   \n",
            "30779396576054160_1880_000_1900_000;15578450726...                1   \n",
            "30779396576054160_1880_000_1900_000;15578450726...                1   \n",
            "30779396576054160_1880_000_1900_000;15578450726...                1   \n",
            "30779396576054160_1880_000_1900_000;15578450726...                1   \n",
            "30779396576054160_1880_000_1900_000;15578450726...                1   \n",
            "30779396576054160_1880_000_1900_000;15578450726...                1   \n",
            "\n",
            "                                                                    key.camera_object_id  \\\n",
            "index                                                                                      \n",
            "30779396576054160_1880_000_1900_000;15578450726...  05e83cfb-09ca-42f8-9103-b0de91b89f71   \n",
            "30779396576054160_1880_000_1900_000;15578450726...  0c9081b7-d98b-4078-936d-9d9ebedabd7f   \n",
            "30779396576054160_1880_000_1900_000;15578450726...  1b660186-6119-45b5-8d6b-541b9a72c812   \n",
            "30779396576054160_1880_000_1900_000;15578450726...  1e6fddb9-3c74-47dc-8559-d1dcc0c7712d   \n",
            "30779396576054160_1880_000_1900_000;15578450726...  23eda948-398a-4c65-aea6-f73f4a8a8f5b   \n",
            "30779396576054160_1880_000_1900_000;15578450726...  28d5449b-8715-41fa-a8fa-2f52c631c908   \n",
            "30779396576054160_1880_000_1900_000;15578450726...  396e77f1-7c0f-475c-899f-ee4b55f2bc00   \n",
            "30779396576054160_1880_000_1900_000;15578450726...  4bf57f93-918d-4f20-869c-4cc060de2413   \n",
            "30779396576054160_1880_000_1900_000;15578450726...  57ab673f-1e25-4cca-a648-a8818b1b0e1e   \n",
            "30779396576054160_1880_000_1900_000;15578450726...  69cb5ae3-9ac3-4338-b02c-bc729b6a72ab   \n",
            "\n",
            "                                                    [CameraBoxComponent].box.center.x  \\\n",
            "index                                                                                   \n",
            "30779396576054160_1880_000_1900_000;15578450726...                         629.063640   \n",
            "30779396576054160_1880_000_1900_000;15578450726...                         649.021334   \n",
            "30779396576054160_1880_000_1900_000;15578450726...                        1266.969540   \n",
            "30779396576054160_1880_000_1900_000;15578450726...                        1593.501570   \n",
            "30779396576054160_1880_000_1900_000;15578450726...                         662.537910   \n",
            "30779396576054160_1880_000_1900_000;15578450726...                         808.119306   \n",
            "30779396576054160_1880_000_1900_000;15578450726...                         699.226689   \n",
            "30779396576054160_1880_000_1900_000;15578450726...                         630.642639   \n",
            "30779396576054160_1880_000_1900_000;15578450726...                         656.853600   \n",
            "30779396576054160_1880_000_1900_000;15578450726...                         896.226475   \n",
            "\n",
            "                                                    [CameraBoxComponent].box.center.y  \\\n",
            "index                                                                                   \n",
            "30779396576054160_1880_000_1900_000;15578450726...                         588.010290   \n",
            "30779396576054160_1880_000_1900_000;15578450726...                         581.062800   \n",
            "30779396576054160_1880_000_1900_000;15578450726...                         675.801300   \n",
            "30779396576054160_1880_000_1900_000;15578450726...                         630.326820   \n",
            "30779396576054160_1880_000_1900_000;15578450726...                         584.220750   \n",
            "30779396576054160_1880_000_1900_000;15578450726...                         590.852544   \n",
            "30779396576054160_1880_000_1900_000;15578450726...                         584.126486   \n",
            "30779396576054160_1880_000_1900_000;15578450726...                         617.063421   \n",
            "30779396576054160_1880_000_1900_000;15578450726...                         588.010290   \n",
            "30779396576054160_1880_000_1900_000;15578450726...                         603.168450   \n",
            "\n",
            "                                                    [CameraBoxComponent].box.size.x  \\\n",
            "index                                                                                 \n",
            "30779396576054160_1880_000_1900_000;15578450726...                        17.684520   \n",
            "30779396576054160_1880_000_1900_000;15578450726...                        22.737240   \n",
            "30779396576054160_1880_000_1900_000;15578450726...                        71.369670   \n",
            "30779396576054160_1880_000_1900_000;15578450726...                        49.264020   \n",
            "30779396576054160_1880_000_1900_000;15578450726...                        21.474060   \n",
            "30779396576054160_1880_000_1900_000;15578450726...                       168.634596   \n",
            "30779396576054160_1880_000_1900_000;15578450726...                        22.737240   \n",
            "30779396576054160_1880_000_1900_000;15578450726...                        62.843191   \n",
            "30779396576054160_1880_000_1900_000;15578450726...                        22.737240   \n",
            "30779396576054160_1880_000_1900_000;15578450726...                        16.421539   \n",
            "\n",
            "                                                    [CameraBoxComponent].box.size.y  \\\n",
            "index                                                                                 \n",
            "30779396576054160_1880_000_1900_000;15578450726...                        19.710867   \n",
            "30779396576054160_1880_000_1900_000;15578450726...                        22.737240   \n",
            "30779396576054160_1880_000_1900_000;15578450726...                       142.107750   \n",
            "30779396576054160_1880_000_1900_000;15578450726...                       125.686410   \n",
            "30779396576054160_1880_000_1900_000;15578450726...                        15.789750   \n",
            "30779396576054160_1880_000_1900_000;15578450726...                       234.951281   \n",
            "30779396576054160_1880_000_1900_000;15578450726...                        22.737240   \n",
            "30779396576054160_1880_000_1900_000;15578450726...                        46.737651   \n",
            "30779396576054160_1880_000_1900_000;15578450726...                        19.579290   \n",
            "30779396576054160_1880_000_1900_000;15578450726...                        56.211510   \n",
            "\n",
            "                                                    [CameraBoxComponent].type  \\\n",
            "index                                                                           \n",
            "30779396576054160_1880_000_1900_000;15578450726...                          1   \n",
            "30779396576054160_1880_000_1900_000;15578450726...                          1   \n",
            "30779396576054160_1880_000_1900_000;15578450726...                          2   \n",
            "30779396576054160_1880_000_1900_000;15578450726...                          2   \n",
            "30779396576054160_1880_000_1900_000;15578450726...                          1   \n",
            "30779396576054160_1880_000_1900_000;15578450726...                          1   \n",
            "30779396576054160_1880_000_1900_000;15578450726...                          1   \n",
            "30779396576054160_1880_000_1900_000;15578450726...                          1   \n",
            "30779396576054160_1880_000_1900_000;15578450726...                          1   \n",
            "30779396576054160_1880_000_1900_000;15578450726...                          2   \n",
            "\n",
            "                                                    [CameraBoxComponent].difficulty_level.detection  \\\n",
            "index                                                                                                 \n",
            "30779396576054160_1880_000_1900_000;15578450726...                                              NaN   \n",
            "30779396576054160_1880_000_1900_000;15578450726...                                              NaN   \n",
            "30779396576054160_1880_000_1900_000;15578450726...                                              NaN   \n",
            "30779396576054160_1880_000_1900_000;15578450726...                                              NaN   \n",
            "30779396576054160_1880_000_1900_000;15578450726...                                              NaN   \n",
            "30779396576054160_1880_000_1900_000;15578450726...                                              NaN   \n",
            "30779396576054160_1880_000_1900_000;15578450726...                                              NaN   \n",
            "30779396576054160_1880_000_1900_000;15578450726...                                              NaN   \n",
            "30779396576054160_1880_000_1900_000;15578450726...                                              NaN   \n",
            "30779396576054160_1880_000_1900_000;15578450726...                                              NaN   \n",
            "\n",
            "                                                    [CameraBoxComponent].difficulty_level.tracking  \n",
            "index                                                                                               \n",
            "30779396576054160_1880_000_1900_000;15578450726...                                             NaN  \n",
            "30779396576054160_1880_000_1900_000;15578450726...                                             NaN  \n",
            "30779396576054160_1880_000_1900_000;15578450726...                                             NaN  \n",
            "30779396576054160_1880_000_1900_000;15578450726...                                             NaN  \n",
            "30779396576054160_1880_000_1900_000;15578450726...                                             NaN  \n",
            "30779396576054160_1880_000_1900_000;15578450726...                                             NaN  \n",
            "30779396576054160_1880_000_1900_000;15578450726...                                             NaN  \n",
            "30779396576054160_1880_000_1900_000;15578450726...                                             NaN  \n",
            "30779396576054160_1880_000_1900_000;15578450726...                                             NaN  \n",
            "30779396576054160_1880_000_1900_000;15578450726...                                             NaN  \n"
          ]
        }
      ]
    },
    {
      "cell_type": "code",
      "source": [
        "# Get basic statistics for all columns\n",
        "print(df.describe())\n",
        "\n",
        "# Get the number of rows and columns in the DataFrame\n",
        "print(df.shape)\n",
        "\n",
        "# Count the number of non-null values in each column\n",
        "print(df.count())\n",
        "\n"
      ],
      "metadata": {
        "colab": {
          "base_uri": "https://localhost:8080/"
        },
        "id": "Bodj027WyJLR",
        "outputId": "ef2ea7ae-911c-429d-9254-93d31d046bc9"
      },
      "execution_count": null,
      "outputs": [
        {
          "output_type": "stream",
          "name": "stdout",
          "text": [
            "       key.frame_timestamp_micros  key.camera_name  \\\n",
            "count                1.832100e+04     18321.000000   \n",
            "mean                 1.557845e+15         2.108018   \n",
            "std                  5.724335e+06         1.297024   \n",
            "min                  1.557845e+15         1.000000   \n",
            "25%                  1.557845e+15         1.000000   \n",
            "50%                  1.557845e+15         2.000000   \n",
            "75%                  1.557845e+15         3.000000   \n",
            "max                  1.557845e+15         5.000000   \n",
            "\n",
            "       [CameraBoxComponent].box.center.x  [CameraBoxComponent].box.center.y  \\\n",
            "count                       18321.000000                       18321.000000   \n",
            "mean                          965.769262                         606.681894   \n",
            "std                           505.564913                         175.665355   \n",
            "min                             1.894770                         207.161520   \n",
            "25%                           598.707844                         581.062800   \n",
            "50%                           973.911780                         623.379330   \n",
            "75%                          1377.497790                         696.012180   \n",
            "max                          1917.806235                        1278.379592   \n",
            "\n",
            "       [CameraBoxComponent].box.size.x  [CameraBoxComponent].box.size.y  \\\n",
            "count                     18321.000000                     18321.000000   \n",
            "mean                        120.851654                       143.629193   \n",
            "std                         225.976494                       135.843790   \n",
            "min                           1.894770                         1.894770   \n",
            "25%                          26.526780                        41.710209   \n",
            "50%                          54.000973                       102.317883   \n",
            "75%                         117.126345                       199.582440   \n",
            "max                        1920.000000                       735.681580   \n",
            "\n",
            "       [CameraBoxComponent].type  \\\n",
            "count               18321.000000   \n",
            "mean                    1.624038   \n",
            "std                     0.547243   \n",
            "min                     1.000000   \n",
            "25%                     1.000000   \n",
            "50%                     2.000000   \n",
            "75%                     2.000000   \n",
            "max                     4.000000   \n",
            "\n",
            "       [CameraBoxComponent].difficulty_level.detection  \\\n",
            "count                                              0.0   \n",
            "mean                                               NaN   \n",
            "std                                                NaN   \n",
            "min                                                NaN   \n",
            "25%                                                NaN   \n",
            "50%                                                NaN   \n",
            "75%                                                NaN   \n",
            "max                                                NaN   \n",
            "\n",
            "       [CameraBoxComponent].difficulty_level.tracking  \n",
            "count                                             0.0  \n",
            "mean                                              NaN  \n",
            "std                                               NaN  \n",
            "min                                               NaN  \n",
            "25%                                               NaN  \n",
            "50%                                               NaN  \n",
            "75%                                               NaN  \n",
            "max                                               NaN  \n",
            "(18321, 11)\n",
            "key.segment_context_name                           18321\n",
            "key.frame_timestamp_micros                         18321\n",
            "key.camera_name                                    18321\n",
            "key.camera_object_id                               18321\n",
            "[CameraBoxComponent].box.center.x                  18321\n",
            "[CameraBoxComponent].box.center.y                  18321\n",
            "[CameraBoxComponent].box.size.x                    18321\n",
            "[CameraBoxComponent].box.size.y                    18321\n",
            "[CameraBoxComponent].type                          18321\n",
            "[CameraBoxComponent].difficulty_level.detection        0\n",
            "[CameraBoxComponent].difficulty_level.tracking         0\n",
            "dtype: int64\n"
          ]
        }
      ]
    },
    {
      "cell_type": "code",
      "source": [
        "print(df.columns)"
      ],
      "metadata": {
        "colab": {
          "base_uri": "https://localhost:8080/"
        },
        "id": "61dF336kxBog",
        "outputId": "37429ad7-5c58-4eef-d0fd-77d3130e9909"
      },
      "execution_count": null,
      "outputs": [
        {
          "output_type": "stream",
          "name": "stdout",
          "text": [
            "Index(['key.segment_context_name', 'key.frame_timestamp_micros',\n",
            "       'key.camera_name', 'key.camera_object_id',\n",
            "       '[CameraBoxComponent].box.center.x',\n",
            "       '[CameraBoxComponent].box.center.y', '[CameraBoxComponent].box.size.x',\n",
            "       '[CameraBoxComponent].box.size.y', '[CameraBoxComponent].type',\n",
            "       '[CameraBoxComponent].difficulty_level.detection',\n",
            "       '[CameraBoxComponent].difficulty_level.tracking'],\n",
            "      dtype='object')\n"
          ]
        }
      ]
    },
    {
      "cell_type": "code",
      "source": [
        "import pandas as pd\n",
        "import seaborn as sns\n",
        "\n",
        "# Load the data from the parquet file\n",
        "data = pd.read_parquet('/content/drive/MyDrive/validation/camera_box/file1.parquet')\n",
        "\n",
        "# Check the data types of each column\n",
        "print(data.dtypes)\n",
        "\n",
        "# Calculate some statistics for the box size\n",
        "box_size = data[[col for col in data.columns if 'box.size' in col]].mean(axis=1)\n",
        "print('Box size statistics:')\n",
        "print(box_size.describe())\n",
        "\n",
        "# Plot the distribution of box size\n",
        "sns.histplot(box_size)"
      ],
      "metadata": {
        "colab": {
          "base_uri": "https://localhost:8080/",
          "height": 829
        },
        "id": "xERtYEvWzv2h",
        "outputId": "eeac3f81-001c-42f2-e7c0-8a7df0a605bc"
      },
      "execution_count": null,
      "outputs": [
        {
          "output_type": "stream",
          "name": "stdout",
          "text": [
            "key.segment_context_name                            object\n",
            "key.frame_timestamp_micros                           int64\n",
            "key.camera_name                                       int8\n",
            "key.camera_object_id                                object\n",
            "[CameraBoxComponent].box.center.x                  float64\n",
            "[CameraBoxComponent].box.center.y                  float64\n",
            "[CameraBoxComponent].box.size.x                    float64\n",
            "[CameraBoxComponent].box.size.y                    float64\n",
            "[CameraBoxComponent].type                             int8\n",
            "[CameraBoxComponent].difficulty_level.detection    float64\n",
            "[CameraBoxComponent].difficulty_level.tracking     float64\n",
            "dtype: object\n",
            "Box size statistics:\n",
            "count    18321.000000\n",
            "mean       132.240423\n",
            "std        156.826353\n",
            "min          2.526360\n",
            "25%         34.579552\n",
            "50%         86.527830\n",
            "75%        163.518654\n",
            "max       1229.589265\n",
            "dtype: float64\n"
          ]
        },
        {
          "output_type": "execute_result",
          "data": {
            "text/plain": [
              "<Axes: ylabel='Count'>"
            ]
          },
          "metadata": {},
          "execution_count": 8
        },
        {
          "output_type": "display_data",
          "data": {
            "text/plain": [
              "<Figure size 640x480 with 1 Axes>"
            ],
            "image/png": "[encoded data removed]"
          },
          "metadata": {}
        }
      ]
    },
    {
      "cell_type": "code",
      "source": [
        "import matplotlib.pyplot as plt\n",
        "\n",
        "# Define the bounding box coordinates\n",
        "x = 100  # center x coordinate\n",
        "y = 200  # center y coordinate\n",
        "w = 50   # width of the box\n",
        "h = 100  # height of the box\n",
        "\n",
        "# Create a blank canvas\n",
        "fig, ax = plt.subplots()\n",
        "ax.set_xlim([0, 500])  # set the x-axis limit\n",
        "ax.set_ylim([0, 500])  # set the y-axis limit\n",
        "\n",
        "# Draw the rectangle\n",
        "rect = plt.Rectangle((x - w/2, y - h/2), w, h, linewidth=1, edgecolor='r', facecolor='none')\n",
        "ax.add_patch(rect)\n",
        "\n",
        "# Show the plot\n",
        "plt.show()"
      ],
      "metadata": {
        "id": "mrSebEGDz-jq"
      },
      "execution_count": null,
      "outputs": []
    },
    {
      "cell_type": "code",
      "source": [
        "import numpy as np\n",
        "from PIL import Image, ImageDraw\n",
        "\n",
        "# Load the camera box data from parquet file\n",
        "df = pd.read_parquet('/content/drive/MyDrive/validation/camera_box/file1.parquet')\n",
        "\n",
        "# Get the camera resolution from the data\n",
        "width = int(df['[CameraBoxComponent].box.size.x'].max())\n",
        "height = int(df['[CameraBoxComponent].box.size.y'].max())\n",
        "\n",
        "# Create a blank image of the same size as the camera resolution\n",
        "img = Image.new('RGB', (width, height), color='white')\n",
        "draw = ImageDraw.Draw(img)\n",
        "\n",
        "# Loop through each bounding box in the data and draw it on the image\n",
        "for index, row in df.iterrows():\n",
        "    # Get the coordinates of the box\n",
        "    x1 = int(row['[CameraBoxComponent].box.center.x'] - row['[CameraBoxComponent].box.size.x'] / 2)\n",
        "    y1 = int(row['[CameraBoxComponent].box.center.y'] - row['[CameraBoxComponent].box.size.y'] / 2)\n",
        "    x2 = int(row['[CameraBoxComponent].box.center.x'] + row['[CameraBoxComponent].box.size.x'] / 2)\n",
        "    y2 = int(row['[CameraBoxComponent].box.center.y'] + row['[CameraBoxComponent].box.size.y'] / 2)\n",
        "    \n",
        "    # Draw the bounding box on the image\n",
        "    draw.rectangle((x1, y1, x2, y2), outline='red')\n",
        "\n",
        "# Show the image with bounding boxes\n",
        "img.show()"
      ],
      "metadata": {
        "id": "CIROEHTP3RBH"
      },
      "execution_count": null,
      "outputs": []
    },
    {
      "cell_type": "code",
      "source": [
        "import numpy as np\n",
        "from PIL import Image, ImageDraw\n",
        "\n",
        "# Load the camera box data from parquet file\n",
        "df = pd.read_parquet('/content/drive/MyDrive/validation/camera_box/file1.parquet')\n",
        "\n",
        "# Get the camera resolution from the data\n",
        "width = int(df['[CameraBoxComponent].box.size.x'].max())\n",
        "height = int(df['[CameraBoxComponent].box.size.y'].max())\n",
        "\n",
        "# Create a blank image of the same size as the camera resolution\n",
        "img = Image.new('RGB', (width, height), color='white')\n",
        "draw = ImageDraw.Draw(img)\n",
        "# Loop through each bounding box in the data and draw it on the image\n",
        "for index, row in df.iterrows():\n",
        "    # Check if the frame number matches the desired frame (frame 10 in this example)\n",
        "    if row['key.frame_timestamp_micros'] == 1:\n",
        "        # Get the coordinates of the box\n",
        "        x1 = int(row['[CameraBoxComponent].box.center.x'] - row['[CameraBoxComponent].box.size.x'] / 2)\n",
        "        y1 = int(row['[CameraBoxComponent].box.center.y'] - row['[CameraBoxComponent].box.size.y'] / 2)\n",
        "        x2 = int(row['[CameraBoxComponent].box.center.x'] + row['[CameraBoxComponent].box.size.x'] / 2)\n",
        "        y2 = int(row['[CameraBoxComponent].box.center.y'] + row['[CameraBoxComponent].box.size.y'] / 2)\n",
        "        \n",
        "        # Draw the bounding box on the image\n",
        "        draw.rectangle((x1, y1, x2, y2), outline='red')\n",
        "# Show the image with bounding boxes\n",
        "img.show()"
      ],
      "metadata": {
        "id": "aBedmlWwVrt9"
      },
      "execution_count": null,
      "outputs": []
    },
    {
      "cell_type": "code",
      "source": [
        "import numpy as np\n",
        "from PIL import Image, ImageDraw\n",
        "\n",
        "# Load the camera box data from parquet file\n",
        "df = pd.read_parquet('/content/drive/MyDrive/validation/camera_box/file1.parquet')\n",
        "\n",
        "# Get the camera resolution from the data\n",
        "width = int(df['[CameraBoxComponent].box.size.x'].max())\n",
        "height = int(df['[CameraBoxComponent].box.size.y'].max())\n",
        "\n",
        "# Create a blank image of the same size as the camera resolution\n",
        "img = Image.new('RGB', (width, height), color='white')\n",
        "draw = ImageDraw.Draw(img)\n",
        "\n",
        "# Get the rows for the desired frame\n",
        "frame_df = df[df['key.frame_timestamp_micros'] == 100000]\n",
        "\n",
        "# Loop through each bounding box in the data for the desired frame and draw it on the image\n",
        "for index, row in frame_df.iterrows():\n",
        "    # Get the coordinates of the box\n",
        "    x1 = int(row['[CameraBoxComponent].box.center.x'] - row['[CameraBoxComponent].box.size.x'] / 2)\n",
        "    y1 = int(row['[CameraBoxComponent].box.center.y'] - row['[CameraBoxComponent].box.size.y'] / 2)\n",
        "    x2 = int(row['[CameraBoxComponent].box.center.x'] + row['[CameraBoxComponent].box.size.x'] / 2)\n",
        "    y2 = int(row['[CameraBoxComponent].box.center.y'] + row['[CameraBoxComponent].box.size.y'] / 2)\n",
        "    \n",
        "    # Draw the bounding box on the image\n",
        "    draw.rectangle((x1, y1, x2, y2), outline='red')\n",
        "\n",
        "# Show the image with bounding boxes\n",
        "img.show()"
      ],
      "metadata": {
        "id": "tY-2M1XAXFUK"
      },
      "execution_count": null,
      "outputs": []
    },
    {
      "cell_type": "code",
      "source": [
        "import pandas as pd\n",
        "from PIL import Image, ImageDraw\n",
        "\n",
        "# Load the camera box data from parquet file\n",
        "df = pd.read_parquet('/content/drive/MyDrive/validation/camera_box/file1.parquet')\n",
        "\n",
        "# Get the camera resolution from the data\n",
        "width = int(df['[CameraBoxComponent].box.size.x'].max())\n",
        "height = int(df['[CameraBoxComponent].box.size.y'].max())\n",
        "\n",
        "# Create a blank image of the same size as the camera resolution\n",
        "img = Image.new('RGB', (width, height), color='white')\n",
        "draw = ImageDraw.Draw(img)\n",
        "\n",
        "# Loop through each bounding box in the data and draw it on the image\n",
        "for index, row in df.iterrows():\n",
        "    # Check if the frame number matches the desired frame (frame 1 in this example)\n",
        "    if row['key.frame_timestamp_micros'] == 1557845072664263 :\n",
        "        # Get the coordinates of the box\n",
        "        x1 = int(row['[CameraBoxComponent].box.center.x'] - row['[CameraBoxComponent].box.size.x'] / 2)\n",
        "        y1 = int(row['[CameraBoxComponent].box.center.y'] - row['[CameraBoxComponent].box.size.y'] / 2)\n",
        "        x2 = int(row['[CameraBoxComponent].box.center.x'] + row['[CameraBoxComponent].box.size.x'] / 2)\n",
        "        y2 = int(row['[CameraBoxComponent].box.center.y'] + row['[CameraBoxComponent].box.size.y'] / 2)\n",
        "\n",
        "        # Draw the bounding box on the image\n",
        "        draw.rectangle((x1, y1, x2, y2), outline='red')\n",
        "\n",
        "# Show the image with bounding boxes\n",
        "img.show()"
      ],
      "metadata": {
        "id": "UrEwgiaFYsRj",
        "outputId": "448dde37-2b1f-4f5d-aae3-fd00e6be7dcc",
        "colab": {
          "base_uri": "https://localhost:8080/",
          "height": 772
        }
      },
      "execution_count": 20,
      "outputs": [
        {
          "output_type": "display_data",
          "data": {
            "text/plain": [
              "<PIL.Image.Image image mode=RGB size=1920x735 at 0x7FF5F946CB20>"
            ],
            "image/png": "[encoded data removed]"
          },
          "metadata": {}
        }
      ]
    },
    {
      "cell_type": "code",
      "source": [
        "import pandas as pd\n",
        "from PIL import Image, ImageDraw\n",
        "\n",
        "# Load the camera box data from parquet file\n",
        "df = pd.read_parquet('/content/drive/MyDrive/validation/camera_box/file1.parquet')\n",
        "\n",
        "# Get the camera resolution from the data\n",
        "width = int(df['[CameraBoxComponent].box.size.x'].max())\n",
        "height = int(df['[CameraBoxComponent].box.size.y'].max())\n",
        "\n",
        "# Create a blank image of the same size as the camera resolution\n",
        "img = Image.new('RGB', (width, height), color='white')\n",
        "draw = ImageDraw.Draw(img)\n",
        "\n",
        "# Loop through each bounding box in the data and draw it on the image\n",
        "for index, row in df.iterrows():\n",
        "    # Check if the frame number matches the desired frame (frame 1 in this example)\n",
        "    if row['key.frame_timestamp_micros'] == 1557845092364266 :\n",
        "        # Get the coordinates of the box\n",
        "        x1 = int(row['[CameraBoxComponent].box.center.x'] - row['[CameraBoxComponent].box.size.x'] / 2)\n",
        "        y1 = int(row['[CameraBoxComponent].box.center.y'] - row['[CameraBoxComponent].box.size.y'] / 2)\n",
        "        x2 = int(row['[CameraBoxComponent].box.center.x'] + row['[CameraBoxComponent].box.size.x'] / 2)\n",
        "        y2 = int(row['[CameraBoxComponent].box.center.y'] + row['[CameraBoxComponent].box.size.y'] / 2)\n",
        "\n",
        "        # Draw the bounding box on the image\n",
        "        draw.rectangle((x1, y1, x2, y2), outline='red')\n",
        "\n",
        "# Show the image with bounding boxes\n",
        "img.show()"
      ],
      "metadata": {
        "id": "lIJ3A3l2dTj-",
        "outputId": "6c2d9354-7d1d-44df-867a-c2b6f4b00bc4",
        "colab": {
          "base_uri": "https://localhost:8080/",
          "height": 623
        }
      },
      "execution_count": 22,
      "outputs": [
        {
          "output_type": "display_data",
          "data": {
            "text/plain": [
              "<PIL.Image.Image image mode=RGB size=1920x735 at 0x7FF5F946C3D0>"
            ],
            "image/png": "[encoded data removed]"
          },
          "metadata": {}
        }
      ]
    },
    {
      "cell_type": "code",
      "source": [
        "import numpy as np\n",
        "from PIL import Image, ImageDraw\n",
        "import pandas as pd\n",
        "\n",
        "# Load the camera box data from parquet file\n",
        "df = pd.read_parquet('/content/drive/MyDrive/validation/camera_box/file1.parquet')\n",
        "\n",
        "# Get the camera resolution from the data\n",
        "width = int(df['[CameraBoxComponent].box.size.x'].max())\n",
        "height = int(df['[CameraBoxComponent].box.size.y'].max())\n",
        "\n",
        "# Set the desired frame timestamp\n",
        "frame_timestamp = 1557845092364266\n",
        "\n",
        "# Create a blank image of the same size as the camera resolution\n",
        "img = Image.new('RGB', (width, height), color='white')\n",
        "draw = ImageDraw.Draw(img)\n",
        "\n",
        "# Count the number of boxes for the desired frame timestamp\n",
        "num_boxes = 0\n",
        "\n",
        "# Loop through each bounding box in the data and draw it on the image\n",
        "for index, row in df.iterrows():\n",
        "    if row['key.frame_timestamp_micros'] == frame_timestamp:\n",
        "        # Get the coordinates of the box\n",
        "        x1 = int(row['[CameraBoxComponent].box.center.x'] - row['[CameraBoxComponent].box.size.x'] / 2)\n",
        "        y1 = int(row['[CameraBoxComponent].box.center.y'] - row['[CameraBoxComponent].box.size.y'] / 2)\n",
        "        x2 = int(row['[CameraBoxComponent].box.center.x'] + row['[CameraBoxComponent].box.size.x'] / 2)\n",
        "        y2 = int(row['[CameraBoxComponent].box.center.y'] + row['[CameraBoxComponent].box.size.y'] / 2)\n",
        "\n",
        "        # Draw the bounding box on the image\n",
        "        draw.rectangle((x1, y1, x2, y2), outline='red')\n",
        "        \n",
        "        # Increment the count of boxes\n",
        "        num_boxes += 1\n",
        "\n",
        "# Show the image with bounding boxes\n",
        "img.show()\n",
        "\n",
        "# Print the number of boxes for the desired frame timestamp\n",
        "print(f\"Number of boxes for frame {frame_timestamp}: {num_boxes}\")\n"
      ],
      "metadata": {
        "id": "IYjJF3IUfCUX",
        "outputId": "00301e14-771c-4145-d9e3-5db086695ee8",
        "colab": {
          "base_uri": "https://localhost:8080/",
          "height": 789
        }
      },
      "execution_count": 23,
      "outputs": [
        {
          "output_type": "display_data",
          "data": {
            "text/plain": [
              "<PIL.Image.Image image mode=RGB size=1920x735 at 0x7FF5F946C190>"
            ],
            "image/png": "[encoded data removed]"
          },
          "metadata": {}
        },
        {
          "output_type": "stream",
          "name": "stdout",
          "text": [
            "Number of boxes for frame 1557845092364266: 109\n"
          ]
        }
      ]
    },
    {
      "cell_type": "code",
      "source": [
        "import numpy as np\n",
        "from PIL import Image, ImageDraw\n",
        "import pandas as pd\n",
        "\n",
        "# Load the camera box data from parquet file\n",
        "df = pd.read_parquet('/content/drive/MyDrive/validation/camera_box/file1.parquet')\n",
        "\n",
        "# Get the camera resolution from the data\n",
        "width = int(df['[CameraBoxComponent].box.size.x'].max())\n",
        "height = int(df['[CameraBoxComponent].box.size.y'].max())\n",
        "\n",
        "# Set the desired frame timestamp\n",
        "frame_timestamp = 1557845092364266\n",
        "\n",
        "# Create a blank image of the same size as the camera resolution\n",
        "img = Image.new('RGB', (width, height), color='white')\n",
        "draw = ImageDraw.Draw(img)\n",
        "\n",
        "# Count the number of boxes for the desired frame timestamp\n",
        "num_boxes = 0\n",
        "\n",
        "# Loop through each bounding box in the data and draw it on the image\n",
        "for index, row in df.iterrows():\n",
        "    if row['key.frame_timestamp_micros'] == frame_timestamp:\n",
        "        # Get the coordinates of the box\n",
        "        x1 = int(row['[CameraBoxComponent].box.center.x'] - row['[CameraBoxComponent].box.size.x'] / 2)\n",
        "        y1 = int(row['[CameraBoxComponent].box.center.y'] - row['[CameraBoxComponent].box.size.y'] / 2)\n",
        "        x2 = int(row['[CameraBoxComponent].box.center.x'] + row['[CameraBoxComponent].box.size.x'] / 2)\n",
        "        y2 = int(row['[CameraBoxComponent].box.center.y'] + row['[CameraBoxComponent].box.size.y'] / 2)\n",
        "\n",
        "        # Draw the bounding box on the image\n",
        "        draw.rectangle((x1, y1, x2, y2), outline='red')\n",
        "        \n",
        "        # Increment the count of boxes\n",
        "        num_boxes += 1\n",
        "\n",
        "# Show the image with bounding boxes\n",
        "img.show()\n",
        "\n",
        "# Print the number of boxes for the desired frame timestamp\n",
        "print(f\"Number of boxes for frame {frame_timestamp}: {num_boxes}\")\n",
        "# Print the difficulty level of the detection\n",
        "print(f\"Detection difficulty level: {row['[CameraBoxComponent].difficulty_level.detection']}\")\n",
        "print(f\"Tracking difficulty level: {row['[CameraBoxComponent].difficulty_level.tracking']}\")\n",
        "print(f\"type: {row['[CameraBoxComponent].type']}\")\n"
      ],
      "metadata": {
        "id": "qhWO_u8ahy7h",
        "outputId": "45ec111e-1a7a-4e51-ecbd-f21e9ae6bd31",
        "colab": {
          "base_uri": "https://localhost:8080/",
          "height": 841
        }
      },
      "execution_count": 29,
      "outputs": [
        {
          "output_type": "display_data",
          "data": {
            "text/plain": [
              "<PIL.Image.Image image mode=RGB size=1920x735 at 0x7FF5F84ACDC0>"
            ],
            "image/png": "[encoded data removed]"
          },
          "metadata": {}
        },
        {
          "output_type": "stream",
          "name": "stdout",
          "text": [
            "Number of boxes for frame 1557845092364266: 109\n",
            "Detection difficulty level: nan\n",
            "Tracking difficulty level: nan\n",
            "type: 1\n"
          ]
        }
      ]
    },
    {
      "cell_type": "code",
      "source": [],
      "metadata": {
        "id": "jFqRV8NLm0Ve"
      },
      "execution_count": null,
      "outputs": []
    },
    {
      "cell_type": "code",
      "source": [
        "print(df['[CameraBoxComponent].type'])"
      ],
      "metadata": {
        "id": "plm02-Yri0GZ",
        "outputId": "f27f9b72-3b70-42b3-a6b4-bbe8e2f9d35e",
        "colab": {
          "base_uri": "https://localhost:8080/"
        }
      },
      "execution_count": 26,
      "outputs": [
        {
          "output_type": "stream",
          "name": "stdout",
          "text": [
            "index\n",
            "30779396576054160_1880_000_1900_000;1557845072664263    1\n",
            "30779396576054160_1880_000_1900_000;1557845072664263    1\n",
            "30779396576054160_1880_000_1900_000;1557845072664263    2\n",
            "30779396576054160_1880_000_1900_000;1557845072664263    2\n",
            "30779396576054160_1880_000_1900_000;1557845072664263    1\n",
            "                                                       ..\n",
            "30779396576054160_1880_000_1900_000;1557845092364266    2\n",
            "30779396576054160_1880_000_1900_000;1557845092364266    2\n",
            "30779396576054160_1880_000_1900_000;1557845092364266    2\n",
            "30779396576054160_1880_000_1900_000;1557845092364266    2\n",
            "30779396576054160_1880_000_1900_000;1557845092364266    1\n",
            "Name: [CameraBoxComponent].type, Length: 18321, dtype: int8\n"
          ]
        }
      ]
    },
    {
      "cell_type": "code",
      "source": [
        "print(df['key.frame_timestamp_micros'])"
      ],
      "metadata": {
        "id": "71yDkLrAbVrk",
        "outputId": "c26f6516-6f0b-4657-81be-3e31376cf30a",
        "colab": {
          "base_uri": "https://localhost:8080/"
        }
      },
      "execution_count": 19,
      "outputs": [
        {
          "output_type": "stream",
          "name": "stdout",
          "text": [
            "index\n",
            "30779396576054160_1880_000_1900_000;1557845072664263    1557845072664263\n",
            "30779396576054160_1880_000_1900_000;1557845072664263    1557845072664263\n",
            "30779396576054160_1880_000_1900_000;1557845072664263    1557845072664263\n",
            "30779396576054160_1880_000_1900_000;1557845072664263    1557845072664263\n",
            "30779396576054160_1880_000_1900_000;1557845072664263    1557845072664263\n",
            "                                                              ...       \n",
            "30779396576054160_1880_000_1900_000;1557845092364266    1557845092364266\n",
            "30779396576054160_1880_000_1900_000;1557845092364266    1557845092364266\n",
            "30779396576054160_1880_000_1900_000;1557845092364266    1557845092364266\n",
            "30779396576054160_1880_000_1900_000;1557845092364266    1557845092364266\n",
            "30779396576054160_1880_000_1900_000;1557845092364266    1557845092364266\n",
            "Name: key.frame_timestamp_micros, Length: 18321, dtype: int64\n"
          ]
        }
      ]
    },
    {
      "cell_type": "code",
      "source": [
        "import pandas as pd\n",
        "import numpy as np\n",
        "from PIL import Image, ImageDraw\n",
        "\n",
        "# Read in the camera_box data from the .parquet file\n",
        "df = pd.read_parquet('/content/drive/MyDrive/validation/camera_box/file1.parquet')\n",
        "\n",
        "# Print the first 5 rows of the dataframe to inspect the data\n",
        "print(df.head())\n",
        "\n",
        "# Extract the x and y coordinates of the center of the boxes\n",
        "x = df['[CameraBoxComponent].box.center.x'].values\n",
        "y = df['[CameraBoxComponent].box.center.y'].values\n",
        "\n",
        "# Extract the width and height of the boxes\n",
        "width = df['[CameraBoxComponent].box.size.x'].values\n",
        "height = df['[CameraBoxComponent].box.size.y'].values\n",
        "\n",
        "# Create a blank image to draw the boxes on\n",
        "img = Image.new('RGB', (1920, 1080), color='black')\n",
        "\n",
        "# Create a drawing object\n",
        "draw = ImageDraw.Draw(img)\n",
        "\n",
        "# Loop over each box and draw it on the image\n",
        "for i in range(len(x)):\n",
        "    x1 = int(x[i] - width[i]/2)\n",
        "    y1 = int(y[i] - height[i]/2)\n",
        "    x2 = int(x[i] + width[i]/2)\n",
        "    y2 = int(y[i] + height[i]/2)\n",
        "    draw.rectangle([(x1, y1), (x2, y2)], outline='red', width=2)\n",
        "\n",
        "# Display the image with the boxes drawn on it\n",
        "img.show()"
      ],
      "metadata": {
        "id": "DmyTZjXWB2Xy"
      },
      "execution_count": null,
      "outputs": []
    },
    {
      "cell_type": "code",
      "source": [
        "import numpy as np\n",
        "import matplotlib.pyplot as plt\n",
        "from PIL import Image, ImageDraw\n",
        "\n",
        "# Read in the camera_box data from the .parquet file\n",
        "df = pd.read_parquet('/content/drive/MyDrive/validation/camera_box/file1.parquet')\n",
        "\n",
        "# Extract the x and y coordinates of the center of the boxes\n",
        "x = df['[CameraBoxComponent].box.center.x'].values\n",
        "y = df['[CameraBoxComponent].box.center.y'].values\n",
        "\n",
        "# Extract the width and height of the boxes\n",
        "width = df['[CameraBoxComponent].box.size.x'].values\n",
        "height = df['[CameraBoxComponent].box.size.y'].values\n",
        "\n",
        "# Create a blank image to draw the boxes on\n",
        "img = np.zeros((1080, 1920, 3), dtype=np.uint8)\n",
        "\n",
        "# Loop over each box and draw it on the image\n",
        "for i in range(len(x)):\n",
        "    x1 = int(x[i] - width[i]/2)\n",
        "    y1 = int(y[i] - height[i]/2)\n",
        "    x2 = int(x[i] + width[i]/2)\n",
        "    y2 = int(y[i] + height[i]/2)\n",
        "    cv2.rectangle(img, (x1, y1), (x2, y2), (255, 0, 0), 2)\n",
        "\n",
        "# Display the image with the boxes drawn on it\n",
        "plt.imshow(img)\n",
        "plt.show()"
      ],
      "metadata": {
        "id": "65I7fuX69nCE"
      },
      "execution_count": null,
      "outputs": []
    },
    {
      "cell_type": "code",
      "source": [
        "import numpy as np\n",
        "from PIL import Image, ImageDraw\n",
        "\n",
        "# Load the camera box data from parquet file\n",
        "df = pd.read_parquet('/content/drive/MyDrive/validation/camera_box/file1.parquet')\n",
        "\n",
        "# Get the camera resolution from the data\n",
        "width = int(df['[CameraBoxComponent].box.size.x'].max())\n",
        "height = int(df['[CameraBoxComponent].box.size.y'].max())\n",
        "\n",
        "# Create a blank image of the same size as the camera resolution\n",
        "img = Image.new('RGB', (width, height), color='white')\n",
        "draw = ImageDraw.Draw(img)\n",
        "\n",
        "# Loop through each bounding box in the data and draw it on the image\n",
        "for index, row in df.iterrows():\n",
        "    # Get the coordinates of the box\n",
        "    x1 = int(row['[CameraBoxComponent].box.center.x'] - row['[CameraBoxComponent].box.size.x'] / 2)\n",
        "    y1 = int(row['[CameraBoxComponent].box.center.y'] - row['[CameraBoxComponent].box.size.y'] / 2)\n",
        "    x2 = int(row['[CameraBoxComponent].box.center.x'] + row['[CameraBoxComponent].box.size.x'] / 2)\n",
        "    y2 = int(row['[CameraBoxComponent].box.center.y'] + row['[CameraBoxComponent].box.size.y'] / 2)\n",
        "    \n",
        "    # Draw the bounding box on the image\n",
        "    draw.rectangle((x1, y1, x2, y2), outline='red')\n",
        "\n",
        "# Show the image with bounding boxes\n",
        "img.show()"
      ],
      "metadata": {
        "id": "rjvPK1A8tZz7"
      },
      "execution_count": null,
      "outputs": []
    }
  ]
}