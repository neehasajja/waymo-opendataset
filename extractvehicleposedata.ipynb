{
  "nbformat": 4,
  "nbformat_minor": 0,
  "metadata": {
    "colab": {
      "provenance": [],
      "authorship_tag": "ABX9TyOVCrJ5utYBZRv/6Edj92Ee",
      "include_colab_link": true
    },
    "kernelspec": {
      "name": "python3",
      "display_name": "Python 3"
    },
    "language_info": {
      "name": "python"
    }
  },
  "cells": [
    {
      "cell_type": "markdown",
      "metadata": {
        "id": "view-in-github",
        "colab_type": "text"
      },
      "source": [
        "<a href=\"https://colab.research.google.com/github/neehasajja/waymo-opendataset/blob/extractdata/extractvehicleposedata.ipynb\" target=\"_parent\"><img src=\"https://colab.research.google.com/assets/colab-badge.svg\" alt=\"Open In Colab\"/></a>"
      ]
    },
    {
      "cell_type": "code",
      "execution_count": 1,
      "metadata": {
        "colab": {
          "base_uri": "https://localhost:8080/"
        },
        "id": "LXVct4JhWTVE",
        "outputId": "a830d7c8-8354-4997-d340-5efedddcedd5"
      },
      "outputs": [
        {
          "output_type": "stream",
          "name": "stdout",
          "text": [
            "Mounted at /content/drive\n"
          ]
        }
      ],
      "source": [
        "from google.colab import drive\n",
        "drive.mount('/content/drive')"
      ]
    },
    {
      "cell_type": "code",
      "source": [
        "!pip3 install waymo-open-dataset-tf-2-6-0"
      ],
      "metadata": {
        "id": "iNKxxCjaWrsI"
      },
      "execution_count": null,
      "outputs": []
    },
    {
      "cell_type": "code",
      "source": [
        "!pip install tensorflow"
      ],
      "metadata": {
        "id": "PFgC4rUnWt7k"
      },
      "execution_count": null,
      "outputs": []
    },
    {
      "cell_type": "code",
      "source": [
        "import pyarrow.parquet as pq\n",
        "import pandas as pd\n",
        "\n",
        "# Set the path to the Parquet file\n",
        "parquet_file_path = '/content/drive/MyDrive/testing/vehicle_pose/file1.parquet'\n",
        "\n",
        "# Read the Parquet file into a Pyarrow table\n",
        "table = pq.read_table(parquet_file_path)\n",
        "\n",
        "# Convert the table to a Pandas DataFrame\n",
        "df = table.to_pandas()\n",
        "\n",
        "# Print the first 10 rows of the DataFrame\n",
        "print(df.head(10))"
      ],
      "metadata": {
        "colab": {
          "base_uri": "https://localhost:8080/"
        },
        "id": "zHWIW95vWwRd",
        "outputId": "1ac63546-0dbb-44fe-f823-0c13de403ef2"
      },
      "execution_count": 4,
      "outputs": [
        {
          "output_type": "stream",
          "name": "stdout",
          "text": [
            "                                                                  key.segment_context_name  \\\n",
            "index                                                                                        \n",
            "18149616047892103767_2460_000_2480_000;15557066...  18149616047892103767_2460_000_2480_000   \n",
            "18149616047892103767_2460_000_2480_000;15557066...  18149616047892103767_2460_000_2480_000   \n",
            "18149616047892103767_2460_000_2480_000;15557066...  18149616047892103767_2460_000_2480_000   \n",
            "18149616047892103767_2460_000_2480_000;15557066...  18149616047892103767_2460_000_2480_000   \n",
            "18149616047892103767_2460_000_2480_000;15557066...  18149616047892103767_2460_000_2480_000   \n",
            "18149616047892103767_2460_000_2480_000;15557066...  18149616047892103767_2460_000_2480_000   \n",
            "18149616047892103767_2460_000_2480_000;15557066...  18149616047892103767_2460_000_2480_000   \n",
            "18149616047892103767_2460_000_2480_000;15557066...  18149616047892103767_2460_000_2480_000   \n",
            "18149616047892103767_2460_000_2480_000;15557066...  18149616047892103767_2460_000_2480_000   \n",
            "18149616047892103767_2460_000_2480_000;15557066...  18149616047892103767_2460_000_2480_000   \n",
            "\n",
            "                                                    key.frame_timestamp_micros  \\\n",
            "index                                                                            \n",
            "18149616047892103767_2460_000_2480_000;15557066...            1555706641900051   \n",
            "18149616047892103767_2460_000_2480_000;15557066...            1555706642000036   \n",
            "18149616047892103767_2460_000_2480_000;15557066...            1555706642100016   \n",
            "18149616047892103767_2460_000_2480_000;15557066...            1555706642200004   \n",
            "18149616047892103767_2460_000_2480_000;15557066...            1555706642299986   \n",
            "18149616047892103767_2460_000_2480_000;15557066...            1555706642399968   \n",
            "18149616047892103767_2460_000_2480_000;15557066...            1555706642499948   \n",
            "18149616047892103767_2460_000_2480_000;15557066...            1555706642599895   \n",
            "18149616047892103767_2460_000_2480_000;15557066...            1555706642699881   \n",
            "18149616047892103767_2460_000_2480_000;15557066...            1555706642799864   \n",
            "\n",
            "                                                   [VehiclePoseComponent].world_from_vehicle.transform  \n",
            "index                                                                                                   \n",
            "18149616047892103767_2460_000_2480_000;15557066...  [-0.9999633710018745, 0.0006800590995104257, -...   \n",
            "18149616047892103767_2460_000_2480_000;15557066...  [-0.9999625483450193, 0.000680160205680233, -0...   \n",
            "18149616047892103767_2460_000_2480_000;15557066...  [-0.9999625483450193, 0.000680160205680233, -0...   \n",
            "18149616047892103767_2460_000_2480_000;15557066...  [-0.9999625483450193, 0.0006809873838318646, -...   \n",
            "18149616047892103767_2460_000_2480_000;15557066...  [-0.9999625483450193, 0.0006809873838318646, -...   \n",
            "18149616047892103767_2460_000_2480_000;15557066...  [-0.9999633710018745, 0.0006800590995104257, -...   \n",
            "18149616047892103767_2460_000_2480_000;15557066...  [-0.9999641844593714, 0.0006791491916904984, -...   \n",
            "18149616047892103767_2460_000_2480_000;15557066...  [-0.9999633710018745, 0.0006800590995104257, -...   \n",
            "18149616047892103767_2460_000_2480_000;15557066...  [-0.9999625483450193, 0.000680160205680233, -0...   \n",
            "18149616047892103767_2460_000_2480_000;15557066...  [-0.9999633710018745, 0.0006800590995104257, -...   \n"
          ]
        }
      ]
    },
    {
      "cell_type": "code",
      "source": [
        "!file /content/drive/MyDrive/testing/vehicle_pose/_metadata\n",
        "print(metadata_dict.keys())"
      ],
      "metadata": {
        "colab": {
          "base_uri": "https://localhost:8080/"
        },
        "id": "t6lFY26TYsLX",
        "outputId": "4757391f-3214-41c8-f2e4-25f6e0981562"
      },
      "execution_count": 10,
      "outputs": [
        {
          "output_type": "stream",
          "name": "stdout",
          "text": [
            "/content/drive/MyDrive/testing/vehicle_pose/_metadata: Apache Parquet\n",
            "dict_keys([b'ARROW:schema', b'pandas'])\n"
          ]
        }
      ]
    },
    {
      "cell_type": "code",
      "source": [
        "import os\n",
        "import pyarrow.parquet as pq\n",
        "\n",
        "# Set the path to the metadata file\n",
        "metadata_file_path = '/content/drive/MyDrive/testing/vehicle_pose/_metadata'\n",
        "\n",
        "# Read the metadata file\n",
        "metadata_file = pq.ParquetFile(metadata_file_path)\n",
        "\n",
        "# Get the metadata\n",
        "file_metadata = metadata_file.metadata\n",
        "schema_metadata = file_metadata.metadata\n",
        "\n",
        "# Print the metadata\n",
        "print(\"File metadata:\", file_metadata)\n",
        "print(\"Schema metadata:\", schema_metadata)"
      ],
      "metadata": {
        "colab": {
          "base_uri": "https://localhost:8080/"
        },
        "id": "6Z80GvUwfSjk",
        "outputId": "44223a26-d27b-4dfa-b0b9-527b01e75bba"
      },
      "execution_count": 21,
      "outputs": [
        {
          "output_type": "stream",
          "name": "stdout",
          "text": [
            "File metadata: <pyarrow._parquet.FileMetaData object at 0x7f9d65763f90>\n",
            "  created_by: parquet-cpp-arrow version 10.0.1\n",
            "  num_columns: 4\n",
            "  num_rows: 3101\n",
            "  num_row_groups: 16\n",
            "  format_version: 2.6\n",
            "  serialized_size: 16018\n",
            "Schema metadata: {b'ARROW:schema': b'/////zgFAAAQAAAAAAAKAA4ABgAFAAgACgAAAAABBAAQAAAAAAAKAAwAAAAEAAgACgAAAJwDAAAEAAAAAQAAAAwAAAAIAAwABAAIAAgAAAB0AwAABAAAAGQDAAB7ImNvbHVtbl9pbmRleGVzIjogW3siZmllbGRfbmFtZSI6IG51bGwsICJtZXRhZGF0YSI6IHsiZW5jb2RpbmciOiAiVVRGLTgifSwgIm5hbWUiOiBudWxsLCAibnVtcHlfdHlwZSI6ICJvYmplY3QiLCAicGFuZGFzX3R5cGUiOiAidW5pY29kZSJ9XSwgImNvbHVtbnMiOiBbeyJuYW1lIjogImluZGV4IiwgImZpZWxkX25hbWUiOiAiaW5kZXgiLCAibWV0YWRhdGEiOiBudWxsLCAibnVtcHlfdHlwZSI6ICJvYmplY3QiLCAicGFuZGFzX3R5cGUiOiAiYnl0ZXMifSwgeyJuYW1lIjogImtleS5zZWdtZW50X2NvbnRleHRfbmFtZSIsICJmaWVsZF9uYW1lIjogImtleS5zZWdtZW50X2NvbnRleHRfbmFtZSIsICJtZXRhZGF0YSI6IG51bGwsICJudW1weV90eXBlIjogIm9iamVjdCIsICJwYW5kYXNfdHlwZSI6ICJieXRlcyJ9LCB7Im5hbWUiOiAia2V5LmZyYW1lX3RpbWVzdGFtcF9taWNyb3MiLCAiZmllbGRfbmFtZSI6ICJrZXkuZnJhbWVfdGltZXN0YW1wX21pY3JvcyIsICJtZXRhZGF0YSI6IG51bGwsICJudW1weV90eXBlIjogImludDY0IiwgInBhbmRhc190eXBlIjogImludDY0In0sIHsibmFtZSI6ICJbVmVoaWNsZVBvc2VDb21wb25lbnRdLndvcmxkX2Zyb21fdmVoaWNsZS50cmFuc2Zvcm0iLCAiZmllbGRfbmFtZSI6ICJbVmVoaWNsZVBvc2VDb21wb25lbnRdLndvcmxkX2Zyb21fdmVoaWNsZS50cmFuc2Zvcm0iLCAibWV0YWRhdGEiOiBudWxsLCAibnVtcHlfdHlwZSI6ICJvYmplY3QiLCAicGFuZGFzX3R5cGUiOiAiYnl0ZXMifV0sICJjcmVhdG9yIjogeyJsaWJyYXJ5IjogInB5YXJyb3ciLCAidmVyc2lvbiI6ICIxMC4wLjEifSwgImluZGV4X2NvbHVtbnMiOiBbImluZGV4Il0sICJwYW5kYXNfdmVyc2lvbiI6ICIxLjEuNSJ9AAAAAAYAAABwYW5kYXMAAAQAAAA8AQAA7AAAAJwAAAAEAAAA5P7//wAAARAUAAAAUAAAAAQAAAABAAAATAAAADMAAABbVmVoaWNsZVBvc2VDb21wb25lbnRdLndvcmxkX2Zyb21fdmVoaWNsZS50cmFuc2Zvcm0AAAAGAAgABAAGAAAAEAAAAEj///8AAAEDEAAAABwAAAAEAAAAAAAAAAQAAABpdGVtAAAGAAgABgAGAAAAAAACAHj///8AAAECEAAAADQAAAAEAAAAAAAAABoAAABrZXkuZnJhbWVfdGltZXN0YW1wX21pY3JvcwAACAAMAAgABwAIAAAAAAAAAUAAAADE////AAABBRAAAAAsAAAABAAAAAAAAAAYAAAAa2V5LnNlZ21lbnRfY29udGV4dF9uYW1lAAAAAMj///8QABQACAAGAAcADAAAABAAEAAAAAAAAQUQAAAAHAAAAAQAAAAAAAAABQAAAGluZGV4AAAABAAEAAQAAAAAAAAA', b'pandas': b'{\"column_indexes\": [{\"field_name\": null, \"metadata\": {\"encoding\": \"UTF-8\"}, \"name\": null, \"numpy_type\": \"object\", \"pandas_type\": \"unicode\"}], \"columns\": [{\"name\": \"index\", \"field_name\": \"index\", \"metadata\": null, \"numpy_type\": \"object\", \"pandas_type\": \"bytes\"}, {\"name\": \"key.segment_context_name\", \"field_name\": \"key.segment_context_name\", \"metadata\": null, \"numpy_type\": \"object\", \"pandas_type\": \"bytes\"}, {\"name\": \"key.frame_timestamp_micros\", \"field_name\": \"key.frame_timestamp_micros\", \"metadata\": null, \"numpy_type\": \"int64\", \"pandas_type\": \"int64\"}, {\"name\": \"[VehiclePoseComponent].world_from_vehicle.transform\", \"field_name\": \"[VehiclePoseComponent].world_from_vehicle.transform\", \"metadata\": null, \"numpy_type\": \"object\", \"pandas_type\": \"bytes\"}], \"creator\": {\"library\": \"pyarrow\", \"version\": \"10.0.1\"}, \"index_columns\": [\"index\"], \"pandas_version\": \"1.1.5\"}'}\n"
          ]
        }
      ]
    }
  ]
}