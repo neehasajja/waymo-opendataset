{
  "nbformat": 4,
  "nbformat_minor": 0,
  "metadata": {
    "colab": {
      "provenance": [],
      "authorship_tag": "ABX9TyOFVsma38jJRJv6K7dpfpDD",
      "include_colab_link": true
    },
    "kernelspec": {
      "name": "python3",
      "display_name": "Python 3"
    },
    "language_info": {
      "name": "python"
    }
  },
  "cells": [
    {
      "cell_type": "markdown",
      "metadata": {
        "id": "view-in-github",
        "colab_type": "text"
      },
      "source": [
        "<a href=\"https://colab.research.google.com/github/neehasajja/waymo-opendataset/blob/main/testing/lidar_pose.ipynb\" target=\"_parent\"><img src=\"https://colab.research.google.com/assets/colab-badge.svg\" alt=\"Open In Colab\"/></a>"
      ]
    },
    {
      "cell_type": "code",
      "execution_count": 1,
      "metadata": {
        "colab": {
          "base_uri": "https://localhost:8080/"
        },
        "id": "2G5vvIXbbvye",
        "outputId": "ec8a8362-0b99-4541-b051-e1cdefbfd4c9"
      },
      "outputs": [
        {
          "output_type": "stream",
          "name": "stdout",
          "text": [
            "Mounted at /content/drive\n"
          ]
        }
      ],
      "source": [
        "from google.colab import drive\n",
        "drive.mount('/content/drive')\n"
      ]
    },
    {
      "cell_type": "code",
      "source": [
        "!pip3 install waymo-open-dataset-tf-2-6-0"
      ],
      "metadata": {
        "id": "4IiyCUhacwLR"
      },
      "execution_count": null,
      "outputs": []
    },
    {
      "cell_type": "code",
      "source": [
        "import os\n",
        "import pyarrow.parquet as pq\n",
        "import tensorflow as tf\n",
        "\n",
        "\n",
        "# Set the path to the directory containing the parquet files\n",
        "dir_path = '/content/drive/MyDrive/testing/lidar_pose/'\n",
        "# Get a list of all the files in the directory\n",
        "files = os.listdir(dir_path)\n",
        "\n",
        "# Loop through each file and extract metadata\n",
        "for filename in files:\n",
        "    # Skip directories\n",
        "    if os.path.isdir(os.path.join(dir_path, filename)):\n",
        "        continue\n",
        "        \n",
        "    # Check if the file is a parquet file\n",
        "    if filename.endswith('.parquet'):\n",
        "        # Read the parquet file\n",
        "        parquet_file = pq.ParquetFile(os.path.join(dir_path, filename))\n",
        "\n",
        "        # Get the metadata\n",
        "        metadata = parquet_file.metadata\n",
        "\n",
        "        # Print the metadata\n",
        "        print(\"File:\", filename)\n",
        "        print(metadata)"
      ],
      "metadata": {
        "colab": {
          "base_uri": "https://localhost:8080/"
        },
        "id": "IGE2bo2tc0MO",
        "outputId": "d0a95c55-db4e-4518-a198-1e141ab6b8b9"
      },
      "execution_count": 3,
      "outputs": [
        {
          "output_type": "stream",
          "name": "stdout",
          "text": [
            "File: 10504764403039842352_460_000_480_000.parquet\n",
            "<pyarrow._parquet.FileMetaData object at 0x7fa42b1c37c0>\n",
            "  created_by: parquet-cpp-arrow version 10.0.1\n",
            "  num_columns: 6\n",
            "  num_rows: 166\n",
            "  num_row_groups: 1\n",
            "  format_version: 2.6\n",
            "  serialized_size: 4878\n",
            "File: 14188689528137485670_2660_000_2680_000.parquet\n",
            "<pyarrow._parquet.FileMetaData object at 0x7fa42bdd4c70>\n",
            "  created_by: parquet-cpp-arrow version 10.0.1\n",
            "  num_columns: 6\n",
            "  num_rows: 198\n",
            "  num_row_groups: 1\n",
            "  format_version: 2.6\n",
            "  serialized_size: 4886\n",
            "File: 14737335824319407706_1980_000_2000_000.parquet\n",
            "<pyarrow._parquet.FileMetaData object at 0x7fa4b710cb80>\n",
            "  created_by: parquet-cpp-arrow version 10.0.1\n",
            "  num_columns: 6\n",
            "  num_rows: 199\n",
            "  num_row_groups: 1\n",
            "  format_version: 2.6\n",
            "  serialized_size: 4885\n",
            "File: 10980133015080705026_780_000_800_000.parquet\n",
            "<pyarrow._parquet.FileMetaData object at 0x7fa42b1c3770>\n",
            "  created_by: parquet-cpp-arrow version 10.0.1\n",
            "  num_columns: 6\n",
            "  num_rows: 198\n",
            "  num_row_groups: 1\n",
            "  format_version: 2.6\n",
            "  serialized_size: 4877\n",
            "File: 11987368976578218644_1340_000_1360_000.parquet\n",
            "<pyarrow._parquet.FileMetaData object at 0x7fa4b710cb80>\n",
            "  created_by: parquet-cpp-arrow version 10.0.1\n",
            "  num_columns: 6\n",
            "  num_rows: 198\n",
            "  num_row_groups: 1\n",
            "  format_version: 2.6\n",
            "  serialized_size: 4886\n",
            "File: 15272375112495403395_620_000_640_000.parquet\n",
            "<pyarrow._parquet.FileMetaData object at 0x7fa42b1c36d0>\n",
            "  created_by: parquet-cpp-arrow version 10.0.1\n",
            "  num_columns: 6\n",
            "  num_rows: 196\n",
            "  num_row_groups: 1\n",
            "  format_version: 2.6\n",
            "  serialized_size: 4877\n",
            "File: 17136775999940024630_4860_000_4880_000.parquet\n",
            "<pyarrow._parquet.FileMetaData object at 0x7fa42bdd4c70>\n",
            "  created_by: parquet-cpp-arrow version 10.0.1\n",
            "  num_columns: 6\n",
            "  num_rows: 188\n",
            "  num_row_groups: 1\n",
            "  format_version: 2.6\n",
            "  serialized_size: 4886\n",
            "File: 17792628511034220885_2360_000_2380_000.parquet\n",
            "<pyarrow._parquet.FileMetaData object at 0x7fa42b1c3860>\n",
            "  created_by: parquet-cpp-arrow version 10.0.1\n",
            "  num_columns: 6\n",
            "  num_rows: 172\n",
            "  num_row_groups: 1\n",
            "  format_version: 2.6\n",
            "  serialized_size: 4886\n",
            "File: 2601205676330128831_4880_000_4900_000.parquet\n",
            "<pyarrow._parquet.FileMetaData object at 0x7fa42b1c3950>\n",
            "  created_by: parquet-cpp-arrow version 10.0.1\n",
            "  num_columns: 6\n",
            "  num_rows: 199\n",
            "  num_row_groups: 1\n",
            "  format_version: 2.6\n",
            "  serialized_size: 4882\n",
            "File: 18149616047892103767_2460_000_2480_000.parquet\n",
            "<pyarrow._parquet.FileMetaData object at 0x7fa42bdd4c70>\n",
            "  created_by: parquet-cpp-arrow version 10.0.1\n",
            "  num_columns: 6\n",
            "  num_rows: 198\n",
            "  num_row_groups: 1\n",
            "  format_version: 2.6\n",
            "  serialized_size: 4886\n",
            "File: 7247823803417339098_2320_000_2340_000.parquet\n",
            "<pyarrow._parquet.FileMetaData object at 0x7fa42b1c3770>\n",
            "  created_by: parquet-cpp-arrow version 10.0.1\n",
            "  num_columns: 6\n",
            "  num_rows: 199\n",
            "  num_row_groups: 1\n",
            "  format_version: 2.6\n",
            "  serialized_size: 4881\n",
            "File: 5026942594071056992_3120_000_3140_000.parquet\n",
            "<pyarrow._parquet.FileMetaData object at 0x7fa42bdd4c70>\n",
            "  created_by: parquet-cpp-arrow version 10.0.1\n",
            "  num_columns: 6\n",
            "  num_rows: 199\n",
            "  num_row_groups: 1\n",
            "  format_version: 2.6\n",
            "  serialized_size: 4882\n",
            "File: 8688567562597583972_940_000_960_000.parquet\n",
            "<pyarrow._parquet.FileMetaData object at 0x7fa42b1c39f0>\n",
            "  created_by: parquet-cpp-arrow version 10.0.1\n",
            "  num_columns: 6\n",
            "  num_rows: 198\n",
            "  num_row_groups: 1\n",
            "  format_version: 2.6\n",
            "  serialized_size: 4873\n",
            "File: 8993680275027614595_2520_000_2540_000.parquet\n",
            "<pyarrow._parquet.FileMetaData object at 0x7fa42bdd4c70>\n",
            "  created_by: parquet-cpp-arrow version 10.0.1\n",
            "  num_columns: 6\n",
            "  num_rows: 198\n",
            "  num_row_groups: 1\n",
            "  format_version: 2.6\n",
            "  serialized_size: 4882\n",
            "File: 4140965781175793864_460_000_480_000.parquet\n",
            "<pyarrow._parquet.FileMetaData object at 0x7fa42b1c3810>\n",
            "  created_by: parquet-cpp-arrow version 10.0.1\n",
            "  num_columns: 6\n",
            "  num_rows: 196\n",
            "  num_row_groups: 1\n",
            "  format_version: 2.6\n",
            "  serialized_size: 4873\n",
            "File: 5638240639308158118_4220_000_4240_000.parquet\n",
            "<pyarrow._parquet.FileMetaData object at 0x7fa42bdd4c70>\n",
            "  created_by: parquet-cpp-arrow version 10.0.1\n",
            "  num_columns: 6\n",
            "  num_rows: 199\n",
            "  num_row_groups: 1\n",
            "  format_version: 2.6\n",
            "  serialized_size: 4882\n"
          ]
        }
      ]
    },
    {
      "cell_type": "code",
      "source": [
        "import os\n",
        "import pyarrow.parquet as pq\n",
        "import pandas as pd\n",
        "import matplotlib.pyplot as plt\n",
        "\n",
        "# Set the path to the directory containing the parquet files\n",
        "dir_path = '/content/drive/MyDrive/testing/lidar_pose/'\n",
        "\n",
        "# Get a list of all the files in the directory\n",
        "files = os.listdir(dir_path)\n",
        "\n",
        "# Loop through each file and extract metadata\n",
        "for filename in files:\n",
        "    # Skip directories\n",
        "    if os.path.isdir(os.path.join(dir_path, filename)):\n",
        "        continue\n",
        "        \n",
        "    # Check if the file is a parquet file\n",
        "    if filename.endswith('.parquet'):\n",
        "        # Read the parquet file\n",
        "        parquet_file = pq.ParquetFile(os.path.join(dir_path, filename))\n",
        "\n",
        "        # Get the table from the file\n",
        "        table = parquet_file.read()\n",
        "\n",
        "        # Convert the table to a Pandas DataFrame\n",
        "        df = table.to_pandas()\n",
        "\n",
        "        # Calculate column statistics\n",
        "        statistics = df.describe()\n",
        "\n",
        "        # Print the statistics\n",
        "        print(\"File:\", filename)\n",
        "        print(statistics)\n",
        "  "
      ],
      "metadata": {
        "colab": {
          "base_uri": "https://localhost:8080/"
        },
        "id": "7lD5nuAndxsY",
        "outputId": "0311f392-7634-4c89-9afb-a78e1b5e8e48"
      },
      "execution_count": 5,
      "outputs": [
        {
          "output_type": "stream",
          "name": "stdout",
          "text": [
            "File: 10504764403039842352_460_000_480_000.parquet\n",
            "       key.frame_timestamp_micros  key.laser_name\n",
            "count                1.660000e+02           166.0\n",
            "mean                 1.558061e+15             1.0\n",
            "std                  6.036114e+06             0.0\n",
            "min                  1.558061e+15             1.0\n",
            "25%                  1.558061e+15             1.0\n",
            "50%                  1.558061e+15             1.0\n",
            "75%                  1.558061e+15             1.0\n",
            "max                  1.558061e+15             1.0\n",
            "File: 14188689528137485670_2660_000_2680_000.parquet\n",
            "       key.frame_timestamp_micros  key.laser_name\n",
            "count                1.980000e+02           198.0\n",
            "mean                 1.555688e+15             1.0\n",
            "std                  5.719822e+06             0.0\n",
            "min                  1.555688e+15             1.0\n",
            "25%                  1.555688e+15             1.0\n",
            "50%                  1.555688e+15             1.0\n",
            "75%                  1.555688e+15             1.0\n",
            "max                  1.555688e+15             1.0\n",
            "File: 14737335824319407706_1980_000_2000_000.parquet\n",
            "       key.frame_timestamp_micros  key.laser_name\n",
            "count                1.990000e+02           199.0\n",
            "mean                 1.556068e+15             1.0\n",
            "std                  5.758847e+06             0.0\n",
            "min                  1.556068e+15             1.0\n",
            "25%                  1.556068e+15             1.0\n",
            "50%                  1.556068e+15             1.0\n",
            "75%                  1.556068e+15             1.0\n",
            "max                  1.556068e+15             1.0\n",
            "File: 10980133015080705026_780_000_800_000.parquet\n",
            "       key.frame_timestamp_micros  key.laser_name\n",
            "count                1.980000e+02           198.0\n",
            "mean                 1.557159e+15             1.0\n",
            "std                  5.730188e+06             0.0\n",
            "min                  1.557159e+15             1.0\n",
            "25%                  1.557159e+15             1.0\n",
            "50%                  1.557159e+15             1.0\n",
            "75%                  1.557159e+15             1.0\n",
            "max                  1.557159e+15             1.0\n",
            "File: 11987368976578218644_1340_000_1360_000.parquet\n",
            "       key.frame_timestamp_micros  key.laser_name\n",
            "count                1.980000e+02           198.0\n",
            "mean                 1.557240e+15             1.0\n",
            "std                  5.720072e+06             0.0\n",
            "min                  1.557240e+15             1.0\n",
            "25%                  1.557240e+15             1.0\n",
            "50%                  1.557240e+15             1.0\n",
            "75%                  1.557240e+15             1.0\n",
            "max                  1.557240e+15             1.0\n",
            "File: 15272375112495403395_620_000_640_000.parquet\n",
            "       key.frame_timestamp_micros  key.laser_name\n",
            "count                1.960000e+02           196.0\n",
            "mean                 1.559189e+15             1.0\n",
            "std                  5.720942e+06             0.0\n",
            "min                  1.559189e+15             1.0\n",
            "25%                  1.559189e+15             1.0\n",
            "50%                  1.559189e+15             1.0\n",
            "75%                  1.559189e+15             1.0\n",
            "max                  1.559189e+15             1.0\n",
            "File: 17136775999940024630_4860_000_4880_000.parquet\n",
            "       key.frame_timestamp_micros  key.laser_name\n",
            "count                1.880000e+02           188.0\n",
            "mean                 1.555382e+15             1.0\n",
            "std                  5.738289e+06             0.0\n",
            "min                  1.555382e+15             1.0\n",
            "25%                  1.555382e+15             1.0\n",
            "50%                  1.555382e+15             1.0\n",
            "75%                  1.555382e+15             1.0\n",
            "max                  1.555382e+15             1.0\n",
            "File: 17792628511034220885_2360_000_2380_000.parquet\n",
            "       key.frame_timestamp_micros  key.laser_name\n",
            "count                1.720000e+02           172.0\n",
            "mean                 1.555039e+15             1.0\n",
            "std                  6.078925e+06             0.0\n",
            "min                  1.555039e+15             1.0\n",
            "25%                  1.555039e+15             1.0\n",
            "50%                  1.555039e+15             1.0\n",
            "75%                  1.555039e+15             1.0\n",
            "max                  1.555039e+15             1.0\n",
            "File: 2601205676330128831_4880_000_4900_000.parquet\n",
            "       key.frame_timestamp_micros  key.laser_name\n",
            "count                1.990000e+02           199.0\n",
            "mean                 1.555183e+15             1.0\n",
            "std                  5.749150e+06             0.0\n",
            "min                  1.555183e+15             1.0\n",
            "25%                  1.555183e+15             1.0\n",
            "50%                  1.555183e+15             1.0\n",
            "75%                  1.555183e+15             1.0\n",
            "max                  1.555183e+15             1.0\n",
            "File: 18149616047892103767_2460_000_2480_000.parquet\n",
            "       key.frame_timestamp_micros  key.laser_name\n",
            "count                1.980000e+02           198.0\n",
            "mean                 1.555707e+15             1.0\n",
            "std                  5.729627e+06             0.0\n",
            "min                  1.555707e+15             1.0\n",
            "25%                  1.555707e+15             1.0\n",
            "50%                  1.555707e+15             1.0\n",
            "75%                  1.555707e+15             1.0\n",
            "max                  1.555707e+15             1.0\n",
            "File: 7247823803417339098_2320_000_2340_000.parquet\n",
            "       key.frame_timestamp_micros  key.laser_name\n",
            "count                1.990000e+02           199.0\n",
            "mean                 1.557198e+15             1.0\n",
            "std                  5.759558e+06             0.0\n",
            "min                  1.557198e+15             1.0\n",
            "25%                  1.557198e+15             1.0\n",
            "50%                  1.557198e+15             1.0\n",
            "75%                  1.557198e+15             1.0\n",
            "max                  1.557198e+15             1.0\n",
            "File: 5026942594071056992_3120_000_3140_000.parquet\n",
            "       key.frame_timestamp_micros  key.laser_name\n",
            "count                1.990000e+02           199.0\n",
            "mean                 1.555462e+15             1.0\n",
            "std                  5.758945e+06             0.0\n",
            "min                  1.555462e+15             1.0\n",
            "25%                  1.555462e+15             1.0\n",
            "50%                  1.555462e+15             1.0\n",
            "75%                  1.555462e+15             1.0\n",
            "max                  1.555462e+15             1.0\n",
            "File: 8688567562597583972_940_000_960_000.parquet\n",
            "       key.frame_timestamp_micros  key.laser_name\n",
            "count                1.980000e+02           198.0\n",
            "mean                 1.555217e+15             1.0\n",
            "std                  5.730125e+06             0.0\n",
            "min                  1.555217e+15             1.0\n",
            "25%                  1.555217e+15             1.0\n",
            "50%                  1.555217e+15             1.0\n",
            "75%                  1.555217e+15             1.0\n",
            "max                  1.555217e+15             1.0\n",
            "File: 8993680275027614595_2520_000_2540_000.parquet\n",
            "       key.frame_timestamp_micros  key.laser_name\n",
            "count                1.980000e+02           198.0\n",
            "mean                 1.555280e+15             1.0\n",
            "std                  5.719616e+06             0.0\n",
            "min                  1.555280e+15             1.0\n",
            "25%                  1.555280e+15             1.0\n",
            "50%                  1.555280e+15             1.0\n",
            "75%                  1.555280e+15             1.0\n",
            "max                  1.555280e+15             1.0\n",
            "File: 4140965781175793864_460_000_480_000.parquet\n",
            "       key.frame_timestamp_micros  key.laser_name\n",
            "count                1.960000e+02           196.0\n",
            "mean                 1.559189e+15             1.0\n",
            "std                  5.757660e+06             0.0\n",
            "min                  1.559189e+15             1.0\n",
            "25%                  1.559189e+15             1.0\n",
            "50%                  1.559189e+15             1.0\n",
            "75%                  1.559189e+15             1.0\n",
            "max                  1.559189e+15             1.0\n",
            "File: 5638240639308158118_4220_000_4240_000.parquet\n",
            "       key.frame_timestamp_micros  key.laser_name\n",
            "count                1.990000e+02           199.0\n",
            "mean                 1.555268e+15             1.0\n",
            "std                  5.757322e+06             0.0\n",
            "min                  1.555268e+15             1.0\n",
            "25%                  1.555268e+15             1.0\n",
            "50%                  1.555268e+15             1.0\n",
            "75%                  1.555268e+15             1.0\n",
            "max                  1.555268e+15             1.0\n"
          ]
        }
      ]
    },
    {
      "cell_type": "code",
      "source": [
        "import pyarrow.parquet as pq\n",
        "import pandas as pd\n",
        "\n",
        "# Set the path to the Parquet file\n",
        "parquet_file_path = '/content/drive/MyDrive/testing/lidar_pose/file1.parquet'\n",
        "\n",
        "# Read the Parquet file into a Pyarrow table\n",
        "table = pq.read_table(parquet_file_path)\n",
        "\n",
        "# Convert the table to a Pandas DataFrame\n",
        "df = table.to_pandas()\n",
        "\n",
        "# Print the first 10 rows of the DataFrame\n",
        "print(df.head(10))"
      ],
      "metadata": {
        "colab": {
          "base_uri": "https://localhost:8080/"
        },
        "id": "aw1fuyX2gjmQ",
        "outputId": "8c27b370-2a27-4131-891a-089a014aafbd"
      },
      "execution_count": 6,
      "outputs": [
        {
          "output_type": "stream",
          "name": "stdout",
          "text": [
            "                                                                 key.segment_context_name  \\\n",
            "index                                                                                       \n",
            "2601205676330128831_4880_000_4900_000;155518323...  2601205676330128831_4880_000_4900_000   \n",
            "2601205676330128831_4880_000_4900_000;155518323...  2601205676330128831_4880_000_4900_000   \n",
            "2601205676330128831_4880_000_4900_000;155518323...  2601205676330128831_4880_000_4900_000   \n",
            "2601205676330128831_4880_000_4900_000;155518323...  2601205676330128831_4880_000_4900_000   \n",
            "2601205676330128831_4880_000_4900_000;155518323...  2601205676330128831_4880_000_4900_000   \n",
            "2601205676330128831_4880_000_4900_000;155518323...  2601205676330128831_4880_000_4900_000   \n",
            "2601205676330128831_4880_000_4900_000;155518323...  2601205676330128831_4880_000_4900_000   \n",
            "2601205676330128831_4880_000_4900_000;155518323...  2601205676330128831_4880_000_4900_000   \n",
            "2601205676330128831_4880_000_4900_000;155518323...  2601205676330128831_4880_000_4900_000   \n",
            "2601205676330128831_4880_000_4900_000;155518323...  2601205676330128831_4880_000_4900_000   \n",
            "\n",
            "                                                    key.frame_timestamp_micros  \\\n",
            "index                                                                            \n",
            "2601205676330128831_4880_000_4900_000;155518323...            1555183236298890   \n",
            "2601205676330128831_4880_000_4900_000;155518323...            1555183236398908   \n",
            "2601205676330128831_4880_000_4900_000;155518323...            1555183236498898   \n",
            "2601205676330128831_4880_000_4900_000;155518323...            1555183236598889   \n",
            "2601205676330128831_4880_000_4900_000;155518323...            1555183236698913   \n",
            "2601205676330128831_4880_000_4900_000;155518323...            1555183236798897   \n",
            "2601205676330128831_4880_000_4900_000;155518323...            1555183236898916   \n",
            "2601205676330128831_4880_000_4900_000;155518323...            1555183236998939   \n",
            "2601205676330128831_4880_000_4900_000;155518323...            1555183237098963   \n",
            "2601205676330128831_4880_000_4900_000;155518323...            1555183237198956   \n",
            "\n",
            "                                                    key.laser_name  \\\n",
            "index                                                                \n",
            "2601205676330128831_4880_000_4900_000;155518323...               1   \n",
            "2601205676330128831_4880_000_4900_000;155518323...               1   \n",
            "2601205676330128831_4880_000_4900_000;155518323...               1   \n",
            "2601205676330128831_4880_000_4900_000;155518323...               1   \n",
            "2601205676330128831_4880_000_4900_000;155518323...               1   \n",
            "2601205676330128831_4880_000_4900_000;155518323...               1   \n",
            "2601205676330128831_4880_000_4900_000;155518323...               1   \n",
            "2601205676330128831_4880_000_4900_000;155518323...               1   \n",
            "2601205676330128831_4880_000_4900_000;155518323...               1   \n",
            "2601205676330128831_4880_000_4900_000;155518323...               1   \n",
            "\n",
            "                                                      [LiDARPoseComponent].range_image_return1.values  \\\n",
            "index                                                                                                   \n",
            "2601205676330128831_4880_000_4900_000;155518323...  [0.0, 0.0, 0.0, 0.0, 0.0, 0.0, 0.0, 0.0, 0.0, ...   \n",
            "2601205676330128831_4880_000_4900_000;155518323...  [0.0, 0.0, 0.0, 0.0, 0.0, 0.0, 0.0, 0.0, 0.0, ...   \n",
            "2601205676330128831_4880_000_4900_000;155518323...  [0.0, 0.0, 0.0, 0.0, 0.0, 0.0, 0.0, 0.0, 0.0, ...   \n",
            "2601205676330128831_4880_000_4900_000;155518323...  [0.0, 0.0, 0.0, 0.0, 0.0, 0.0, 0.0, 0.0, 0.0, ...   \n",
            "2601205676330128831_4880_000_4900_000;155518323...  [0.0, 0.0, 0.0, 0.0, 0.0, 0.0, 0.0, 0.0, 0.0, ...   \n",
            "2601205676330128831_4880_000_4900_000;155518323...  [0.0, 0.0, 0.0, 0.0, 0.0, 0.0, 0.0, 0.0, 0.0, ...   \n",
            "2601205676330128831_4880_000_4900_000;155518323...  [0.0, 0.0, 0.0, 0.0, 0.0, 0.0, 0.0, 0.0, 0.0, ...   \n",
            "2601205676330128831_4880_000_4900_000;155518323...  [0.0, 0.0, 0.0, 0.0, 0.0, 0.0, 0.0, 0.0, 0.0, ...   \n",
            "2601205676330128831_4880_000_4900_000;155518323...  [0.0, 0.0, 0.0, 0.0, 0.0, 0.0, 0.0, 0.0, 0.0, ...   \n",
            "2601205676330128831_4880_000_4900_000;155518323...  [0.0, 0.0, 0.0, 0.0, 0.0, 0.0, 0.0, 0.0, 0.0, ...   \n",
            "\n",
            "                                                   [LiDARPoseComponent].range_image_return1.shape  \n",
            "index                                                                                              \n",
            "2601205676330128831_4880_000_4900_000;155518323...                                  [64, 2650, 6]  \n",
            "2601205676330128831_4880_000_4900_000;155518323...                                  [64, 2650, 6]  \n",
            "2601205676330128831_4880_000_4900_000;155518323...                                  [64, 2650, 6]  \n",
            "2601205676330128831_4880_000_4900_000;155518323...                                  [64, 2650, 6]  \n",
            "2601205676330128831_4880_000_4900_000;155518323...                                  [64, 2650, 6]  \n",
            "2601205676330128831_4880_000_4900_000;155518323...                                  [64, 2650, 6]  \n",
            "2601205676330128831_4880_000_4900_000;155518323...                                  [64, 2650, 6]  \n",
            "2601205676330128831_4880_000_4900_000;155518323...                                  [64, 2650, 6]  \n",
            "2601205676330128831_4880_000_4900_000;155518323...                                  [64, 2650, 6]  \n",
            "2601205676330128831_4880_000_4900_000;155518323...                                  [64, 2650, 6]  \n"
          ]
        }
      ]
    },
    {
      "cell_type": "code",
      "source": [
        "!pip install matplotlib"
      ],
      "metadata": {
        "id": "ihA61NXnsWwc"
      },
      "execution_count": null,
      "outputs": []
    },
    {
      "cell_type": "code",
      "source": [
        "print(df.columns)"
      ],
      "metadata": {
        "colab": {
          "base_uri": "https://localhost:8080/"
        },
        "id": "-Q5yGMxas2u4",
        "outputId": "9d29fbad-33f3-4db8-97a5-ba0558b67134"
      },
      "execution_count": 12,
      "outputs": [
        {
          "output_type": "stream",
          "name": "stdout",
          "text": [
            "Index(['key.segment_context_name', 'key.frame_timestamp_micros',\n",
            "       'key.laser_name', '[LiDARPoseComponent].range_image_return1.values',\n",
            "       '[LiDARPoseComponent].range_image_return1.shape'],\n",
            "      dtype='object')\n"
          ]
        }
      ]
    },
    {
      "cell_type": "code",
      "source": [
        "schema = parquet_file.schema\n",
        "print(schema)"
      ],
      "metadata": {
        "colab": {
          "base_uri": "https://localhost:8080/"
        },
        "id": "nz2x2b6dtUjw",
        "outputId": "f4ace34f-5979-4c2b-bd6a-6cc0ce242082"
      },
      "execution_count": 13,
      "outputs": [
        {
          "output_type": "stream",
          "name": "stdout",
          "text": [
            "<pyarrow._parquet.ParquetSchema object at 0x7fc6a2980e00>\n",
            "required group field_id=-1 schema {\n",
            "  optional binary field_id=-1 index (String);\n",
            "  optional binary field_id=-1 key.segment_context_name (String);\n",
            "  optional int64 field_id=-1 key.frame_timestamp_micros;\n",
            "  optional int32 field_id=-1 key.laser_name (Int(bitWidth=8, isSigned=true));\n",
            "  optional group field_id=-1 [LiDARPoseComponent].range_image_return1.values (List) {\n",
            "    repeated group field_id=-1 list {\n",
            "      optional float field_id=-1 item;\n",
            "    }\n",
            "  }\n",
            "  optional group field_id=-1 [LiDARPoseComponent].range_image_return1.shape (List) {\n",
            "    repeated group field_id=-1 list {\n",
            "      optional int32 field_id=-1 item;\n",
            "    }\n",
            "  }\n",
            "}\n",
            "\n"
          ]
        }
      ]
    },
    {
      "cell_type": "code",
      "source": [
        "import matplotlib.pyplot as plt\n",
        "# Extract the lidar data from the Parquet file\n",
        "lidar_data = table.to_pandas()['[LiDARPoseComponent].range_image_return1.shape'].shape[0]\n",
        "\n",
        "# Reshape the data to a 2D array\n",
        "lidar_data = lidar_data.reshape((-1, 5))\n",
        "\n",
        "# Plot the lidar points\n",
        "fig = plt.figure(figsize=(10, 10))\n",
        "ax = fig.add_subplot(111, projection='3d')\n",
        "ax.scatter(lidar_data[:, 0], lidar_data[:, 1], lidar_data[:, 2], s=1)\n",
        "ax.set_xlabel('X')\n",
        "ax.set_ylabel('Y')\n",
        "ax.set_zlabel('Z')\n",
        "plt.show()"
      ],
      "metadata": {
        "id": "GCaW1E75tIDC"
      },
      "execution_count": null,
      "outputs": []
    },
    {
      "cell_type": "code",
      "source": [
        "import matplotlib.pyplot as plt\n",
        "\n",
        "df = df.rename(columns={\n",
        "    'key.segment_context_name': 'segment_context_name',\n",
        "    'key.frame_timestamp_micros': 'frame_timestamp_micros',\n",
        "    'key.laser_name': 'laser_name',\n",
        "    '[LiDARPoseComponent].range_image_return1.values': 'range_image_return1_values',\n",
        "    '[LiDARPoseComponent].range_image_return1.shape': 'range_image_return1_shape'\n",
        "})\n",
        "\n",
        "# Plot the lidar points\n",
        "fig = plt.figure(figsize=(10, 10))\n",
        "ax = fig.add_subplot(111, projection='3d')\n",
        "ax.scatter(lidar_data[:, 0], lidar_data[:, 1], lidar_data[:, 2], s=1)\n",
        "plt.show()"
      ],
      "metadata": {
        "colab": {
          "base_uri": "https://localhost:8080/",
          "height": 575
        },
        "id": "jSwDnRgv-1WV",
        "outputId": "38619744-4bab-464a-8948-de4225bb8ad7"
      },
      "execution_count": 22,
      "outputs": [
        {
          "output_type": "display_data",
          "data": {
            "text/plain": [
              "<Figure size 720x720 with 1 Axes>"
            ],
            "image/png": "[encoded data removed]"
          },
          "metadata": {
            "needs_background": "light"
          }
        }
      ]
    },
    {
      "cell_type": "code",
      "source": [
        "import open3d as o3d\n",
        "\n",
        "# Convert the range image to a point cloud\n",
        "intrinsics = o3d.camera.PinholeCameraIntrinsic(2048, 64, 1996.48, 976.24, 2048.0, 64.0)\n",
        "lidar_pose = np.array([[0, -1, 0, 0], [0, 0, -1, 0], [1,"
      ],
      "metadata": {
        "id": "AYZaxzQKu5z_"
      },
      "execution_count": null,
      "outputs": []
    }
  ]
}